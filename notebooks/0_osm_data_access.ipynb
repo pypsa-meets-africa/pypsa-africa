{
 "cells": [
  {
   "cell_type": "markdown",
   "id": "45072a1b",
   "metadata": {},
   "source": [
    "# Load Open Street Maps Data\n",
    "\n",
    "This notebook is aimed to demonstrate how we obtain spatial data on power transmission lines. Our main data source are the Open Street Maps datasets. The `download_osm_data.py` script is used to extract OSM data for a world area requested by a user. The `config_osm_data.py` contains configuration data needed for such an extraction."
   ]
  },
  {
   "cell_type": "markdown",
   "id": "cb9bb658",
   "metadata": {},
   "source": [
    "## Set working folder"
   ]
  },
  {
   "cell_type": "code",
   "execution_count": 1,
   "id": "98cecfff",
   "metadata": {},
   "outputs": [
    {
     "name": "stdout",
     "output_type": "stream",
     "text": [
      "This is the repository path:  ./\n",
      "Had to go 1 folder(s) up.\n"
     ]
    }
   ],
   "source": [
    "import sys\n",
    "sys.path.append('../')  # to import helpers\n",
    "\n",
    "from scripts._helpers import _sets_path_to_root\n",
    "_sets_path_to_root(\"pypsa-africa\")"
   ]
  },
  {
   "cell_type": "markdown",
   "id": "c3271862",
   "metadata": {},
   "source": [
    "## Import nessesary packages\n",
    "\n",
    "Load Python packages and set visibility options:"
   ]
  },
  {
   "cell_type": "code",
   "execution_count": 2,
   "id": "9efb61cd",
   "metadata": {},
   "outputs": [],
   "source": [
    "import logging\n",
    "import sys\n",
    "import pandas as pd\n",
    "import requests\n",
    "import urllib3\n",
    "import time\n",
    "\n",
    "pd.set_option('display.max_columns', None)\n",
    "pd.set_option('display.max_colwidth', 70)\n",
    "\n",
    "logger = logging.getLogger(__name__)"
   ]
  },
  {
   "cell_type": "markdown",
   "id": "6e49b76f",
   "metadata": {},
   "source": [
    "Load local packages written to load OSM data:"
   ]
  },
  {
   "cell_type": "code",
   "execution_count": 3,
   "id": "fd7c4412",
   "metadata": {},
   "outputs": [],
   "source": [
    "from scripts.config_osm_data import continent_regions\n",
    "from scripts.config_osm_data import continents\n",
    "from scripts.config_osm_data import iso_to_geofk_dict\n",
    "from scripts.config_osm_data import world_iso\n",
    "from scripts.config_osm_data import world_geofk"
   ]
  },
  {
   "cell_type": "markdown",
   "id": "e88dfd30",
   "metadata": {},
   "source": [
    "## Management of geographical data\n",
    "\n",
    "OSM data are being organized by continents, macroregions and countries. Input data on country codes should correspond to ISO standard and be transformed into a valid OSM data request.\n",
    "\n",
    "The `world_geofk` and `world_iso` Python two-levels dictionaries are used to keep data on such organization according to OSM and ISO conventions, respectively. Define a couple of supplementary functions to work with these data structures. The first one `list_countries()` transforms an input dictionary into a list while the second `getContinentCountryIso()` retrieves the continent and country names by the country code."
   ]
  },
  {
   "cell_type": "code",
   "execution_count": 4,
   "id": "0a09e736",
   "metadata": {},
   "outputs": [],
   "source": [
    "def list_countries(w_dc):\n",
    "    countries_list = []\n",
    "\n",
    "    for continent in w_dc:\n",
    "        country = w_dc[continent]\n",
    "        countries_list.append(list(country.keys()))\n",
    "        \n",
    "    return countries_list \n",
    "\n",
    "def getContinentCountryIso(code):\n",
    "    for continent in world_iso:\n",
    "        country = world_iso[continent].get(code, 0)\n",
    "        if country:\n",
    "            return continent, country\n",
    "    return continent, country\n",
    "\n",
    "list_word_iso_countries = list_countries(world_iso)\n",
    "list_word_geofk_countries = list_countries(world_geofk)"
   ]
  },
  {
   "cell_type": "markdown",
   "id": "66151180",
   "metadata": {},
   "source": [
    "### Tackle ISO-OSM differences\n",
    "\n",
    "Let see what are the differences between ISO and OSM naming conventions. Flatten each of the countries lists with `sum(a_list, [])` and keep only unique elements by `set()` transformation. Then substraction will give a differences between countries codes used by ISO and OSM:"
   ]
  },
  {
   "cell_type": "code",
   "execution_count": 5,
   "id": "85495bcf",
   "metadata": {},
   "outputs": [],
   "source": [
    "iso_set = set(sum(list_word_iso_countries, []))\n",
    "geofk_set = set(sum(list_word_geofk_countries, []))\n",
    "\n",
    "iso_not_in_geofk = iso_set - geofk_set\n",
    "geofk_not_in_iso = geofk_set - iso_set"
   ]
  },
  {
   "cell_type": "markdown",
   "id": "6bcaeaeb",
   "metadata": {},
   "source": [
    "Translate obtained two-digits codes into human readable tulpes and see for which **countries GeoFabrik naming differs from ISO**:"
   ]
  },
  {
   "cell_type": "code",
   "execution_count": 6,
   "id": "7a6bec42",
   "metadata": {},
   "outputs": [
    {
     "name": "stdout",
     "output_type": "stream",
     "text": [
      "('africa', 'western-sahara')\n",
      "('africa', 'gambia')\n",
      "('asia', 'brunei')\n",
      "('asia', 'singapore')\n",
      "('asia', 'malaysia')\n",
      "('asia', 'palestine')\n",
      "('europe', 'san-marino')\n",
      "('asia', 'bahrain')\n",
      "('asia', 'israel')\n",
      "('africa', 'senegal')\n",
      "('asia', 'kuwait')\n",
      "('asia', 'macao')\n",
      "('asia', 'united-arab-emirates')\n",
      "('asia', 'saudi-arabia')\n",
      "('asia', 'hong kong')\n",
      "('asia', 'qatar')\n",
      "('asia', 'oman')\n"
     ]
    }
   ],
   "source": [
    "for cnt in list(iso_not_in_geofk):\n",
    "    print(getContinentCountryIso(cnt))"
   ]
  },
  {
   "cell_type": "markdown",
   "id": "be315ccd",
   "metadata": {},
   "source": [
    "These differences between ISO and OSM are tackled by implementing an `iso_to_geofk_dict` dictionary which is used to transform ISO inputs into codes which are relevant for the OSM server. So, each ISO country code which is not accessible in OSM directly should be included into the `iso_to_geofk_dict` transformation dictionary otherwise this code would be lost for processing:"
   ]
  },
  {
   "cell_type": "code",
   "execution_count": 7,
   "id": "c084ff39",
   "metadata": {},
   "outputs": [],
   "source": [
    "lost_codes = set(iso_to_geofk_dict.keys()) - set(iso_not_in_geofk)"
   ]
  },
  {
   "cell_type": "markdown",
   "id": "12637af6",
   "metadata": {},
   "source": [
    "If everething works properly, the `lost_codes` set set should be empty:"
   ]
  },
  {
   "cell_type": "code",
   "execution_count": 8,
   "id": "021fd497",
   "metadata": {},
   "outputs": [
    {
     "name": "stdout",
     "output_type": "stream",
     "text": [
      "Any ISO codes not resolved by GeoFbk and a transform dictionary?\n",
      "...everything seems to work properly\n"
     ]
    }
   ],
   "source": [
    "print(\"Any ISO codes not resolved by GeoFbk and a transform dictionary?\")\n",
    "if len(lost_codes) > 0:\n",
    "    print(lost_codes)\n",
    "    for cnt in list(lost_codes):\n",
    "        print(getContinentCountryIso(cnt))\n",
    "else:\n",
    "    print(\"...everything seems to work properly\")"
   ]
  },
  {
   "cell_type": "markdown",
   "id": "dbd2f8d2",
   "metadata": {},
   "source": [
    "### Work with macroregions\n",
    "\n",
    "A built-in `continent_regions` dictionary contains shortcuts for different regions of the world. To see how it works, let's unpack and hold unique country codes only:"
   ]
  },
  {
   "cell_type": "code",
   "execution_count": 9,
   "id": "563e3f7f",
   "metadata": {},
   "outputs": [],
   "source": [
    "macro_regions_list = list(dict(**continent_regions).values())\n",
    "# flatten list and keep unique elements only\n",
    "macro_reg_set = set(sum(macro_regions_list, []))"
   ]
  },
  {
   "cell_type": "markdown",
   "id": "3ecebbe3",
   "metadata": {},
   "source": [
    "The macro regions dictionary contains fewer countries as compared with the whole ISO world countries set:"
   ]
  },
  {
   "cell_type": "code",
   "execution_count": 10,
   "id": "a69d8a9f",
   "metadata": {},
   "outputs": [
    {
     "name": "stdout",
     "output_type": "stream",
     "text": [
      "167\n",
      "169\n"
     ]
    }
   ],
   "source": [
    "print(len(macro_reg_set))\n",
    "print(len(iso_set))"
   ]
  },
  {
   "cell_type": "markdown",
   "id": "8e15efaf",
   "metadata": {},
   "source": [
    "The missed country codes can be translated into a plain language with `getContinentCountryIso()` transformation function:"
   ]
  },
  {
   "cell_type": "code",
   "execution_count": 11,
   "id": "38273943",
   "metadata": {},
   "outputs": [
    {
     "name": "stdout",
     "output_type": "stream",
     "text": [
      "('africa', 'guinea-bissau')\n",
      "('africa', 'somalia')\n"
     ]
    }
   ],
   "source": [
    "for cnt in list(iso_set - macro_reg_set):\n",
    "    print(getContinentCountryIso(cnt))"
   ]
  },
  {
   "cell_type": "markdown",
   "id": "1d0533ba",
   "metadata": {},
   "source": [
    "Spatial data on Somalia, Guinea-Bissau and Guyane do not yet present in OSM."
   ]
  },
  {
   "cell_type": "markdown",
   "id": "549ade7c",
   "metadata": {},
   "source": [
    "### Work with continents codes\n",
    "\n",
    "Note that there are three kinds of input for the regions:\n",
    "1) a two-digit ISO country code `world_iso`\n",
    "2) a shortcut for a world region `continent_regions`\n",
    "3) a full name of the continent which should correspond to one of the `world_iso` keys"
   ]
  },
  {
   "cell_type": "code",
   "execution_count": 12,
   "id": "1b902146",
   "metadata": {},
   "outputs": [
    {
     "name": "stdout",
     "output_type": "stream",
     "text": [
      "dict_keys(['africa', 'asia', 'australia', 'europe', 'north_america', 'latin_america', 'central_america'])\n"
     ]
    }
   ],
   "source": [
    "print(world_iso.keys())"
   ]
  },
  {
   "cell_type": "markdown",
   "id": "9f7ba613",
   "metadata": {},
   "source": [
    "There are continents ISO codes as well:"
   ]
  },
  {
   "cell_type": "code",
   "execution_count": 13,
   "id": "5441493b",
   "metadata": {
    "scrolled": true
   },
   "outputs": [
    {
     "name": "stdout",
     "output_type": "stream",
     "text": [
      "{'LA': 'latin_america', 'SA': 'south_america', 'CA': 'central_america', 'AS': 'asia', 'OC': 'australia', 'AF': 'africa', 'EU': 'europe'}\n"
     ]
    }
   ],
   "source": [
    "print(continents)"
   ]
  },
  {
   "cell_type": "markdown",
   "id": "1fecc38b",
   "metadata": {},
   "source": [
    "But continents codes can't be used as geographical inputs as they have some intersections with the countries codes:"
   ]
  },
  {
   "cell_type": "code",
   "execution_count": 14,
   "id": "6a348038",
   "metadata": {},
   "outputs": [
    {
     "name": "stdout",
     "output_type": "stream",
     "text": [
      "SA ('asia', 'saudi-arabia')\n",
      "AF ('asia', 'afghanistan')\n",
      "LA ('asia', \"lao-people's-democratic-republic\")\n",
      "CA ('north_america', 'canada')\n"
     ]
    }
   ],
   "source": [
    "for cnt in (set(continents).intersection(iso_set)):\n",
    "    print(cnt, getContinentCountryIso(cnt))     "
   ]
  },
  {
   "cell_type": "markdown",
   "id": "04d9d634",
   "metadata": {},
   "source": [
    "# Check Availability of OSM data\n",
    "\n",
    "The requested geographical code is used to construct an url to request OSM data from the GeoFabrik server. The url consists of the continent and country names defined according to the GeoFabrik conventions. OSM naming is kept in the `world_geofk` dictionary which has a similar two-level structure as `world_iso`. A `getContinentCountry()` function is defined to transform a requested two-digit country code into a `continent, country` tulpe according to OSM naming rules. A valid (hopefully) url is formed with a function `build_url()` to find a needed data chunk on the GeoFabrik server."
   ]
  },
  {
   "cell_type": "code",
   "execution_count": 15,
   "id": "88a5e6e1",
   "metadata": {},
   "outputs": [],
   "source": [
    "def getContinentCountry(code):\n",
    "    for continent in world_geofk:\n",
    "        country = world_geofk[continent].get(code, 0)\n",
    "        if country:\n",
    "            return continent, country\n",
    "    return continent, country\n",
    "\n",
    "def build_url(country_code, update, verify):\n",
    "    continent, country_name = getContinentCountry(country_code)\n",
    "    geofabrik_filename = f\"{country_name}-latest.osm.pbf\"\n",
    "    geofabrik_url = f\"https://download.geofabrik.de/{continent}/{geofabrik_filename}\"\n",
    "    return geofabrik_url\n"
   ]
  },
  {
   "cell_type": "markdown",
   "id": "72fd1784",
   "metadata": {},
   "source": [
    "Check how OSM data access work. As an example we'll take only three countries from the codes list as too often requests can cause some troubles:"
   ]
  },
  {
   "cell_type": "code",
   "execution_count": 16,
   "id": "984f4606",
   "metadata": {
    "scrolled": true
   },
   "outputs": [
    {
     "name": "stdout",
     "output_type": "stream",
     "text": [
      "('africa', 'angola')\n",
      "https://download.geofabrik.de/africa/angola-latest.osm.pbf\n",
      "Error code:429. The pause between loads should be increased.\n"
     ]
    }
   ],
   "source": [
    "problem_urls = []\n",
    "problem_codes = []\n",
    "problem_domain = []\n",
    "\n",
    "# flatten list\n",
    "world_geofk_codes = sum(list_word_geofk_countries, [])\n",
    "\n",
    "for cnt in world_geofk_codes[1:2]:    \n",
    "    print(getContinentCountry(cnt))\n",
    "    url = build_url(country_code=cnt, update=False, verify=False)\n",
    "    print(url)\n",
    "    time.sleep(5)\n",
    "    \n",
    "    with requests.get(url, stream=True, verify=True) as r:\n",
    "        request = requests.head(url)\n",
    "        if r.status_code == 200:\n",
    "            print(\"URL '\" + url + \"' is working\")\n",
    "        else:\n",
    "            problem_urls.append(url)\n",
    "            problem_codes.append(cnt)\n",
    "            problem_domain.append(getContinentCountry(cnt))\n",
    "            \n",
    "            if r.status_code == 429:\n",
    "                print(\"Error code:\" + str(r.status_code) + \". The pause between loads should be increased.\")\n",
    "            else:\n",
    "                print(\"There some troubles with \" + url + \" Error code:\" + str(r.status_code))"
   ]
  },
  {
   "cell_type": "markdown",
   "id": "bdcec273",
   "metadata": {},
   "source": [
    "Having a look on the results of our shortened check:"
   ]
  },
  {
   "cell_type": "code",
   "execution_count": 17,
   "id": "bdff2ef7",
   "metadata": {},
   "outputs": [
    {
     "name": "stdout",
     "output_type": "stream",
     "text": [
      "There were troubles in reaching following urls:\n",
      "['https://download.geofabrik.de/africa/angola-latest.osm.pbf']\n",
      "Country codes to be checked:\n",
      "['AO']\n",
      "[('africa', 'angola')]\n"
     ]
    }
   ],
   "source": [
    "if len(problem_urls) > 0:              \n",
    "    print(\"There were troubles in reaching following urls:\") \n",
    "    print(problem_urls) \n",
    "    print(\"Country codes to be checked:\")\n",
    "    print(problem_codes) \n",
    "    print(problem_domain)\n",
    "else:\n",
    "    print(\"All requested urls are available\")"
   ]
  }
 ],
 "metadata": {
  "kernelspec": {
   "display_name": "Python 3 (ipykernel)",
   "language": "python",
   "name": "python3"
  },
  "language_info": {
   "codemirror_mode": {
    "name": "ipython",
    "version": 3
   },
   "file_extension": ".py",
   "mimetype": "text/x-python",
   "name": "python",
   "nbconvert_exporter": "python",
   "pygments_lexer": "ipython3",
   "version": "3.9.7"
  }
 },
 "nbformat": 4,
 "nbformat_minor": 5
}

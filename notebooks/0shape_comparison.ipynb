{
 "cells": [
  {
   "cell_type": "markdown",
   "metadata": {},
   "source": [
    "# Notebook for plotting the main shapes along the data workflow\n",
    "### Jupyter notebook need to be improved\n",
    "The considered shapes to be plotted refer to the output of the following scripts:\n",
    "- build_shapes\n",
    "- download_osm_data\n",
    "- clean_osm_data\n",
    "- build_osm_network\n",
    "- base_network\n",
    "- build_bus_regions"
   ]
  },
  {
   "cell_type": "markdown",
   "metadata": {},
   "source": [
    "## Load packages"
   ]
  },
  {
   "cell_type": "code",
   "execution_count": null,
   "metadata": {},
   "outputs": [],
   "source": [
    "import xarray as xr\n",
    "import geopandas as gpd\n",
    "import pandas as pd\n",
    "import matplotlib.pyplot as plt\n",
    "import numpy as np\n",
    "import requests\n",
    "import pypsa\n",
    "import shutil\n",
    "from rasterio.plot import show\n",
    "from shapely.geometry import LineString, Point\n",
    "from shapely.wkt import loads\n",
    "from collections import Counter\n",
    "\n",
    "import os\n",
    "import sys\n",
    "\n",
    "sys.path.append(\"../\")  # to import helpers\n",
    "from scripts._helpers import sets_path_to_root\n",
    "\n",
    "sets_path_to_root(\"pypsa-africa\")"
   ]
  },
  {
   "cell_type": "markdown",
   "metadata": {},
   "source": [
    "## Build shapes\n",
    "\n",
    "Load build_shapes output and plot them"
   ]
  },
  {
   "cell_type": "code",
   "execution_count": null,
   "metadata": {},
   "outputs": [],
   "source": [
    "# load shapes\n",
    "continent = gpd.read_file(\"resources/country_shapes.geojson\")\n",
    "off_shore = gpd.read_file(\"resources/offshore_shapes.geojson\")\n",
    "gadm_shapes = gpd.read_file(\"resources/gadm_shapes.geojson\")"
   ]
  },
  {
   "cell_type": "code",
   "execution_count": null,
   "metadata": {},
   "outputs": [],
   "source": [
    "ax = gadm_shapes.boundary.plot(color=\"blue\")\n",
    "# off_shore.boundary.plot(ax=ax, color=\"green\")\n",
    "# continent.boundary.plot(ax=ax, color=\"red\")\n",
    "plt.axis(\"off\")\n",
    "plt.savefig(\"shapes_ZA.png\")"
   ]
  },
  {
   "cell_type": "markdown",
   "metadata": {},
   "source": [
    "## download_osm_data\n",
    "\n",
    "Load and plot the raw data downloaded by the power extractor package"
   ]
  },
  {
   "cell_type": "code",
   "execution_count": null,
   "metadata": {},
   "outputs": [],
   "source": [
    "# plot output download_osm_data\n",
    "df_substations_osm_download = gpd.read_file(\n",
    "    os.getcwd() + \"/data/raw/africa_all_raw_substations.geojson\"\n",
    ")\n",
    "df_lines_osm_download = gpd.read_file(\n",
    "    os.getcwd() + \"/data/raw/africa_all_raw_lines.geojson\"\n",
    ")\n",
    "\n",
    "ax = continent.plot(figsize=(10, 10))\n",
    "off_shore.plot(ax=ax)\n",
    "df_substations_osm_download.plot(ax=ax, color=\"orange\")\n",
    "df_lines_osm_download.plot(ax=ax, color=\"yellow\")\n",
    "# df_lines_osm_download[df_lines_osm_download.Country == \"TD\"].plot(ax=ax, color=\"yellow\")\n",
    "# plt.axis(\"off\")\n",
    "# plt.savefig(\"network.png\")"
   ]
  },
  {
   "cell_type": "code",
   "execution_count": null,
   "metadata": {},
   "outputs": [],
   "source": [
    "# df_lines_osm_download[df_lines_osm_download.Country == \"TD\"]#.geometry.boundary#.dropna(subset=[\"tags.voltage\"])"
   ]
  },
  {
   "cell_type": "code",
   "execution_count": null,
   "metadata": {},
   "outputs": [],
   "source": [
    "# analyses buses\n",
    "\n",
    "cnt_buses = Counter(df_substations_osm_download[\"tags.voltage\"])\n",
    "\n",
    "cnt_buses_outliers = {\n",
    "    key: value\n",
    "    for (key, value) in cnt_buses.items()\n",
    "    if key is None or not key.isnumeric()\n",
    "}\n",
    "\n",
    "cnt_buses_outliers\n",
    "\n",
    "# sum(list(cnt_buses.values()))"
   ]
  },
  {
   "cell_type": "code",
   "execution_count": null,
   "metadata": {},
   "outputs": [],
   "source": [
    "# analyses lines\n",
    "\n",
    "cnt_lines = Counter(df_lines_osm_download[\"tags.voltage\"])\n",
    "\n",
    "cnt_lines_outliers = {\n",
    "    key: value\n",
    "    for (key, value) in cnt_lines.items()\n",
    "    if key is None or not key.isnumeric()\n",
    "}\n",
    "\n",
    "cnt_lines_outliers"
   ]
  },
  {
   "cell_type": "markdown",
   "metadata": {},
   "source": [
    "## clean_osm_data\n",
    "\n",
    "Load and plot the data filtered by the clean_osm_data script"
   ]
  },
  {
   "cell_type": "code",
   "execution_count": null,
   "metadata": {},
   "outputs": [],
   "source": [
    "# plot output clean_osm_data\n",
    "df_substations_osm_clean = gpd.read_file(\n",
    "    os.getcwd() + \"/data/clean/africa_all_substations.geojson\"\n",
    ")\n",
    "df_lines_osm_clean = gpd.read_file(os.getcwd() + \"/data/clean/africa_all_lines.geojson\")\n",
    "\n",
    "ax = continent.plot(figsize=(10, 10))\n",
    "off_shore.plot(ax=ax)\n",
    "df_substations_osm_clean.plot(ax=ax, color=\"orange\")\n",
    "df_lines_osm_clean.plot(ax=ax, color=\"yellow\")"
   ]
  },
  {
   "cell_type": "markdown",
   "metadata": {},
   "source": [
    "## build_osm_network\n",
    "\n",
    "Load and plot the data of the network constructed by the build_osm_network script"
   ]
  },
  {
   "cell_type": "code",
   "execution_count": null,
   "metadata": {},
   "outputs": [],
   "source": [
    "# plot output build_osm_network\n",
    "df_substations_osm_build_network_pd = pd.read_csv(\n",
    "    os.getcwd() + \"/data/base_network/africa_all_buses_build_network.csv\"\n",
    ")\n",
    "df_lines_osm_build_network_pd = pd.read_csv(\n",
    "    os.getcwd() + \"/data/base_network/africa_all_lines_build_network.csv\"\n",
    ")\n",
    "\n",
    "df_substations_osm_build_network_pd[\"geometry\"] = gpd.points_from_xy(\n",
    "    df_substations_osm_build_network_pd.lon, df_substations_osm_build_network_pd.lat\n",
    ")\n",
    "# df_lines_osm_build_network_pd.dropna(subset=\"geometry\", inplace=True)\n",
    "df_lines_osm_build_network_pd[\"geometry\"] = df_lines_osm_build_network_pd[\n",
    "    \"geometry\"\n",
    "].map(loads)\n",
    "\n",
    "# df_substations_osm_build_network_pd = df_substations_osm_build_network_pd[df_substations_osm_build_network_pd.country==\"EH\"]\n",
    "# df_lines_osm_build_network_pd = df_lines_osm_build_network_pd[df_lines_osm_build_network_pd.country==\"EH\"]\n",
    "\n",
    "df_substations_osm_build_network = gpd.GeoDataFrame(\n",
    "    geometry=df_substations_osm_build_network_pd.geometry, crs=\"epsg:4326\"\n",
    ")\n",
    "df_lines_osm_build_network = gpd.GeoDataFrame(\n",
    "    geometry=df_lines_osm_build_network_pd.geometry, crs=\"epsg:4326\"\n",
    ")\n",
    "\n",
    "ax = continent.plot(figsize=(10, 10))\n",
    "off_shore.plot(ax=ax)\n",
    "df_substations_osm_build_network.plot(ax=ax, color=\"orange\")\n",
    "df_lines_osm_build_network.plot(ax=ax, color=\"yellow\")"
   ]
  },
  {
   "cell_type": "code",
   "execution_count": null,
   "metadata": {},
   "outputs": [],
   "source": [
    "df_substations_osm_build_network_pd[\n",
    "    np.abs(df_substations_osm_build_network_pd[\"lat\"] - 7.4710) < 0.001\n",
    "]"
   ]
  },
  {
   "cell_type": "code",
   "execution_count": null,
   "metadata": {},
   "outputs": [],
   "source": [
    "df_lines_osm_build_network_pd[\n",
    "    (np.abs(df_lines_osm_build_network_pd.bus0_lat - 7.471) < 0.01)\n",
    "    | (np.abs(df_lines_osm_build_network_pd.bus1_lon - 7.471))\n",
    "]"
   ]
  },
  {
   "cell_type": "code",
   "execution_count": null,
   "metadata": {},
   "outputs": [],
   "source": [
    "df_lines_osm_build_network_pd[\n",
    "    (df_lines_osm_build_network_pd.bus0 == 97)\n",
    "    | (df_lines_osm_build_network_pd.bus1 == 97)\n",
    "]"
   ]
  },
  {
   "cell_type": "code",
   "execution_count": null,
   "metadata": {},
   "outputs": [],
   "source": []
  },
  {
   "cell_type": "code",
   "execution_count": null,
   "metadata": {},
   "outputs": [],
   "source": [
    "import hvplot.pandas\n",
    "\n",
    "df_substations_osm_build_network.hvplot(\n",
    "    geo=True,\n",
    "    size=10,  # buses[\"tag_area\"]**(0.5)/10,\n",
    "    frame_height=750,\n",
    "    alpha=0.4,\n",
    "    tiles=\"CartoLight\",\n",
    "    hover_cols=[\"bus_id\"],\n",
    "    color=\"orange\",\n",
    ") * df_lines_osm_build_network.hvplot(geo=True, alpha=0.4, hover_cols=[\"line_id\"]).opts(\n",
    "    active_tools=[\"pan\", \"wheel_zoom\"]\n",
    ")"
   ]
  },
  {
   "cell_type": "code",
   "execution_count": null,
   "metadata": {},
   "outputs": [],
   "source": [
    "df_substations_osm_build_network_pd"
   ]
  },
  {
   "cell_type": "code",
   "execution_count": null,
   "metadata": {},
   "outputs": [],
   "source": [
    "ax = continent.boundary.plot(figsize=(10, 10))\n",
    "# off_shore.plot(ax=ax)\n",
    "df_substations_osm_build_network.plot(ax=ax, color=\"blue\")\n",
    "df_lines_osm_build_network.plot(ax=ax, color=\"orange\")\n",
    "plt.axis(\"off\")\n",
    "plt.savefig(\"map.png\")"
   ]
  },
  {
   "cell_type": "code",
   "execution_count": null,
   "metadata": {},
   "outputs": [],
   "source": [
    "df_lines_osm_build_network_pd[\n",
    "    df_lines_osm_build_network_pd.country == \"NG\"\n",
    "]  # .geometry.boundary#.dropna(subset=[\"tags.voltage\"])\n",
    "# df_lines_osm_build_network_pd[df_lines_osm_build_network_pd.line_id == \"452716570-1\"].copy().iloc[0]\n",
    "# .geometry[0].bounds\n",
    "# .boundary#.iloc[7402]"
   ]
  },
  {
   "cell_type": "markdown",
   "metadata": {},
   "source": [
    "## base_network\n",
    "\n",
    "Load and plot the data of the network model implemented in PyPSA by the base_network script"
   ]
  },
  {
   "cell_type": "code",
   "execution_count": null,
   "metadata": {},
   "outputs": [],
   "source": [
    "# plot output base_network\n",
    "n = pypsa.Network(os.getcwd() + \"/networks/base.nc\")\n",
    "\n",
    "lines_raw = n.lines.copy()\n",
    "lines_raw[\"geometry\"] = lines_raw[\"geometry\"].map(loads)\n",
    "# [LineString([Point(x.bus0_lon, x.bus0_lat), Point(x.bus1_lon, x.bus1_lat)]) for index, x in lines_raw.iterrows()\n",
    "#     if (x.bus0_lat is not None) and (x.bus0_lon is not None) and (x.bus1_lat is not None) and (x.bus1_lon is not None)]\n",
    "lines = gpd.GeoDataFrame(geometry=lines_raw.geometry, crs=\"epsg:4326\")\n",
    "\n",
    "buses_raw = n.buses.copy()\n",
    "buses_raw[\"geometry\"] = gpd.points_from_xy(buses_raw.lon, buses_raw.lat)\n",
    "buses = gpd.GeoDataFrame(geometry=buses_raw.geometry, crs=\"epsg:4326\")\n",
    "\n",
    "continent = gpd.read_file(\"resources/country_shapes.geojson\")\n",
    "off_shore = gpd.read_file(\"resources/offshore_shapes.geojson\")\n",
    "\n",
    "ax = continent.plot(figsize=(10, 10))\n",
    "off_shore.plot(ax=ax)\n",
    "buses.plot(ax=ax, color=\"orange\")\n",
    "lines.plot(ax=ax, color=\"yellow\")"
   ]
  },
  {
   "cell_type": "code",
   "execution_count": null,
   "metadata": {},
   "outputs": [],
   "source": [
    "lines_raw[\n",
    "    lines_raw.country == \"NG\"\n",
    "]  # .geometry.boundary#.dropna(subset=[\"tags.voltage\"])"
   ]
  },
  {
   "cell_type": "markdown",
   "metadata": {},
   "source": [
    "## build_bus_regions\n",
    "\n",
    "Plot the shapes obtained with the build_bus_regions script"
   ]
  },
  {
   "cell_type": "code",
   "execution_count": null,
   "metadata": {},
   "outputs": [],
   "source": [
    "# plot output build_bus_regions\n",
    "\n",
    "bus_regions_continent = gpd.read_file(\"resources/regions_onshore.geojson\")\n",
    "bus_regions_off_shore = gpd.read_file(\"resources/regions_offshore.geojson\")\n",
    "\n",
    "ax = bus_regions_continent.plot(figsize=(10, 10))\n",
    "# bus_regions_continent[bus_regions_continent.country.map(lambda x: x in [\"TD\", \"SS\", \"CF\", \"SO\"])].plot(ax=ax, color=\"green\")\n",
    "bus_regions_off_shore.plot(ax=ax, color=\"red\")\n",
    "plt.axis(\"off\")\n",
    "plt.savefig(\"bus_regions.png\")"
   ]
  },
  {
   "cell_type": "code",
   "execution_count": null,
   "metadata": {},
   "outputs": [],
   "source": [
    "bus_regions_continent[bus_regions_continent.country == \"CF\"].plot()"
   ]
  },
  {
   "cell_type": "code",
   "execution_count": null,
   "metadata": {},
   "outputs": [],
   "source": []
  }
 ],
 "metadata": {
  "interpreter": {
   "hash": "64a9945f8f137ed15f7097a1dbedf9f1ce29494f0e33cb4fc5724026c999b930"
  },
  "kernelspec": {
   "display_name": "pypsa-africa",
   "language": "python",
   "name": "pypsa-africa"
  },
  "language_info": {
   "codemirror_mode": {
    "name": "ipython",
    "version": 3
   },
   "file_extension": ".py",
   "mimetype": "text/x-python",
   "name": "python",
   "nbconvert_exporter": "python",
   "pygments_lexer": "ipython3",
   "version": "3.9.7"
  }
 },
 "nbformat": 4,
 "nbformat_minor": 4
}

{
 "cells": [
  {
   "cell_type": "markdown",
   "metadata": {},
   "source": [
    "# Validation of the PyPSA-Africa Installed capacity\n",
    "\n",
    "This notebooks investigates the data quality of the African electric consumption\n",
    "data by comparing PyPSA, official Nigerian and [IRENA statistics](https://pxweb.irena.org/pxweb/en/IRENASTAT/IRENASTAT__Power%20Capacity%20and%20Generation/ELECCAP_2022_cycle2.px/).\n",
    "\n",
    "To reproduce the findings obtained in this notebook,\n",
    "please run the full snakemake workflow for the Africa.\n",
    "To do so, please set ``countries = [\"Africa\"]`` in the ``config.yaml`` file.\n",
    "\n",
    "Note. An unoptimized prepared network is sufficient for this notebook. "
   ]
  },
  {
   "cell_type": "markdown",
   "metadata": {},
   "source": [
    "## Preparation"
   ]
  },
  {
   "cell_type": "markdown",
   "metadata": {},
   "source": [
    "### Import packages"
   ]
  },
  {
   "cell_type": "code",
   "execution_count": 1,
   "metadata": {},
   "outputs": [],
   "source": [
    "# import packages\n",
    "\n",
    "import logging\n",
    "import os\n",
    "\n",
    "import pypsa\n",
    "import numpy as np\n",
    "import matplotlib.pyplot as plt\n",
    "import pandas as pd\n",
    "\n",
    "logger = logging.getLogger(__name__)\n",
    "\n",
    "pd.set_option(\"display.max_columns\", None)\n",
    "pd.set_option(\"display.max_colwidth\", 70)"
   ]
  },
  {
   "cell_type": "markdown",
   "metadata": {},
   "source": [
    "### Set main directory to root folder"
   ]
  },
  {
   "cell_type": "code",
   "execution_count": 2,
   "metadata": {},
   "outputs": [
    {
     "name": "stdout",
     "output_type": "stream",
     "text": [
      "This is the repository path:  /data/davidef/gitdf/pypsa-africa\n",
      "Had to go 2 folder(s) up.\n"
     ]
    }
   ],
   "source": [
    "# set current folders\n",
    "import sys\n",
    "\n",
    "sys.path.append(\"../../\")  # adds path to $ .../pypsa-africa\n",
    "from scripts._helpers import sets_path_to_root\n",
    "\n",
    "sets_path_to_root(\"pypsa-africa\")  # moves path to root"
   ]
  },
  {
   "cell_type": "markdown",
   "metadata": {},
   "source": [
    "## 1. Load data "
   ]
  },
  {
   "cell_type": "markdown",
   "metadata": {},
   "source": [
    "#### IRENA data\n",
    "Retrieved from [IRENA statistics](https://pxweb.irena.org/pxweb/en/IRENASTAT/IRENASTAT__Power%20Capacity%20and%20Generation/ELECCAP_2022_cycle2.px/).\\\n",
    "Please, download the statistics for 2020 for all the world and specify the url specified above."
   ]
  },
  {
   "cell_type": "code",
   "execution_count": 3,
   "metadata": {},
   "outputs": [],
   "source": [
    "from scripts._helpers import country_name_2_two_digits  # _helpers are from pypsa\n",
    "\n",
    "year_select = 2020\n",
    "\n",
    "IRENA_path = os.getcwd() + \"/ELECCAP_20220804-155822.csv\"\n",
    "df_irena = pd.read_csv(IRENA_path, skiprows=2, encoding=\"latin-1\")\n",
    "df_irena = df_irena[df_irena.loc[:, \"Year\"] == year_select]\n",
    "df_irena = df_irena.iloc[:, [0, 1, 2, 4]]\n",
    "# df = df[df[\"iso_code\"].notna()]  # removes antartica\n",
    "df_irena[\"alpha2\"] = df_irena.loc[:, \"Country/area\"].apply(\n",
    "    lambda x: country_name_2_two_digits(x)\n",
    ")\n",
    "# electricity_demand_owid = df\n",
    "# electricity_demand_owid.tail(2)"
   ]
  },
  {
   "cell_type": "markdown",
   "metadata": {},
   "source": [
    "#### PyPSA generator data\n",
    "\n",
    "Loads the PyPSA generators data"
   ]
  },
  {
   "cell_type": "markdown",
   "metadata": {},
   "source": [
    "##### Load data from the network and create normalized dataframe"
   ]
  },
  {
   "cell_type": "code",
   "execution_count": 4,
   "metadata": {},
   "outputs": [
    {
     "name": "stderr",
     "output_type": "stream",
     "text": [
      "INFO:pypsa.io:Imported network elec.nc has buses, carriers, generators, lines, links, loads, storage_units, transformers\n"
     ]
    },
    {
     "data": {
      "text/plain": [
       "carrier\n",
       "biomass           217.837000\n",
       "coal            29532.738536\n",
       "gas             45401.031803\n",
       "geothermal        147.300000\n",
       "hydro           30760.702201\n",
       "nuclear          1794.097153\n",
       "oil             21583.174741\n",
       "onshore wind     6407.303693\n",
       "solar            9213.042628\n",
       "Name: p_nom, dtype: float64"
      ]
     },
     "execution_count": 4,
     "metadata": {},
     "output_type": "execute_result"
    }
   ],
   "source": [
    "addelectricity_network_path = os.getcwd() + \"/networks/elec.nc\"\n",
    "pypsa_network = pypsa.Network(addelectricity_network_path)\n",
    "\n",
    "# statistics of non-storage units\n",
    "installed_capacity_nostorages = pypsa_network.generators.copy()\n",
    "# add country column\n",
    "installed_capacity_nostorages[\"alpha2\"] = installed_capacity_nostorages.bus.map(\n",
    "    lambda x: pypsa_network.buses.country.loc[x]\n",
    ")\n",
    "installed_capacity_nostorages.loc[\n",
    "    installed_capacity_nostorages[\"carrier\"].isin([\"ror\"]), \"carrier\"\n",
    "] = \"hydro\"\n",
    "installed_capacity_nostorages.loc[\n",
    "    installed_capacity_nostorages[\"carrier\"] == \"onwind\", \"carrier\"\n",
    "] = \"onshore wind\"\n",
    "installed_capacity_nostorages.loc[\n",
    "    installed_capacity_nostorages[\"carrier\"].isin([\"offwind-ac\", \"off-shore-dc\"]),\n",
    "    \"carrier\",\n",
    "] = \"offshore wind\"\n",
    "installed_capacity_nostorages.loc[\n",
    "    installed_capacity_nostorages[\"carrier\"].isin([\"CCGT\", \"OCGT\"]), \"carrier\"\n",
    "] = \"gas\"\n",
    "installed_capacity_nostorages.loc[\n",
    "    installed_capacity_nostorages[\"carrier\"] == \"onwind\", \"carrier\"\n",
    "] = \"wind\"\n",
    "installed_capacity_nostorages_select = installed_capacity_nostorages.loc[\n",
    "    :, [\"alpha2\", \"carrier\", \"p_nom\"]\n",
    "]\n",
    "\n",
    "# statistics of storage units\n",
    "installed_capacity_storages = pypsa_network.storage_units.copy()\n",
    "# add country column\n",
    "installed_capacity_storages[\"alpha2\"] = installed_capacity_storages.bus.map(\n",
    "    lambda x: pypsa_network.buses.country.loc[x]\n",
    ")\n",
    "installed_capacity_storages.loc[\n",
    "    installed_capacity_storages[\"carrier\"] == \"PHS\", \"carrier\"\n",
    "] = \"hydro\"\n",
    "installed_capacity_storages_select = installed_capacity_storages.loc[\n",
    "    :, [\"alpha2\", \"carrier\", \"p_nom\"]\n",
    "]\n",
    "\n",
    "\n",
    "installed_capacity_raw = pd.concat(\n",
    "    [installed_capacity_storages_select, installed_capacity_nostorages_select]\n",
    ")\n",
    "installed_capacity = installed_capacity_raw.groupby([\"alpha2\", \"carrier\"])[\n",
    "    \"p_nom\"\n",
    "].sum()\n",
    "installed_capacity.groupby(\"carrier\").sum()"
   ]
  },
  {
   "cell_type": "markdown",
   "metadata": {},
   "source": [
    "##### Load PyPSA powerplant data to crosscheck data from the network"
   ]
  },
  {
   "cell_type": "code",
   "execution_count": 5,
   "metadata": {},
   "outputs": [
    {
     "data": {
      "text/plain": [
       "Fueltype\n",
       "Bioenergy       217.837000\n",
       "CCGT          15180.652692\n",
       "Geothermal      147.300000\n",
       "Hard Coal     29532.738536\n",
       "Hydro         30546.923053\n",
       "Nuclear        1794.097153\n",
       "OCGT          30220.379111\n",
       "Oil           21583.174741\n",
       "Waste            67.098994\n",
       "Name: Capacity, dtype: float64"
      ]
     },
     "execution_count": 5,
     "metadata": {},
     "output_type": "execute_result"
    }
   ],
   "source": [
    "powerplants_data = os.getcwd() + \"/resources/powerplants.csv\"\n",
    "available_generators = pd.read_csv(powerplants_data)\n",
    "installed_capacity_resources = available_generators.groupby([\"Country\", \"Fueltype\"])[\n",
    "    \"Capacity\"\n",
    "].sum()\n",
    "installed_capacity_resources.groupby([\"Fueltype\"]).sum()"
   ]
  },
  {
   "cell_type": "markdown",
   "metadata": {},
   "source": [
    "# 2. Validate\n",
    "\n",
    "#### Steps:\n",
    "- Specify year of interest of the IRENA dataset and the countries of interest\n",
    "- Harmonize IRENA dataset to the PyPSA standard\n",
    "- Align dataframe naming and temporal resolution\n",
    "- Merge dataframe\n"
   ]
  },
  {
   "cell_type": "markdown",
   "metadata": {},
   "source": [
    "##### Specify year of the analysis and the countries of interest"
   ]
  },
  {
   "cell_type": "code",
   "execution_count": 6,
   "metadata": {},
   "outputs": [
    {
     "data": {
      "text/plain": [
       "array(['ZA', 'MA', 'SD', 'BW', 'ER', 'SL', 'DZ', 'NG', 'RW', 'TN', 'EG',\n",
       "       'GH', 'KE', 'ZM', 'CG', 'CI', 'EH', 'ZW', 'TZ', 'TG', 'UG', 'NE',\n",
       "       'BJ', 'LY', 'ET', 'MG', 'CM', 'CF', 'GM', 'SN', 'GQ', 'AO', 'GW',\n",
       "       'BF', 'DJ', 'MR', 'GN', 'LR', 'SZ', 'MW', 'GA', 'CD', 'SS', 'NA',\n",
       "       'MZ', 'ML', 'TD', 'LS', 'BI', 'SO'], dtype=object)"
      ]
     },
     "execution_count": 6,
     "metadata": {},
     "output_type": "execute_result"
    }
   ],
   "source": [
    "year_owid = 2020  # option\n",
    "country_list = installed_capacity_nostorages.alpha2.unique()\n",
    "country_list"
   ]
  },
  {
   "cell_type": "markdown",
   "metadata": {},
   "source": [
    "##### Process IRENA data to match PyPSA standard"
   ]
  },
  {
   "cell_type": "code",
   "execution_count": 7,
   "metadata": {},
   "outputs": [
    {
     "data": {
      "text/plain": [
       "carrier\n",
       "Nuclear            1940.000\n",
       "bioenergy          1399.220\n",
       "coal              47471.600\n",
       "gas              100760.933\n",
       "geothermal          870.300\n",
       "hydro             33305.579\n",
       "offshore wind         0.000\n",
       "oil               24855.323\n",
       "onshore wind       6390.634\n",
       "other               100.000\n",
       "solar              9267.112\n",
       "waste                25.000\n",
       "Name: p_nom, dtype: float64"
      ]
     },
     "execution_count": 7,
     "metadata": {},
     "output_type": "execute_result"
    }
   ],
   "source": [
    "# copy IRENA dataset\n",
    "df = df_irena.copy()\n",
    "\n",
    "# Process technologies\n",
    "df.loc[\n",
    "    df[\"Technology\"].isin([\"Solar photovoltaic\", \"Solar thermal energy\"]), \"Technology\"\n",
    "] = \"solar\"\n",
    "df.loc[df[\"Technology\"].isin([\"Onshore wind energy\"]), \"Technology\"] = \"onshore wind\"\n",
    "df.loc[df[\"Technology\"].isin([\"Offshore wind energy\"]), \"Technology\"] = \"offshore wind\"\n",
    "df.loc[\n",
    "    df[\"Technology\"].isin(\n",
    "        [\"Renewable hydropower\", \"Mixed Hydro Plants\", \"Pumped storage\"]\n",
    "    ),\n",
    "    \"Technology\",\n",
    "] = \"hydro\"\n",
    "df.loc[\n",
    "    df[\"Technology\"].isin([\"Other non-renewable energy\", \"Marine energy\"]), \"Technology\"\n",
    "] = \"other\"\n",
    "df.loc[\n",
    "    df[\"Technology\"].isin([\"Liquid biofuels\", \"Biogas\", \"Solid biofuels\"]), \"Technology\"\n",
    "] = \"bioenergy\"\n",
    "df.loc[df[\"Technology\"].isin([\"Geothermal energy\"]), \"Technology\"] = \"geothermal\"\n",
    "df.loc[df[\"Technology\"].isin([\"Natural gas\"]), \"Technology\"] = \"gas\"\n",
    "df.loc[df[\"Technology\"].isin([\"Renewable municipal waste\"]), \"Technology\"] = \"waste\"\n",
    "df.loc[df[\"Technology\"].isin([\"Coal and peat\"]), \"Technology\"] = \"coal\"\n",
    "df.loc[df[\"Technology\"].isin([\"Oil\", \"Fossil fuels n.e.s.\"]), \"Technology\"] = \"oil\"\n",
    "\n",
    "\n",
    "df = df[df.alpha2.isin(country_list)]\n",
    "df[\"p_nom\"] = pd.to_numeric(\n",
    "    df[\"Installed electricity capacity by country/area (MW)\"], errors=\"coerce\"\n",
    ")\n",
    "installed_capacity_irena = (\n",
    "    df.rename(columns={\"Technology\": \"carrier\"})\n",
    "    .groupby([\"alpha2\", \"carrier\"])[\"p_nom\"]\n",
    "    .sum()\n",
    ")\n",
    "installed_capacity_irena.groupby(\"carrier\").sum()"
   ]
  },
  {
   "cell_type": "markdown",
   "metadata": {},
   "source": [
    "##### Merge datasets by carrier"
   ]
  },
  {
   "cell_type": "code",
   "execution_count": 8,
   "metadata": {},
   "outputs": [
    {
     "data": {
      "image/png": "[encoded data removed]",
      "text/plain": [
       "<Figure size 720x288 with 1 Axes>"
      ]
     },
     "metadata": {
      "needs_background": "light"
     },
     "output_type": "display_data"
    }
   ],
   "source": [
    "world_ic = installed_capacity_irena.groupby(\"carrier\").sum() / 1000\n",
    "world_ic.index = world_ic.index.str.capitalize()\n",
    "\n",
    "world_pypsa = installed_capacity.groupby(\"carrier\").sum() / 1000\n",
    "if \"load\" in world_pypsa.index:\n",
    "    world_pypsa = world_pypsa.drop(\"load\")\n",
    "world_pypsa.index = world_pypsa.index.str.capitalize()\n",
    "\n",
    "world_compare = pd.concat(\n",
    "    [world_pypsa.rename(\"PyPSA 2020\"), world_ic.rename(\"IRENA 2020\")], axis=1\n",
    ")\n",
    "ax = world_compare.plot.bar(\n",
    "    ylabel=\"Capacity [GW]\", xlabel=\"Technology\", figsize=(10, 4)\n",
    ").set(xlabel=None)\n",
    "\n",
    "# plt.savefig(\"capacity-validation-all.pdf\", bbox_inches=\"tight\")"
   ]
  },
  {
   "cell_type": "code",
   "execution_count": 9,
   "metadata": {},
   "outputs": [
    {
     "data": {
      "image/png": "[encoded data removed]",
      "text/plain": [
       "<Figure size 720x288 with 1 Axes>"
      ]
     },
     "metadata": {
      "needs_background": "light"
     },
     "output_type": "display_data"
    }
   ],
   "source": [
    "list_carriers = [\n",
    "    \"Coal\",\n",
    "    \"Gas\",\n",
    "    \"Hydro\",\n",
    "    \"Oil\",\n",
    "    \"Onshore wind\",\n",
    "    \"Solar\",\n",
    "    \"Bioenergy\",\n",
    "    \"Geothermal\",\n",
    "    \"Nuclear\",\n",
    "]\n",
    "\n",
    "world_compare.loc[list_carriers].plot.bar(\n",
    "    ylabel=\"Capacity [GW]\", xlabel=\"Technology\", figsize=(10, 4)\n",
    ").set(xlabel=None)\n",
    "\n",
    "# plt.savefig(\"capacity-validation.pdf\", bbox_inches=\"tight\")"
   ]
  },
  {
   "cell_type": "markdown",
   "metadata": {},
   "source": [
    "##### Merge dataframes by technology for specific country"
   ]
  },
  {
   "cell_type": "markdown",
   "metadata": {},
   "source": [
    "According to [USAID](https://www.usaid.gov/powerafrica/nigeria), the total installed generation in Nigeria is:\n",
    "- Hydro: 2.062 GW\n",
    "- Gas: 11.972 GW\n",
    "- Wind: 0.01 GW\n",
    "- Solar: 0.007 GW\n",
    "- Other/Diesel/HFO: 2.333 GW\n",
    "\n",
    "Total: 16.384 GW\n",
    "\n",
    "Power Africa new MW to date at financial close: 3.043 GW"
   ]
  },
  {
   "cell_type": "code",
   "execution_count": 10,
   "metadata": {},
   "outputs": [
    {
     "name": "stdout",
     "output_type": "stream",
     "text": [
      "WARNING: Other/Diesel/HFO is renamed to 'Oil'\n"
     ]
    }
   ],
   "source": [
    "# Get data from usaid manually\n",
    "usaid_ng = pd.DataFrame(\n",
    "    data=[2.062, 11.972, 0.01, 0.007, 2.333],\n",
    "    index=[\"Hydro\", \"Gas\", \"Wind\", \"Solar\", \"Other/Diesel/HFO\"],\n",
    "    columns=[\"USAID\"],\n",
    ")\n",
    "\n",
    "# Prepare data from usaid\n",
    "usaid_ng.index.name = \"carrier\"\n",
    "\n",
    "usaid_ng.rename(\n",
    "    index={\n",
    "        \"Hydro\": \"hydro\",\n",
    "        \"Gas\": \"gas\",\n",
    "        \"Wind\": \"wind\",\n",
    "        \"Solar\": \"solar\",\n",
    "        \"Other/Diesel/HFO\": \"oil\",\n",
    "    },\n",
    "    inplace=True,\n",
    ")\n",
    "print(\"WARNING: Other/Diesel/HFO is renamed to 'Oil'\")"
   ]
  },
  {
   "cell_type": "code",
   "execution_count": 11,
   "metadata": {},
   "outputs": [
    {
     "data": {
      "text/html": [
       "<div>\n",
       "<style scoped>\n",
       "    .dataframe tbody tr th:only-of-type {\n",
       "        vertical-align: middle;\n",
       "    }\n",
       "\n",
       "    .dataframe tbody tr th {\n",
       "        vertical-align: top;\n",
       "    }\n",
       "\n",
       "    .dataframe thead th {\n",
       "        text-align: right;\n",
       "    }\n",
       "</style>\n",
       "<table border=\"1\" class=\"dataframe\">\n",
       "  <thead>\n",
       "    <tr style=\"text-align: right;\">\n",
       "      <th></th>\n",
       "      <th>USAID</th>\n",
       "    </tr>\n",
       "    <tr>\n",
       "      <th>carrier</th>\n",
       "      <th></th>\n",
       "    </tr>\n",
       "  </thead>\n",
       "  <tbody>\n",
       "    <tr>\n",
       "      <th>hydro</th>\n",
       "      <td>2.062</td>\n",
       "    </tr>\n",
       "    <tr>\n",
       "      <th>gas</th>\n",
       "      <td>11.972</td>\n",
       "    </tr>\n",
       "    <tr>\n",
       "      <th>wind</th>\n",
       "      <td>0.010</td>\n",
       "    </tr>\n",
       "    <tr>\n",
       "      <th>solar</th>\n",
       "      <td>0.007</td>\n",
       "    </tr>\n",
       "    <tr>\n",
       "      <th>oil</th>\n",
       "      <td>2.333</td>\n",
       "    </tr>\n",
       "  </tbody>\n",
       "</table>\n",
       "</div>"
      ],
      "text/plain": [
       "          USAID\n",
       "carrier        \n",
       "hydro     2.062\n",
       "gas      11.972\n",
       "wind      0.010\n",
       "solar     0.007\n",
       "oil       2.333"
      ]
     },
     "execution_count": 11,
     "metadata": {},
     "output_type": "execute_result"
    }
   ],
   "source": [
    "usaid_ng.head()"
   ]
  },
  {
   "cell_type": "code",
   "execution_count": 12,
   "metadata": {},
   "outputs": [],
   "source": [
    "country = \"NG\"\n",
    "country_ic = (\n",
    "    installed_capacity_irena.iloc[\n",
    "        installed_capacity_irena.index.get_level_values(\"alpha2\") == country\n",
    "    ]\n",
    "    / 1000\n",
    ")\n",
    "country_pypsa = (\n",
    "    installed_capacity.iloc[\n",
    "        installed_capacity.index.get_level_values(\"alpha2\") == country\n",
    "    ]\n",
    "    / 1000\n",
    ")\n",
    "country_compare = pd.concat(\n",
    "    [country_pypsa.rename(\"PyPSA 2020\"), country_ic.rename(\"IRENA 2020\")], axis=1\n",
    ")\n",
    "country_compare.index = country_compare.index.get_level_values(1)\n",
    "country_compare = pd.concat([country_compare, usaid_ng], axis=1)"
   ]
  },
  {
   "cell_type": "markdown",
   "metadata": {},
   "source": [
    "Adjust the dataframe"
   ]
  },
  {
   "cell_type": "code",
   "execution_count": 13,
   "metadata": {},
   "outputs": [
    {
     "data": {
      "text/html": [
       "<div>\n",
       "<style scoped>\n",
       "    .dataframe tbody tr th:only-of-type {\n",
       "        vertical-align: middle;\n",
       "    }\n",
       "\n",
       "    .dataframe tbody tr th {\n",
       "        vertical-align: top;\n",
       "    }\n",
       "\n",
       "    .dataframe thead th {\n",
       "        text-align: right;\n",
       "    }\n",
       "</style>\n",
       "<table border=\"1\" class=\"dataframe\">\n",
       "  <thead>\n",
       "    <tr style=\"text-align: right;\">\n",
       "      <th></th>\n",
       "      <th>PyPSA 2020</th>\n",
       "      <th>IRENA 2020</th>\n",
       "      <th>USAID</th>\n",
       "    </tr>\n",
       "    <tr>\n",
       "      <th>carrier</th>\n",
       "      <th></th>\n",
       "      <th></th>\n",
       "      <th></th>\n",
       "    </tr>\n",
       "  </thead>\n",
       "  <tbody>\n",
       "    <tr>\n",
       "      <th>gas</th>\n",
       "      <td>6.471930</td>\n",
       "      <td>10.95900</td>\n",
       "      <td>11.972</td>\n",
       "    </tr>\n",
       "    <tr>\n",
       "      <th>hydro</th>\n",
       "      <td>1.905414</td>\n",
       "      <td>2.11040</td>\n",
       "      <td>2.062</td>\n",
       "    </tr>\n",
       "    <tr>\n",
       "      <th>oil</th>\n",
       "      <td>1.222763</td>\n",
       "      <td>0.02300</td>\n",
       "      <td>2.333</td>\n",
       "    </tr>\n",
       "    <tr>\n",
       "      <th>onshore wind</th>\n",
       "      <td>0.001214</td>\n",
       "      <td>0.00000</td>\n",
       "      <td>NaN</td>\n",
       "    </tr>\n",
       "    <tr>\n",
       "      <th>solar</th>\n",
       "      <td>0.026262</td>\n",
       "      <td>0.00152</td>\n",
       "      <td>0.007</td>\n",
       "    </tr>\n",
       "    <tr>\n",
       "      <th>Nuclear</th>\n",
       "      <td>NaN</td>\n",
       "      <td>0.00000</td>\n",
       "      <td>NaN</td>\n",
       "    </tr>\n",
       "    <tr>\n",
       "      <th>bioenergy</th>\n",
       "      <td>NaN</td>\n",
       "      <td>0.00000</td>\n",
       "      <td>NaN</td>\n",
       "    </tr>\n",
       "    <tr>\n",
       "      <th>coal</th>\n",
       "      <td>NaN</td>\n",
       "      <td>0.00000</td>\n",
       "      <td>NaN</td>\n",
       "    </tr>\n",
       "    <tr>\n",
       "      <th>geothermal</th>\n",
       "      <td>NaN</td>\n",
       "      <td>0.00000</td>\n",
       "      <td>NaN</td>\n",
       "    </tr>\n",
       "    <tr>\n",
       "      <th>offshore wind</th>\n",
       "      <td>NaN</td>\n",
       "      <td>0.00000</td>\n",
       "      <td>NaN</td>\n",
       "    </tr>\n",
       "    <tr>\n",
       "      <th>other</th>\n",
       "      <td>NaN</td>\n",
       "      <td>0.00000</td>\n",
       "      <td>NaN</td>\n",
       "    </tr>\n",
       "    <tr>\n",
       "      <th>waste</th>\n",
       "      <td>NaN</td>\n",
       "      <td>0.00000</td>\n",
       "      <td>NaN</td>\n",
       "    </tr>\n",
       "    <tr>\n",
       "      <th>wind</th>\n",
       "      <td>NaN</td>\n",
       "      <td>NaN</td>\n",
       "      <td>0.010</td>\n",
       "    </tr>\n",
       "  </tbody>\n",
       "</table>\n",
       "</div>"
      ],
      "text/plain": [
       "               PyPSA 2020  IRENA 2020   USAID\n",
       "carrier                                      \n",
       "gas              6.471930    10.95900  11.972\n",
       "hydro            1.905414     2.11040   2.062\n",
       "oil              1.222763     0.02300   2.333\n",
       "onshore wind     0.001214     0.00000     NaN\n",
       "solar            0.026262     0.00152   0.007\n",
       "Nuclear               NaN     0.00000     NaN\n",
       "bioenergy             NaN     0.00000     NaN\n",
       "coal                  NaN     0.00000     NaN\n",
       "geothermal            NaN     0.00000     NaN\n",
       "offshore wind         NaN     0.00000     NaN\n",
       "other                 NaN     0.00000     NaN\n",
       "waste                 NaN     0.00000     NaN\n",
       "wind                  NaN         NaN   0.010"
      ]
     },
     "execution_count": 13,
     "metadata": {},
     "output_type": "execute_result"
    }
   ],
   "source": [
    "country_compare"
   ]
  },
  {
   "cell_type": "code",
   "execution_count": 14,
   "metadata": {},
   "outputs": [],
   "source": [
    "# Rename the index according to existing graph in paper\n",
    "required_index = {\n",
    "    # \"coal\": \"Coal\",\n",
    "    \"gas\": \"Gas\",\n",
    "    \"hydro\": \"Hydro\",\n",
    "    \"oil\": \"Oil\",\n",
    "    \"wind\": \"Onshore wind\",\n",
    "    \"solar\": \"Solar\",\n",
    "    # \"Nuclear\": \"Nuclear\",\n",
    "    # \"bioenergy\": \"Bioenergy\",\n",
    "    # \"geothermal\": \"Geothermal\",\n",
    "}\n",
    "\n",
    "country_compare.rename(index=required_index, inplace=True)\n",
    "\n",
    "# select only required technologies\n",
    "country_compare_sel = country_compare.loc[list(required_index.values())]"
   ]
  },
  {
   "cell_type": "markdown",
   "metadata": {},
   "source": [
    "Plot the graph"
   ]
  },
  {
   "cell_type": "code",
   "execution_count": 15,
   "metadata": {},
   "outputs": [
    {
     "data": {
      "image/png": "[encoded data removed]",
      "text/plain": [
       "<Figure size 756x360 with 1 Axes>"
      ]
     },
     "metadata": {
      "needs_background": "light"
     },
     "output_type": "display_data"
    }
   ],
   "source": [
    "ax = country_compare_sel.plot.bar(ylabel=\"Capacity [GW]\", xlabel=\"\", figsize=(10.5, 5))\n",
    "# optional:save it\n",
    "# ax.figure.savefig(\"capacity-validation-ng.pdf\", bbox_inches=\"tight\")"
   ]
  },
  {
   "cell_type": "markdown",
   "metadata": {},
   "source": [
    "##### Merge dataframes by country"
   ]
  },
  {
   "cell_type": "code",
   "execution_count": 16,
   "metadata": {},
   "outputs": [
    {
     "data": {
      "image/png": "[encoded data removed]",
      "text/plain": [
       "<Figure size 1440x360 with 1 Axes>"
      ]
     },
     "metadata": {
      "needs_background": "light"
     },
     "output_type": "display_data"
    }
   ],
   "source": [
    "from scripts._helpers import two_digits_2_name_country\n",
    "\n",
    "country_ic = (\n",
    "    installed_capacity_irena[\n",
    "        installed_capacity_irena.index.get_level_values(1)\n",
    "        .str.capitalize()\n",
    "        .isin(list_carriers)\n",
    "    ]\n",
    "    .groupby(\"alpha2\")\n",
    "    .sum()\n",
    "    / 1000\n",
    ")\n",
    "country_pypsa = (\n",
    "    installed_capacity[\n",
    "        installed_capacity.index.get_level_values(1)\n",
    "        .str.capitalize()\n",
    "        .isin(list_carriers)\n",
    "    ]\n",
    "    .groupby(\"alpha2\")\n",
    "    .sum()\n",
    "    / 1000\n",
    ")\n",
    "\n",
    "country_compare = pd.concat(\n",
    "    [country_pypsa.rename(\"PyPSA 2020\"), country_ic.rename(\"IRENA 2020\")], axis=1\n",
    ")\n",
    "country_compare.index = pd.Series(\n",
    "    country_compare.index.map(two_digits_2_name_country)\n",
    ").replace(\n",
    "    {\n",
    "        \"Congo, The Democratic Republic of the\": \"DRC\",\n",
    "        \"Central African Republic\": \"CAR\",\n",
    "        \"Tanzania, United Republic of\": \"Tanzania\",\n",
    "    }\n",
    ")\n",
    "plt.rcParams.update({\"font.size\": 20})\n",
    "ax = country_compare.plot.bar(\n",
    "    figsize=(20, 5), ylabel=\"Capacity [GW]\", xlabel=\"Country\", fontsize=20\n",
    ")\n",
    "ax.set(xlabel=None)\n",
    "\n",
    "# plt.savefig(\"capacity-validation-by-country.pdf\", bbox_inches=\"tight\")"
   ]
  },
  {
   "cell_type": "code",
   "execution_count": 17,
   "metadata": {},
   "outputs": [],
   "source": [
    "# Installed capacities of a technology by country\n",
    "# df[df.Technology==\"gas\"].groupby(\"alpha2\")[\"p_nom\"].sum()\n",
    "# installed_capacity_nostorages_select[installed_capacity_nostorages_select.carrier == \"gas\"].groupby(\"alpha2\")[\"p_nom\"].sum()"
   ]
  }
 ],
 "metadata": {
  "kernelspec": {
   "display_name": "Python 3.9.13 ('base')",
   "language": "python",
   "name": "python3"
  },
  "language_info": {
   "codemirror_mode": {
    "name": "ipython",
    "version": 3
   },
   "file_extension": ".py",
   "mimetype": "text/x-python",
   "name": "python",
   "nbconvert_exporter": "python",
   "pygments_lexer": "ipython3",
   "version": "3.9.13"
  },
  "vscode": {
   "interpreter": {
    "hash": "d4783b90c31ddc11d3b01e737442d9214182b2321eb6e813ddb1a44db2ad1d92"
   }
  }
 },
 "nbformat": 4,
 "nbformat_minor": 4
}

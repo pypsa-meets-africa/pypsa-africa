{
 "cells": [
  {
   "cell_type": "markdown",
   "metadata": {},
   "source": [
    "# Validation of Nigeria model\n",
    "\n",
    "This notebooks investigates the results obtained by pypsa-africa model for the Nigeria case.\n",
    "In particular, public information of the power system of Nigeria are compared to those used and obtained from the pypsa-africa model.\n",
    "\n",
    "The following quantities will be reviewed:\n",
    "- inputs used by the pypsa-model:\n",
    "  - network characteristics\n",
    "  - substations\n",
    "  - installed generation by type\n",
    "- outputs of the simulation\n",
    "  - demand\n",
    "  - energy production shares\n",
    "\n",
    "To properly reproduce the findings obtained in this notebook, please run the full snakemake procedure on the Nigeria case only.\n",
    "To do so, please set ``countries = [\"NG\"]`` in the ``config.yaml`` file."
   ]
  },
  {
   "cell_type": "markdown",
   "metadata": {},
   "source": [
    "## Preparation"
   ]
  },
  {
   "cell_type": "markdown",
   "metadata": {},
   "source": [
    "### Set main directory to root folder"
   ]
  },
  {
   "cell_type": "code",
   "execution_count": 1,
   "metadata": {},
   "outputs": [
    {
     "name": "stdout",
     "output_type": "stream",
     "text": [
      "This is the repository path:  /data/davidef/gitdf/pypsa-africa\n",
      "Had to go 2 folder(s) up.\n"
     ]
    }
   ],
   "source": [
    "# set current folders\n",
    "\n",
    "import sys\n",
    "\n",
    "sys.path.append(\"../../\")  # to import helpers\n",
    "\n",
    "from scripts._helpers import sets_path_to_root\n",
    "\n",
    "sets_path_to_root(\"pypsa-africa\")"
   ]
  },
  {
   "cell_type": "markdown",
   "metadata": {},
   "source": [
    "### Definition of main folder paths"
   ]
  },
  {
   "cell_type": "code",
   "execution_count": 28,
   "metadata": {},
   "outputs": [],
   "source": [
    "import os\n",
    "\n",
    "# OSM raw data files\n",
    "substations_OSMraw_path = os.getcwd() + \"/data/raw/africa_all_raw_substations.geojson\"\n",
    "lines_OSMraw_path = os.getcwd() + \"/data/raw/africa_all_raw_lines.geojson\"\n",
    "\n",
    "# cleaned osm data files\n",
    "substations_OSMclean_path = os.getcwd() + \"/data/clean/africa_all_substations.geojson\"\n",
    "lines_OSMclean_path = os.getcwd() + \"/data/clean/africa_all_lines.geojson\"\n",
    "\n",
    "# shapes files\n",
    "countries_shape_path = os.getcwd() + \"/resources/country_shapes.geojson\"\n",
    "\n",
    "# solve network output\n",
    "solved_network_path = os.getcwd() + \"/results/networks/elec_s_100_ec_lcopt_Co2L-3H.nc\""
   ]
  },
  {
   "cell_type": "markdown",
   "metadata": {},
   "source": [
    "### Import packages"
   ]
  },
  {
   "cell_type": "code",
   "execution_count": 3,
   "metadata": {},
   "outputs": [],
   "source": [
    "# import packages\n",
    "\n",
    "import logging\n",
    "import os\n",
    "\n",
    "import pypsa\n",
    "import yaml\n",
    "import pandas as pd\n",
    "import geopandas as gpd\n",
    "import numpy as np\n",
    "import scipy as sp\n",
    "import networkx as nx\n",
    "import matplotlib.pyplot as plt\n",
    "import cartopy.crs as ccrs\n",
    "from cartopy.io.img_tiles import OSM\n",
    "import cartopy.feature as cfeature\n",
    "\n",
    "from scipy.sparse import csgraph\n",
    "from itertools import product\n",
    "import re\n",
    "\n",
    "from shapely.geometry import Point, LineString\n",
    "import shapely, shapely.prepared\n",
    "from shapely.wkt import loads\n",
    "from shapely.validation import make_valid\n",
    "\n",
    "logger = logging.getLogger(__name__)\n",
    "\n",
    "pd.set_option(\"display.max_columns\", None)\n",
    "pd.set_option(\"display.max_colwidth\", 70)"
   ]
  },
  {
   "cell_type": "markdown",
   "metadata": {},
   "source": [
    "## 1. Analysis of network of the Nigeria case\n",
    "\n",
    "In this subsection, the data publicy on the network power system are compared. In particular, the main data that are being compared are:\n",
    "- Layout of the network as shown by images (Section 1.1)\n",
    "- Total length of the line (Section 1.2)\n",
    "\n",
    "The data used for the comparison have been taken from public reliable sources, with strong focus on the website of the Nigerian Transmission operator: Nigerian Transmission Company ([TCN](https://www.tcn.org.ng/)).\n",
    "\n",
    "In the Section 1.1, the network layout obtained by the workflow is drawn to be possibly compared with the image as shown in the public website of the [Nigerian Transmission System Operator](https://www.tcn.org.ng/). The image below, dated 2016, available from the [Nigerian Transmission System Operator](https://www.tcn.org.ng/), depicts the national power grid of Nigeria.\n",
    "\n",
    "![Nigerian transmission system](../../images/Nigeria_data/Nigeria_network_map.png)\n",
    "[Source link](https://www.tcn.org.ng/repository/maps/GRID%20MAP%20FOR%20EXISTING%20TRANSMISSION%20AND%20GENERATION%20NETWORK.pdf)\n",
    "\n",
    "In the Section 1.2, the network length as obtained from the workflow is calculated to then be compared with the information reported by the Nigerian TSO. According to the data available from the [Transmission Company of Nigeria (ISO)](https://nerc.gov.ng/index.php/home/nesi/404-transmission), in Nigeria, there are:\n",
    "\n",
    "- \\> 20000km lines\n",
    "- \\> 7500MW line capacity\n",
    "\n",
    "These information shall be close to those obtained by the workflow."
   ]
  },
  {
   "cell_type": "markdown",
   "metadata": {},
   "source": [
    "### 1.1. Network layout (using OSM clean data)\n",
    "\n",
    "In this section, the cleaned OSM data are used to draw plots of the entire network, to reproduce the image available from the Nigerian TSO and verify the quality of the pypsa-africa model."
   ]
  },
  {
   "cell_type": "markdown",
   "metadata": {},
   "source": [
    "#### 1.1.1. Load clean OSM data"
   ]
  },
  {
   "cell_type": "code",
   "execution_count": 4,
   "metadata": {},
   "outputs": [],
   "source": [
    "# load substation geodataframe\n",
    "df_substations_osm_clean = gpd.read_file(\n",
    "    substations_OSMclean_path\n",
    ")  # .to_crs(epsg=3857)\n",
    "# df_substations_osm_clean = df_substations_osm_clean[\n",
    "#     df_substations_osm_clean.country == \"NG\"\n",
    "# ]\n",
    "df_substations_osm_clean[\"geometry\"] = df_substations_osm_clean[\"geometry\"].apply(\n",
    "    make_valid\n",
    ")\n",
    "# load lines geodataframe\n",
    "df_lines_osm_clean = gpd.read_file(lines_OSMclean_path)  # .to_crs(epsg=3857)\n",
    "# df_lines_osm_clean = df_lines_osm_clean[df_lines_osm_clean.country == \"NG\"]\n",
    "df_lines_osm_clean[\"geometry\"] = df_lines_osm_clean[\"geometry\"].apply(make_valid)"
   ]
  },
  {
   "cell_type": "markdown",
   "metadata": {},
   "source": [
    "#### 1.1.2. Calculate voltage levels for substations and lines\n",
    "\n",
    "Substations voltage level [V]"
   ]
  },
  {
   "cell_type": "code",
   "execution_count": 5,
   "metadata": {},
   "outputs": [
    {
     "data": {
      "text/plain": [
       "array([ 44000,  45000,  60000,  63000,  66000,  69000,  70000,  88000,\n",
       "        90000, 110000, 115000, 120000, 132000, 138000, 150000, 161000,\n",
       "       220000, 222000, 225000, 230000, 275000, 330000, 350000, 380000,\n",
       "       400000, 500000, 533000, 765000])"
      ]
     },
     "execution_count": 5,
     "metadata": {},
     "output_type": "execute_result"
    }
   ],
   "source": [
    "voltage_substations = df_substations_osm_clean.voltage.unique()\n",
    "voltage_substations.sort()\n",
    "voltage_substations"
   ]
  },
  {
   "cell_type": "markdown",
   "metadata": {},
   "source": [
    "Lines voltage level [V]"
   ]
  },
  {
   "cell_type": "code",
   "execution_count": 6,
   "metadata": {},
   "outputs": [
    {
     "data": {
      "text/plain": [
       "array([ 44000,  45000,  60000,  63000,  66000,  69000,  70000,  88000,\n",
       "        90000, 110000, 115000, 120000, 132000, 138000, 150000, 161000,\n",
       "       220000, 222000, 225000, 230000, 275000, 330000, 350000, 380000,\n",
       "       400000, 500000, 533000, 765000])"
      ]
     },
     "execution_count": 6,
     "metadata": {},
     "output_type": "execute_result"
    }
   ],
   "source": [
    "unique_voltages = df_lines_osm_clean.voltage.unique()\n",
    "unique_voltages.sort()\n",
    "unique_voltages"
   ]
  },
  {
   "cell_type": "markdown",
   "metadata": {},
   "source": [
    "#### 1.1.3. Specify colors for voltage levels in agreement with the image by the TSO\n",
    "\n",
    "Specify color array by voltage level"
   ]
  },
  {
   "cell_type": "code",
   "execution_count": 7,
   "metadata": {},
   "outputs": [
    {
     "data": {
      "text/plain": [
       "{44000: 'orange', 45000: 'blue', 60000: 'red'}"
      ]
     },
     "execution_count": 7,
     "metadata": {},
     "output_type": "execute_result"
    }
   ],
   "source": [
    "color_voltages = [\"orange\", \"blue\", \"red\"]\n",
    "\n",
    "voltage_to_color = {v: c for (v, c) in zip(unique_voltages, color_voltages)}\n",
    "voltage_to_color"
   ]
  },
  {
   "cell_type": "markdown",
   "metadata": {},
   "source": [
    "#### 1.1.4. Plot the network data"
   ]
  },
  {
   "cell_type": "markdown",
   "metadata": {},
   "source": [
    "Get the borders of the country shape to perform the desired plot"
   ]
  },
  {
   "cell_type": "code",
   "execution_count": 9,
   "metadata": {},
   "outputs": [
    {
     "name": "stdout",
     "output_type": "stream",
     "text": [
      "Original bounds:\n",
      "           minx       miny       maxx       maxy\n",
      "name                                            \n",
      "AO    11.671251 -18.041758  24.082117  -4.377671\n",
      "BI    29.001749  -4.470001  30.850225  -2.309835\n",
      "NE     0.166250  11.696970  15.995642  23.525030\n",
      "NA    11.734862 -28.969450  25.253639 -16.959890\n",
      "MG    43.219860 -25.605694  50.486526 -11.952085\n",
      "CG    11.200858  -5.030664  18.650000   3.703082\n",
      "EH   -17.105415  20.769583  -8.670013  27.683098\n",
      "ER    36.438766  12.357313  43.137638  18.006536\n",
      "DJ    41.760452  10.952411  43.417641  12.706778\n",
      "CD    12.206629 -13.455676  31.305704   5.385852\n",
      "MR   -17.066521  14.715551  -4.827674  27.298071\n",
      "EG    24.698099  21.725389  36.215137  31.667360\n",
      "CF    14.417741   2.220515  27.463421  11.007570\n",
      "GW   -16.714891  10.921250 -13.636520  12.684263\n",
      "ML   -12.238912  10.161430   4.242887  25.000000\n",
      "ZA    16.451891 -34.832916  32.891251 -22.125111\n",
      "MZ    30.217415 -26.868694  40.837360 -10.471250\n",
      "ZW    25.237177 -22.420277  33.055019 -15.609359\n",
      "CI    -8.599302   4.361807  -2.494897  10.736080\n",
      "RW    28.861969  -2.839973  30.899073  -1.048284\n",
      "SZ    30.790890 -27.317520  32.136700 -25.718760\n",
      "ET    33.001537   3.401498  47.958229  14.845477\n",
      "DZ    -8.673868  18.960032  11.988911  37.090137\n",
      "GQ     5.620727  -1.467361  11.334782   3.788750\n",
      "LS    27.011589 -30.675575  29.455709 -28.570801\n",
      "SD    21.838949   8.679119  38.582359  23.145147\n",
      "ZM    21.999664 -18.079473  33.705036  -8.270877\n",
      "MW    32.671612 -17.127211  35.915047  -9.363896\n",
      "TD    13.473475   7.441069  24.001709  23.450371\n",
      "TG    -0.145851   6.109582   1.806692  11.138981\n",
      "GH    -3.254920   4.738751   1.191770  11.173300\n",
      "BJ     0.774574   6.235140   3.851701  12.418351\n",
      "GN   -15.076250   7.193553  -7.641071  12.691502\n",
      "LY     9.391737  19.508173  25.148199  33.165417\n",
      "GM   -16.813194  13.064655 -13.791551  13.826890\n",
      "SS    24.153372   3.481445  35.869949  12.219000\n",
      "GA     8.699028  -3.990695  14.500937   2.315644\n",
      "TZ    29.328539 -11.745695  40.444305  -0.985788\n",
      "BW    19.999998 -26.907290  29.368311 -17.781780\n",
      "SO    40.978500  -1.642362  51.415695  11.988471\n",
      "KE    33.910149  -4.675781  41.926216   5.061166\n",
      "BF    -5.518918   9.401108   2.405400  15.082592\n",
      "CM     8.499455   1.652267  16.191046  13.077391\n",
      "MA   -13.167089  27.670074  -0.998414  35.922638\n",
      "SL   -13.303506   6.917616 -10.265792  10.000431\n",
      "UG    29.571499  -1.481806  35.000275   4.234466\n",
      "NG     2.668431   4.270418  14.676219  13.892010\n",
      "TN     7.530162  30.236811  11.598259  37.542084\n",
      "SN   -17.530687  12.307859 -11.342521  16.692072\n",
      "LR   -11.485695   4.352916  -7.365113   8.551790\n"
     ]
    },
    {
     "ename": "TypeError",
     "evalue": "unsupported operand type(s) for -=: 'str' and 'float'",
     "output_type": "error",
     "traceback": [
      "\u001b[0;31m---------------------------------------------------------------------------\u001b[0m",
      "\u001b[0;31mTypeError\u001b[0m                                 Traceback (most recent call last)",
      "\u001b[1;32m/data/davidef/gitdf/pypsa-africa/notebooks/validation/validation_nigeria.ipynb Cell 21'\u001b[0m in \u001b[0;36m<cell line: 15>\u001b[0;34m()\u001b[0m\n\u001b[1;32m     <a href='vscode-notebook-cell://ssh-remote%2B7b22686f73744e616d65223a22554e4950495f536572766572227d/data/davidef/gitdf/pypsa-africa/notebooks/validation/validation_nigeria.ipynb#ch0000020vscode-remote?line=11'>12</a>\u001b[0m tol \u001b[39m=\u001b[39m \u001b[39m0.2\u001b[39m\n\u001b[1;32m     <a href='vscode-notebook-cell://ssh-remote%2B7b22686f73744e616d65223a22554e4950495f536572766572227d/data/davidef/gitdf/pypsa-africa/notebooks/validation/validation_nigeria.ipynb#ch0000020vscode-remote?line=13'>14</a>\u001b[0m bounds_mod \u001b[39m=\u001b[39m \u001b[39mlist\u001b[39m(nigeria_shape\u001b[39m.\u001b[39mboundary\u001b[39m.\u001b[39mbounds)\n\u001b[0;32m---> <a href='vscode-notebook-cell://ssh-remote%2B7b22686f73744e616d65223a22554e4950495f536572766572227d/data/davidef/gitdf/pypsa-africa/notebooks/validation/validation_nigeria.ipynb#ch0000020vscode-remote?line=14'>15</a>\u001b[0m bounds_mod[\u001b[39m0\u001b[39m] \u001b[39m-\u001b[39m\u001b[39m=\u001b[39m tol  \u001b[39m# reduce minx\u001b[39;00m\n\u001b[1;32m     <a href='vscode-notebook-cell://ssh-remote%2B7b22686f73744e616d65223a22554e4950495f536572766572227d/data/davidef/gitdf/pypsa-africa/notebooks/validation/validation_nigeria.ipynb#ch0000020vscode-remote?line=15'>16</a>\u001b[0m bounds_mod[\u001b[39m1\u001b[39m] \u001b[39m-\u001b[39m\u001b[39m=\u001b[39m tol  \u001b[39m# reduce miny\u001b[39;00m\n\u001b[1;32m     <a href='vscode-notebook-cell://ssh-remote%2B7b22686f73744e616d65223a22554e4950495f536572766572227d/data/davidef/gitdf/pypsa-africa/notebooks/validation/validation_nigeria.ipynb#ch0000020vscode-remote?line=16'>17</a>\u001b[0m bounds_mod[\u001b[39m2\u001b[39m] \u001b[39m+\u001b[39m\u001b[39m=\u001b[39m tol  \u001b[39m# increase maxx\u001b[39;00m\n",
      "\u001b[0;31mTypeError\u001b[0m: unsupported operand type(s) for -=: 'str' and 'float'"
     ]
    }
   ],
   "source": [
    "# get all country shapes\n",
    "country_shapes = gpd.read_file(countries_shape_path)\n",
    "\n",
    "# get nigeria shape\n",
    "nigeria_shape = country_shapes.set_index(\"name\").geometry\n",
    "\n",
    "# get bounds\n",
    "print(\"Original bounds:\")\n",
    "print(nigeria_shape.boundary.bounds)\n",
    "\n",
    "# add tolerance to bounds\n",
    "tol = 0.2\n",
    "\n",
    "bounds_mod = list(nigeria_shape.boundary.bounds)\n",
    "bounds_mod[0] -= tol  # reduce minx\n",
    "bounds_mod[1] -= tol  # reduce miny\n",
    "bounds_mod[2] += tol  # increase maxx\n",
    "bounds_mod[3] += tol  # increase maxy\n",
    "\n",
    "print(\"Modified bounds:\")\n",
    "print(bounds_mod)\n",
    "\n",
    "# reorder bounds to comply with extend function (x0, x1, y0, y1)\n",
    "extent_list = (bounds_mod[0], bounds_mod[2], bounds_mod[1], bounds_mod[3])"
   ]
  },
  {
   "cell_type": "markdown",
   "metadata": {},
   "source": [
    "Draw the picture using pyplot"
   ]
  },
  {
   "cell_type": "code",
   "execution_count": 12,
   "metadata": {},
   "outputs": [
    {
     "ename": "NameError",
     "evalue": "name 'extent_list' is not defined",
     "output_type": "error",
     "traceback": [
      "\u001b[0;31m---------------------------------------------------------------------------\u001b[0m",
      "\u001b[0;31mNameError\u001b[0m                                 Traceback (most recent call last)",
      "\u001b[1;32m/data/davidef/gitdf/pypsa-africa/notebooks/validation/validation_nigeria.ipynb Cell 23'\u001b[0m in \u001b[0;36m<cell line: 10>\u001b[0;34m()\u001b[0m\n\u001b[1;32m      <a href='vscode-notebook-cell://ssh-remote%2B7b22686f73744e616d65223a22554e4950495f536572766572227d/data/davidef/gitdf/pypsa-africa/notebooks/validation/validation_nigeria.ipynb#ch0000022vscode-remote?line=6'>7</a>\u001b[0m max_height \u001b[39m=\u001b[39m \u001b[39m30\u001b[39m  \u001b[39m# max heifht of the figure\u001b[39;00m\n\u001b[1;32m      <a href='vscode-notebook-cell://ssh-remote%2B7b22686f73744e616d65223a22554e4950495f536572766572227d/data/davidef/gitdf/pypsa-africa/notebooks/validation/validation_nigeria.ipynb#ch0000022vscode-remote?line=8'>9</a>\u001b[0m \u001b[39m# calculate figure size with appropriate multiplier to adhere to the desired width/height\u001b[39;00m\n\u001b[1;32m     <a href='vscode-notebook-cell://ssh-remote%2B7b22686f73744e616d65223a22554e4950495f536572766572227d/data/davidef/gitdf/pypsa-africa/notebooks/validation/validation_nigeria.ipynb#ch0000022vscode-remote?line=9'>10</a>\u001b[0m multiplier \u001b[39m=\u001b[39m \u001b[39mmin\u001b[39m(\n\u001b[0;32m---> <a href='vscode-notebook-cell://ssh-remote%2B7b22686f73744e616d65223a22554e4950495f536572766572227d/data/davidef/gitdf/pypsa-africa/notebooks/validation/validation_nigeria.ipynb#ch0000022vscode-remote?line=10'>11</a>\u001b[0m     max_width \u001b[39m/\u001b[39m (extent_list[\u001b[39m1\u001b[39m] \u001b[39m-\u001b[39m extent_list[\u001b[39m0\u001b[39m]),\n\u001b[1;32m     <a href='vscode-notebook-cell://ssh-remote%2B7b22686f73744e616d65223a22554e4950495f536572766572227d/data/davidef/gitdf/pypsa-africa/notebooks/validation/validation_nigeria.ipynb#ch0000022vscode-remote?line=11'>12</a>\u001b[0m     max_height \u001b[39m/\u001b[39m (extent_list[\u001b[39m3\u001b[39m] \u001b[39m-\u001b[39m extent_list[\u001b[39m2\u001b[39m]),\n\u001b[1;32m     <a href='vscode-notebook-cell://ssh-remote%2B7b22686f73744e616d65223a22554e4950495f536572766572227d/data/davidef/gitdf/pypsa-africa/notebooks/validation/validation_nigeria.ipynb#ch0000022vscode-remote?line=12'>13</a>\u001b[0m )\n\u001b[1;32m     <a href='vscode-notebook-cell://ssh-remote%2B7b22686f73744e616d65223a22554e4950495f536572766572227d/data/davidef/gitdf/pypsa-africa/notebooks/validation/validation_nigeria.ipynb#ch0000022vscode-remote?line=13'>14</a>\u001b[0m figsize \u001b[39m=\u001b[39m (\n\u001b[1;32m     <a href='vscode-notebook-cell://ssh-remote%2B7b22686f73744e616d65223a22554e4950495f536572766572227d/data/davidef/gitdf/pypsa-africa/notebooks/validation/validation_nigeria.ipynb#ch0000022vscode-remote?line=14'>15</a>\u001b[0m     (extent_list[\u001b[39m1\u001b[39m] \u001b[39m-\u001b[39m extent_list[\u001b[39m0\u001b[39m]) \u001b[39m*\u001b[39m multiplier,\n\u001b[1;32m     <a href='vscode-notebook-cell://ssh-remote%2B7b22686f73744e616d65223a22554e4950495f536572766572227d/data/davidef/gitdf/pypsa-africa/notebooks/validation/validation_nigeria.ipynb#ch0000022vscode-remote?line=15'>16</a>\u001b[0m     (extent_list[\u001b[39m3\u001b[39m] \u001b[39m-\u001b[39m extent_list[\u001b[39m2\u001b[39m]) \u001b[39m*\u001b[39m multiplier,\n\u001b[1;32m     <a href='vscode-notebook-cell://ssh-remote%2B7b22686f73744e616d65223a22554e4950495f536572766572227d/data/davidef/gitdf/pypsa-africa/notebooks/validation/validation_nigeria.ipynb#ch0000022vscode-remote?line=16'>17</a>\u001b[0m )\n\u001b[1;32m     <a href='vscode-notebook-cell://ssh-remote%2B7b22686f73744e616d65223a22554e4950495f536572766572227d/data/davidef/gitdf/pypsa-africa/notebooks/validation/validation_nigeria.ipynb#ch0000022vscode-remote?line=19'>20</a>\u001b[0m fig \u001b[39m=\u001b[39m plt\u001b[39m.\u001b[39mfigure(figsize\u001b[39m=\u001b[39mfigsize)\n",
      "\u001b[0;31mNameError\u001b[0m: name 'extent_list' is not defined"
     ]
    }
   ],
   "source": [
    "%matplotlib inline\n",
    "\n",
    "# get the structure of the background data to plot\n",
    "imagery = OSM()\n",
    "\n",
    "max_width = 30  # max width of the figure\n",
    "max_height = 30  # max heifht of the figure\n",
    "\n",
    "# calculate figure size with appropriate multiplier to adhere to the desired width/height\n",
    "multiplier = min(\n",
    "    max_width / (extent_list[1] - extent_list[0]),\n",
    "    max_height / (extent_list[3] - extent_list[2]),\n",
    ")\n",
    "figsize = (\n",
    "    (extent_list[1] - extent_list[0]) * multiplier,\n",
    "    (extent_list[3] - extent_list[2]) * multiplier,\n",
    ")\n",
    "\n",
    "\n",
    "fig = plt.figure(figsize=figsize)\n",
    "ax = fig.add_subplot(1, 1, 1, projection=imagery.crs)  # specify projection\n",
    "ax.set_extent(extent_list, ccrs.PlateCarree())  # specify the location of the image\n",
    "ax.add_image(imagery, 7)  # add the background image\n",
    "\n",
    "# create an auxiliary dataframe for the substations with the desired crs and color properties\n",
    "df_substations_osm_clean_plot = df_substations_osm_clean.to_crs(imagery.crs)\n",
    "# specify the color of the nodes\n",
    "df_substations_osm_clean_plot[\"color\"] = df_substations_osm_clean_plot.voltage.apply(\n",
    "    lambda x: voltage_to_color[x]\n",
    ")\n",
    "\n",
    "\n",
    "# create an auxiliary dataframe for the lines with the desired crs and properties\n",
    "df_lines_osm_clean_plot = df_lines_osm_clean.to_crs(imagery.crs)\n",
    "df_lines_osm_clean_plot[\n",
    "    \"centroids\"\n",
    "] = df_lines_osm_clean_plot.geometry.boundary.centroid  # get the centroids of the line\n",
    "df_lines_osm_clean_plot[\"color\"] = df_lines_osm_clean_plot.voltage.apply(\n",
    "    lambda x: voltage_to_color[x]\n",
    ")  # specify the color of the line\n",
    "\n",
    "# draw the substations\n",
    "df_substations_osm_clean_plot.plot(color=df_substations_osm_clean_plot.color, ax=ax)\n",
    "\n",
    "# draw the lines\n",
    "df_lines_osm_clean_plot.plot(color=df_lines_osm_clean_plot.color, ax=ax)\n",
    "\n",
    "# add annotations to show the number of circuits by line\n",
    "for (id, row) in df_lines_osm_clean_plot.iterrows():\n",
    "    ax.text(row.centroids.x, row.centroids.y, row.circuits, color=row.color)"
   ]
  },
  {
   "cell_type": "markdown",
   "metadata": {},
   "source": [
    "Add the equivalent map but with interactive features"
   ]
  },
  {
   "cell_type": "code",
   "execution_count": null,
   "metadata": {},
   "outputs": [],
   "source": [
    "# Disabled to ease the data storing in github; decomment to use\n",
    "\n",
    "# df_substations_osm_clean[df_substations_osm_clean.voltage == unique_voltages[0]].hvplot(\n",
    "#     geo=True,\n",
    "#     size = 10,  # buses[\"tag_area\"]**(0.5)/10,\n",
    "#     frame_height=750,\n",
    "#     alpha=0.4,\n",
    "#     tiles='CartoLight',\n",
    "#     color=color_voltages[0],\n",
    "#     hover_cols=['bus_id'],\n",
    "# ) * df_substations_osm_clean[df_substations_osm_clean.voltage == unique_voltages[1]].hvplot(\n",
    "#     geo=True,\n",
    "#     alpha=0.4,\n",
    "#     color=color_voltages[1],\n",
    "#     hover_cols=['bus_id'],\n",
    "# ) * df_substations_osm_clean[df_substations_osm_clean.voltage == unique_voltages[2]].hvplot(\n",
    "#     geo=True,\n",
    "#     alpha=0.4,\n",
    "#     color=color_voltages[2],\n",
    "#     hover_cols=['bus_id'],\n",
    "# ) * df_lines_osm_clean[df_lines_osm_clean.voltage == unique_voltages[0]].hvplot(\n",
    "#     geo=True,\n",
    "#     color=color_voltages[0],\n",
    "#     alpha=0.4,\n",
    "#     hover_cols=['circuits', 'line_id'],\n",
    "# ) * df_lines_osm_clean[df_lines_osm_clean.voltage == unique_voltages[1]].hvplot(\n",
    "#     geo=True,\n",
    "#     color=color_voltages[1],\n",
    "#     alpha=0.4,\n",
    "#     hover_cols=['circuits', 'line_id'],\n",
    "# ) * df_lines_osm_clean[df_lines_osm_clean.voltage == unique_voltages[2]].hvplot(\n",
    "#     geo=True,\n",
    "#     color=color_voltages[2],\n",
    "#     alpha=0.4,\n",
    "#     hover_cols=['circuits', 'line_id'],\n",
    "# ).opts(\n",
    "#     active_tools=['pan', 'wheel_zoom']\n",
    "# )"
   ]
  },
  {
   "cell_type": "markdown",
   "metadata": {},
   "source": [
    "#### 1.1.5. Comments on the network layout\n",
    "\n",
    "By comparing the image of the existing lines availabe from TCN and the plots obtained from the workflow, it is possible to notice that they overlap and there are only minimal differences.\n",
    "\n",
    "However, the available source is dated 2016 and, as stated by the same [TCN source](https://www.tcn.org.ng/repository/maps/GRID%20MAP%20FOR%20EXISTING%20TRANSMISSION%20AND%20GENERATION%20NETWORK.pdf), there where several transmission lines projects ongoing in 2015.\n",
    "Therefore, the current model available in OSM may be sligthly outdated, but it draws a good picture of the current situation, given the available sources."
   ]
  },
  {
   "cell_type": "markdown",
   "metadata": {},
   "source": [
    "### 1.2. Calculate the total length of the lines\n",
    "\n",
    "In this section, the total length of the lines are obtained. To do so, the following actions are performed:\n",
    "1. Preliminary data loading\n",
    "2. Crosscheck the unit of measurement to verify that the units are in meters [m]\n",
    "3. Crosscheck the number of circuits for geometry line in the raw OSM dataset\n",
    "4. Evaluate the total length of the lines in the raw OSM dataset\n",
    "5. Evaluate the total length of the lines in the clean OSM dataset\n",
    "6. Remarks on the line length\n",
    "\n",
    "Note: the OSM dataset reports the geometry paths of the lines; however, in the same geometry path there may multiple circuits. That information is contained in the number of cables for geometry line, which is the reason why this information is properly addressed in point 3 (Subsection 1.2.3)."
   ]
  },
  {
   "cell_type": "markdown",
   "metadata": {},
   "source": [
    "#### 1.2.1 Preliminary data loading of raw OSM data\n",
    "\n",
    "In the following, we show the input data downloaded from OSM; the clean data have already been loaded."
   ]
  },
  {
   "cell_type": "code",
   "execution_count": 13,
   "metadata": {},
   "outputs": [],
   "source": [
    "# load substation geodataframe\n",
    "df_substations_osm_raw = gpd.read_file(substations_OSMraw_path)\n",
    "# df_substations_osm_raw = df_substations_osm_raw[df_substations_osm_raw.Country == \"NG\"]\n",
    "# load lines geodataframe\n",
    "df_lines_osm_raw = gpd.read_file(lines_OSMraw_path)\n",
    "# df_lines_osm_raw = df_lines_osm_raw[df_lines_osm_raw.Country == \"NG\"]\n",
    "\n",
    "# note that epsg=3857 has been chosen so that lenghts are in meters"
   ]
  },
  {
   "cell_type": "markdown",
   "metadata": {},
   "source": [
    "#### 1.2.2 Crosscheck the unit of measurement\n",
    "\n",
    "In the following, we verify that the property ``geometry.length`` can be successfully used to measure the length of the line in meters (spoiler, it is). To do so, we need to use the crs ``EPSF:3763`` and compare the obtained value with the column ``Length`` available in the raw OSM data of dataframe ``df_lines_osm_raw``.\n",
    "\n",
    "As shown below, the two informations are very close which confirm the proposed approach."
   ]
  },
  {
   "cell_type": "code",
   "execution_count": 14,
   "metadata": {},
   "outputs": [
    {
     "data": {
      "text/html": [
       "<div>\n",
       "<style scoped>\n",
       "    .dataframe tbody tr th:only-of-type {\n",
       "        vertical-align: middle;\n",
       "    }\n",
       "\n",
       "    .dataframe tbody tr th {\n",
       "        vertical-align: top;\n",
       "    }\n",
       "\n",
       "    .dataframe thead th {\n",
       "        text-align: right;\n",
       "    }\n",
       "</style>\n",
       "<table border=\"1\" class=\"dataframe\">\n",
       "  <thead>\n",
       "    <tr style=\"text-align: right;\">\n",
       "      <th></th>\n",
       "      <th>Length</th>\n",
       "      <th>length_by_geometry</th>\n",
       "    </tr>\n",
       "  </thead>\n",
       "  <tbody>\n",
       "    <tr>\n",
       "      <th>0</th>\n",
       "      <td>11510.599530</td>\n",
       "      <td>11510.599530</td>\n",
       "    </tr>\n",
       "    <tr>\n",
       "      <th>1</th>\n",
       "      <td>54.334966</td>\n",
       "      <td>54.334966</td>\n",
       "    </tr>\n",
       "    <tr>\n",
       "      <th>2</th>\n",
       "      <td>108.331636</td>\n",
       "      <td>108.331636</td>\n",
       "    </tr>\n",
       "    <tr>\n",
       "      <th>3</th>\n",
       "      <td>48.181889</td>\n",
       "      <td>48.181889</td>\n",
       "    </tr>\n",
       "    <tr>\n",
       "      <th>4</th>\n",
       "      <td>56.434628</td>\n",
       "      <td>56.434628</td>\n",
       "    </tr>\n",
       "  </tbody>\n",
       "</table>\n",
       "</div>"
      ],
      "text/plain": [
       "         Length  length_by_geometry\n",
       "0  11510.599530        11510.599530\n",
       "1     54.334966           54.334966\n",
       "2    108.331636          108.331636\n",
       "3     48.181889           48.181889\n",
       "4     56.434628           56.434628"
      ]
     },
     "execution_count": 14,
     "metadata": {},
     "output_type": "execute_result"
    }
   ],
   "source": [
    "df_lines_osm_raw[\"length_by_geometry\"] = df_lines_osm_raw.to_crs(\n",
    "    epsg=3857\n",
    ").geometry.length\n",
    "df_lines_osm_raw[[\"Length\", \"length_by_geometry\"]].head()"
   ]
  },
  {
   "cell_type": "markdown",
   "metadata": {},
   "source": [
    "#### 1.2.3 Verify the value of column ``tags.cables``\n",
    "\n",
    "In the following we show the value of the dataframe column ``tags.cables`` to validate and verify the quality of the approximation used to estimate the total length.\n",
    "This property describes the number of cables per geometric line, as reported in the OSM dataset and it is an important information to estimate the total length of the lines operated by each TSO.\n",
    "In fact each geometric path may enable to carry multiple circuits, thus it is important to properly account to them when it occurs. Sicne three phase lines are mostly used, each circuit is composed by three cables.\n",
    "\n",
    "In particular, we show that only integer and None values are available: by convention the None values will be changed to 3 as base-case scenario."
   ]
  },
  {
   "cell_type": "code",
   "execution_count": 15,
   "metadata": {},
   "outputs": [
    {
     "data": {
      "text/plain": [
       "array(['6', '3', None, '2', '4', '1', '5', '12', '9', '7', '0'],\n",
       "      dtype=object)"
      ]
     },
     "execution_count": 15,
     "metadata": {},
     "output_type": "execute_result"
    }
   ],
   "source": [
    "df_lines_osm_raw[\"tags.cables\"].unique()"
   ]
  },
  {
   "cell_type": "markdown",
   "metadata": {},
   "source": [
    "#### 1.2.4. Calculate the total line length for OSM raw data\n",
    "\n",
    "In this case, we calculate the total length of the lines."
   ]
  },
  {
   "cell_type": "markdown",
   "metadata": {},
   "source": [
    "Show line length by voltage level [km]\n",
    "\n",
    "Note: when multiple circuits are available, the length of the line is multiplied accordingly."
   ]
  },
  {
   "cell_type": "code",
   "execution_count": 16,
   "metadata": {},
   "outputs": [
    {
     "data": {
      "text/plain": [
       "tags.voltage\n",
       "0                        101.143805\n",
       "11                        20.673653\n",
       "11000                     38.003393\n",
       "110000                  7451.601511\n",
       "115000                    22.489348\n",
       "                           ...     \n",
       "Avenida La Esperanza       2.287838\n",
       "KV30                       2.706811\n",
       "high-medium                5.444692\n",
       "low                        0.953750\n",
       "medium                   147.618223\n",
       "Name: length, Length: 67, dtype: float64"
      ]
     },
     "execution_count": 16,
     "metadata": {},
     "output_type": "execute_result"
    }
   ],
   "source": [
    "# Note, since CRS EPSG:3763 is used, distances are in meters, thus by dividing for 1000, the units are in km\n",
    "df_lines_osm_raw[\"cables_fix\"] = df_lines_osm_raw[\"tags.cables\"].copy()\n",
    "df_lines_osm_raw.loc[\n",
    "    df_lines_osm_raw[\"tags.cables\"].isnull() | df_lines_osm_raw[\"tags.cables\"].isna(),\n",
    "    \"cables_fix\",\n",
    "] = 3  # when NaN or None, set default value\n",
    "df_lines_osm_raw[\"length\"] = (\n",
    "    df_lines_osm_raw.to_crs(epsg=3857).geometry.length\n",
    "    * df_lines_osm_raw[\"cables_fix\"].astype(float)\n",
    "    / 3\n",
    ")\n",
    "df_lines_osm_raw.groupby(by=[\"tags.voltage\"]).length.sum() / 1000"
   ]
  },
  {
   "cell_type": "markdown",
   "metadata": {},
   "source": [
    "Total lines length [km]"
   ]
  },
  {
   "cell_type": "code",
   "execution_count": 17,
   "metadata": {},
   "outputs": [
    {
     "data": {
      "text/plain": [
       "413196.7544242994"
      ]
     },
     "execution_count": 17,
     "metadata": {},
     "output_type": "execute_result"
    }
   ],
   "source": [
    "df_lines_osm_raw.to_crs(epsg=3857).length.sum() / 1000"
   ]
  },
  {
   "cell_type": "markdown",
   "metadata": {},
   "source": [
    "Furthermore, for the purpose of clarity, it is also shown the total length of the line where information on the number of circuits has been fixed (length of the lines where the cables data where missing)\n",
    "\n",
    "Show total line length [km] for lines where information on the number of circuits is not available"
   ]
  },
  {
   "cell_type": "code",
   "execution_count": 18,
   "metadata": {},
   "outputs": [
    {
     "data": {
      "text/plain": [
       "61828.24251412215"
      ]
     },
     "execution_count": 18,
     "metadata": {},
     "output_type": "execute_result"
    }
   ],
   "source": [
    "# Note, since CRS EPSG:3763 is used, distances are in meters, thus by dividing for 1000, the units are in km\n",
    "df_lines_osm_raw.to_crs(epsg=3857)[\n",
    "    df_lines_osm_raw[\"tags.cables\"].isnull()\n",
    "    | df_lines_osm_raw[\"tags.cables\"].isna()  # when NaN or None, set default value\n",
    "].geometry.length.sum() / 1000"
   ]
  },
  {
   "cell_type": "markdown",
   "metadata": {},
   "source": [
    "#### 1.2.5. Calculate the total line length for OSM clean data\n",
    "\n",
    "Finally, the information on total line length for the clean dataset are calculated.\n",
    "\n",
    "Show line length by voltage level [km]\n",
    "\n",
    "Note: when multiple circuits are available, the length of the line is multiplied accordingly."
   ]
  },
  {
   "cell_type": "code",
   "execution_count": 19,
   "metadata": {},
   "outputs": [
    {
     "data": {
      "text/plain": [
       "voltage\n",
       "44000         60.327569\n",
       "45000         31.882627\n",
       "60000      34534.258248\n",
       "63000        421.352794\n",
       "66000      41484.542030\n",
       "69000         50.816354\n",
       "70000        336.221484\n",
       "88000      11404.255999\n",
       "90000       5990.580169\n",
       "110000      7455.676984\n",
       "115000        22.489348\n",
       "120000      1184.261679\n",
       "132000     68056.526768\n",
       "138000       147.214901\n",
       "150000      4479.662794\n",
       "161000      6980.942528\n",
       "220000    100140.024842\n",
       "222000        13.391679\n",
       "225000     41727.977947\n",
       "230000      7856.891480\n",
       "275000      8834.852446\n",
       "330000     21091.489842\n",
       "350000      4028.509825\n",
       "380000         0.295992\n",
       "400000     58279.628955\n",
       "500000     17459.497205\n",
       "533000      4783.407812\n",
       "765000      3216.830039\n",
       "Name: length, dtype: float64"
      ]
     },
     "execution_count": 19,
     "metadata": {},
     "output_type": "execute_result"
    }
   ],
   "source": [
    "# Note, since CRS EPSG:3763 is used, distances are in meters, thus by dividing for 1000, the units are in km\n",
    "df_lines_osm_clean[\"length\"] = (\n",
    "    df_lines_osm_clean.to_crs(epsg=3857).geometry.length\n",
    "    * df_lines_osm_clean.circuits\n",
    "    / 1000\n",
    ")\n",
    "df_lines_osm_clean.groupby(by=[\"voltage\"]).length.sum()"
   ]
  },
  {
   "cell_type": "markdown",
   "metadata": {},
   "source": [
    "Total lines length [km]"
   ]
  },
  {
   "cell_type": "code",
   "execution_count": 20,
   "metadata": {},
   "outputs": [
    {
     "data": {
      "text/plain": [
       "371516.19283394335"
      ]
     },
     "execution_count": 20,
     "metadata": {},
     "output_type": "execute_result"
    }
   ],
   "source": [
    "df_lines_osm_clean.to_crs(epsg=3857).length.sum() / 1000"
   ]
  },
  {
   "cell_type": "code",
   "execution_count": 21,
   "metadata": {},
   "outputs": [
    {
     "data": {
      "text/plain": [
       "voltage\n",
       "44000         60.327569\n",
       "45000         31.882627\n",
       "60000      34534.258248\n",
       "63000        421.352794\n",
       "66000      41484.542030\n",
       "69000         50.816354\n",
       "70000        336.221484\n",
       "88000      11404.255999\n",
       "90000       5990.580169\n",
       "110000      7455.676984\n",
       "115000        22.489348\n",
       "120000      1184.261679\n",
       "132000     68056.526768\n",
       "138000       147.214901\n",
       "150000      4479.662794\n",
       "161000      6980.942528\n",
       "220000    100140.024842\n",
       "222000        13.391679\n",
       "225000     41727.977947\n",
       "230000      7856.891480\n",
       "275000      8834.852446\n",
       "330000     21091.489842\n",
       "350000      4028.509825\n",
       "380000         0.295992\n",
       "400000     58279.628955\n",
       "500000     17459.497205\n",
       "533000      4783.407812\n",
       "765000      3216.830039\n",
       "Name: length, dtype: float64"
      ]
     },
     "execution_count": 21,
     "metadata": {},
     "output_type": "execute_result"
    }
   ],
   "source": [
    "df_lines_osm_clean[\"length\"] = (\n",
    "    df_lines_osm_clean.to_crs(epsg=3857).geometry.length\n",
    "    * df_lines_osm_clean.circuits\n",
    "    / 1000\n",
    ")\n",
    "df_lines_osm_clean.groupby(by=[\"voltage\"]).length.sum()"
   ]
  },
  {
   "cell_type": "markdown",
   "metadata": {},
   "source": [
    "#### 1.2.6. Remarks on the line length\n",
    "\n",
    "According to the data available from the [Transmission Company of Nigeria (ISO)](https://nerc.gov.ng/index.php/home/nesi/404-transmission), in Nigeria, there are:\n",
    "\n",
    "- \\> 20000km lines\n",
    "- \\> 7500MW line capacity\n",
    "\n",
    "Therefore, the current OSM data cleaning captures around 60% (12752/20000) the network length; yet, this value is pretty close to the input data available from OSM data.\n",
    "\n",
    "The shape, however, is quire representative of the network shown in the image above. A big contribution to solve this element may be related to the number of circuits that may not be well corresponding to what actually in place. About 2800 km of geometric lines distances do not have the number of circuits specified.\n",
    "\n",
    "Moreover, recent network upgrades may not be well represented."
   ]
  },
  {
   "cell_type": "markdown",
   "metadata": {},
   "source": [
    "## 2. Analysis on the demand data\n",
    "\n",
    "In the following section, let's investigate the electrical demand used in the simulations.\n",
    "\n",
    "According to [IEA](https://www.iea.org/articles/nigeria-energy-outlook), the electricity demand in Nigeria was about 57 TWh.\n",
    "\n",
    "Let's verify the input used in pypsa-africa."
   ]
  },
  {
   "cell_type": "markdown",
   "metadata": {},
   "source": [
    "#### Load the model"
   ]
  },
  {
   "cell_type": "code",
   "execution_count": 29,
   "metadata": {},
   "outputs": [
    {
     "name": "stderr",
     "output_type": "stream",
     "text": [
      "INFO:pypsa.io:Imported network elec_s_100_ec_lcopt_Co2L-3H.nc has buses, carriers, generators, global_constraints, lines, links, loads, storage_units, stores\n"
     ]
    }
   ],
   "source": [
    "n_solve = pypsa.Network(solved_network_path)"
   ]
  },
  {
   "cell_type": "markdown",
   "metadata": {},
   "source": [
    "#### Calculate total demand\n",
    "\n",
    "Calculate the total demand used in the simulations.\n",
    "Please, note that the actual demand shall be scaled to account for the number of representative days/periods that have been used."
   ]
  },
  {
   "cell_type": "code",
   "execution_count": 23,
   "metadata": {},
   "outputs": [
    {
     "name": "stdout",
     "output_type": "stream",
     "text": [
      "Demand in TWh: 0.00\n"
     ]
    }
   ],
   "source": [
    "# filter only Nigerian demand\n",
    "nigeria_demand = n_solve.loads_t.p.filter(regex=\"NG *\", axis=1)\n",
    "\n",
    "# raw sum used in the model\n",
    "tot_yearly_demand_scaled = nigeria_demand.sum().sum()\n",
    "\n",
    "# rescaled value accounting for the number of representative days: the factor (8760/nigeria_demand.shape[0]) is the multiplier\n",
    "tot_yearly_demand = tot_yearly_demand_scaled * 8760 / nigeria_demand.shape[0]\n",
    "\n",
    "# show value in TWh\n",
    "print(\"Demand in TWh: %.2f\" % (tot_yearly_demand / 1000000))"
   ]
  },
  {
   "cell_type": "markdown",
   "metadata": {},
   "source": [
    "#### Comments on the demand\n",
    "\n",
    "It is worth noticing that the expected demand is aligned to the current Nigerian electrical demand"
   ]
  },
  {
   "cell_type": "markdown",
   "metadata": {},
   "source": [
    "## 3. Installed generation by type\n",
    "\n",
    "In the subsequent section, the total installed generation is compared to validate the model.\n",
    "\n",
    "According to [USAID](https://www.usaid.gov/powerafrica/nigeria), the total installed generation in Nigeria is:\n",
    "- Hydro: 2.062 GW\n",
    "- Gas: 11.972 GW\n",
    "- Wind: 0.01 MW\n",
    "- Solar: 0.007 MW\n",
    "- Other/Diesel/HFO: 2.333 GW\n",
    "\n",
    "Total: 16.4 GW\n",
    "\n",
    "These numbers are compared to the ones used in pypsa-africa"
   ]
  },
  {
   "cell_type": "code",
   "execution_count": 30,
   "metadata": {},
   "outputs": [
    {
     "data": {
      "text/html": [
       "<div>\n",
       "<style scoped>\n",
       "    .dataframe tbody tr th:only-of-type {\n",
       "        vertical-align: middle;\n",
       "    }\n",
       "\n",
       "    .dataframe tbody tr th {\n",
       "        vertical-align: top;\n",
       "    }\n",
       "\n",
       "    .dataframe thead th {\n",
       "        text-align: right;\n",
       "    }\n",
       "</style>\n",
       "<table border=\"1\" class=\"dataframe\">\n",
       "  <thead>\n",
       "    <tr style=\"text-align: right;\">\n",
       "      <th></th>\n",
       "      <th>p_nom_max</th>\n",
       "      <th>weight</th>\n",
       "      <th>p_nom</th>\n",
       "      <th>capital_cost</th>\n",
       "      <th>carrier</th>\n",
       "      <th>marginal_cost</th>\n",
       "      <th>bus</th>\n",
       "      <th>p_nom_extendable</th>\n",
       "      <th>efficiency</th>\n",
       "      <th>control</th>\n",
       "      <th>p_nom_opt</th>\n",
       "      <th>sign</th>\n",
       "      <th>type</th>\n",
       "      <th>p_nom_min</th>\n",
       "      <th>p_min_pu</th>\n",
       "      <th>p_max_pu</th>\n",
       "      <th>p_set</th>\n",
       "      <th>q_set</th>\n",
       "      <th>build_year</th>\n",
       "      <th>lifetime</th>\n",
       "      <th>committable</th>\n",
       "      <th>start_up_cost</th>\n",
       "      <th>shut_down_cost</th>\n",
       "      <th>min_up_time</th>\n",
       "      <th>min_down_time</th>\n",
       "      <th>up_time_before</th>\n",
       "      <th>down_time_before</th>\n",
       "      <th>ramp_limit_up</th>\n",
       "      <th>ramp_limit_down</th>\n",
       "      <th>ramp_limit_start_up</th>\n",
       "      <th>ramp_limit_shut_down</th>\n",
       "    </tr>\n",
       "    <tr>\n",
       "      <th>Generator</th>\n",
       "      <th></th>\n",
       "      <th></th>\n",
       "      <th></th>\n",
       "      <th></th>\n",
       "      <th></th>\n",
       "      <th></th>\n",
       "      <th></th>\n",
       "      <th></th>\n",
       "      <th></th>\n",
       "      <th></th>\n",
       "      <th></th>\n",
       "      <th></th>\n",
       "      <th></th>\n",
       "      <th></th>\n",
       "      <th></th>\n",
       "      <th></th>\n",
       "      <th></th>\n",
       "      <th></th>\n",
       "      <th></th>\n",
       "      <th></th>\n",
       "      <th></th>\n",
       "      <th></th>\n",
       "      <th></th>\n",
       "      <th></th>\n",
       "      <th></th>\n",
       "      <th></th>\n",
       "      <th></th>\n",
       "      <th></th>\n",
       "      <th></th>\n",
       "      <th></th>\n",
       "      <th></th>\n",
       "    </tr>\n",
       "  </thead>\n",
       "  <tbody>\n",
       "    <tr>\n",
       "      <th>AO 0 CCGT</th>\n",
       "      <td>NaN</td>\n",
       "      <td>0.000000</td>\n",
       "      <td>1.636800e+02</td>\n",
       "      <td>0.000000</td>\n",
       "      <td>CCGT</td>\n",
       "      <td>47.209399</td>\n",
       "      <td>AO 0</td>\n",
       "      <td>False</td>\n",
       "      <td>0.500</td>\n",
       "      <td>Slack</td>\n",
       "      <td>NaN</td>\n",
       "      <td>1.000</td>\n",
       "      <td></td>\n",
       "      <td>0.0</td>\n",
       "      <td>0.0</td>\n",
       "      <td>1.0</td>\n",
       "      <td>0.0</td>\n",
       "      <td>0.0</td>\n",
       "      <td>0</td>\n",
       "      <td>inf</td>\n",
       "      <td>False</td>\n",
       "      <td>0.0</td>\n",
       "      <td>0.0</td>\n",
       "      <td>0</td>\n",
       "      <td>0</td>\n",
       "      <td>1</td>\n",
       "      <td>0</td>\n",
       "      <td>NaN</td>\n",
       "      <td>NaN</td>\n",
       "      <td>1.0</td>\n",
       "      <td>1.0</td>\n",
       "    </tr>\n",
       "    <tr>\n",
       "      <th>AO 0 oil</th>\n",
       "      <td>NaN</td>\n",
       "      <td>0.000000</td>\n",
       "      <td>3.212408e+02</td>\n",
       "      <td>0.000000</td>\n",
       "      <td>oil</td>\n",
       "      <td>130.236478</td>\n",
       "      <td>AO 0</td>\n",
       "      <td>False</td>\n",
       "      <td>0.393</td>\n",
       "      <td></td>\n",
       "      <td>NaN</td>\n",
       "      <td>1.000</td>\n",
       "      <td></td>\n",
       "      <td>0.0</td>\n",
       "      <td>0.0</td>\n",
       "      <td>1.0</td>\n",
       "      <td>0.0</td>\n",
       "      <td>0.0</td>\n",
       "      <td>0</td>\n",
       "      <td>inf</td>\n",
       "      <td>False</td>\n",
       "      <td>0.0</td>\n",
       "      <td>0.0</td>\n",
       "      <td>0</td>\n",
       "      <td>0</td>\n",
       "      <td>1</td>\n",
       "      <td>0</td>\n",
       "      <td>NaN</td>\n",
       "      <td>NaN</td>\n",
       "      <td>1.0</td>\n",
       "      <td>1.0</td>\n",
       "    </tr>\n",
       "    <tr>\n",
       "      <th>AO 0 onwind</th>\n",
       "      <td>2.444418e+06</td>\n",
       "      <td>147268.336082</td>\n",
       "      <td>0.000000e+00</td>\n",
       "      <td>109295.569252</td>\n",
       "      <td>onwind</td>\n",
       "      <td>0.024083</td>\n",
       "      <td>AO 0</td>\n",
       "      <td>True</td>\n",
       "      <td>1.000</td>\n",
       "      <td></td>\n",
       "      <td>NaN</td>\n",
       "      <td>1.000</td>\n",
       "      <td></td>\n",
       "      <td>0.0</td>\n",
       "      <td>0.0</td>\n",
       "      <td>1.0</td>\n",
       "      <td>0.0</td>\n",
       "      <td>0.0</td>\n",
       "      <td>0</td>\n",
       "      <td>inf</td>\n",
       "      <td>False</td>\n",
       "      <td>0.0</td>\n",
       "      <td>0.0</td>\n",
       "      <td>0</td>\n",
       "      <td>0</td>\n",
       "      <td>1</td>\n",
       "      <td>0</td>\n",
       "      <td>NaN</td>\n",
       "      <td>NaN</td>\n",
       "      <td>1.0</td>\n",
       "      <td>1.0</td>\n",
       "    </tr>\n",
       "    <tr>\n",
       "      <th>AO 0 ror</th>\n",
       "      <td>NaN</td>\n",
       "      <td>362.038729</td>\n",
       "      <td>3.620387e+02</td>\n",
       "      <td>270940.715283</td>\n",
       "      <td>ror</td>\n",
       "      <td>0.009533</td>\n",
       "      <td>AO 0</td>\n",
       "      <td>False</td>\n",
       "      <td>0.900</td>\n",
       "      <td></td>\n",
       "      <td>NaN</td>\n",
       "      <td>1.000</td>\n",
       "      <td></td>\n",
       "      <td>0.0</td>\n",
       "      <td>0.0</td>\n",
       "      <td>1.0</td>\n",
       "      <td>0.0</td>\n",
       "      <td>0.0</td>\n",
       "      <td>0</td>\n",
       "      <td>inf</td>\n",
       "      <td>False</td>\n",
       "      <td>0.0</td>\n",
       "      <td>0.0</td>\n",
       "      <td>0</td>\n",
       "      <td>0</td>\n",
       "      <td>1</td>\n",
       "      <td>0</td>\n",
       "      <td>NaN</td>\n",
       "      <td>NaN</td>\n",
       "      <td>1.0</td>\n",
       "      <td>1.0</td>\n",
       "    </tr>\n",
       "    <tr>\n",
       "      <th>AO 0 solar</th>\n",
       "      <td>6.400803e+05</td>\n",
       "      <td>77387.019006</td>\n",
       "      <td>0.000000e+00</td>\n",
       "      <td>55064.071419</td>\n",
       "      <td>solar</td>\n",
       "      <td>0.020896</td>\n",
       "      <td>AO 0</td>\n",
       "      <td>True</td>\n",
       "      <td>1.000</td>\n",
       "      <td></td>\n",
       "      <td>NaN</td>\n",
       "      <td>1.000</td>\n",
       "      <td></td>\n",
       "      <td>0.0</td>\n",
       "      <td>0.0</td>\n",
       "      <td>1.0</td>\n",
       "      <td>0.0</td>\n",
       "      <td>0.0</td>\n",
       "      <td>0</td>\n",
       "      <td>inf</td>\n",
       "      <td>False</td>\n",
       "      <td>0.0</td>\n",
       "      <td>0.0</td>\n",
       "      <td>0</td>\n",
       "      <td>0</td>\n",
       "      <td>1</td>\n",
       "      <td>0</td>\n",
       "      <td>NaN</td>\n",
       "      <td>NaN</td>\n",
       "      <td>1.0</td>\n",
       "      <td>1.0</td>\n",
       "    </tr>\n",
       "    <tr>\n",
       "      <th>...</th>\n",
       "      <td>...</td>\n",
       "      <td>...</td>\n",
       "      <td>...</td>\n",
       "      <td>...</td>\n",
       "      <td>...</td>\n",
       "      <td>...</td>\n",
       "      <td>...</td>\n",
       "      <td>...</td>\n",
       "      <td>...</td>\n",
       "      <td>...</td>\n",
       "      <td>...</td>\n",
       "      <td>...</td>\n",
       "      <td>...</td>\n",
       "      <td>...</td>\n",
       "      <td>...</td>\n",
       "      <td>...</td>\n",
       "      <td>...</td>\n",
       "      <td>...</td>\n",
       "      <td>...</td>\n",
       "      <td>...</td>\n",
       "      <td>...</td>\n",
       "      <td>...</td>\n",
       "      <td>...</td>\n",
       "      <td>...</td>\n",
       "      <td>...</td>\n",
       "      <td>...</td>\n",
       "      <td>...</td>\n",
       "      <td>...</td>\n",
       "      <td>...</td>\n",
       "      <td>...</td>\n",
       "      <td>...</td>\n",
       "    </tr>\n",
       "    <tr>\n",
       "      <th>ZA 7 load</th>\n",
       "      <td>inf</td>\n",
       "      <td>NaN</td>\n",
       "      <td>1.000000e+09</td>\n",
       "      <td>0.000000</td>\n",
       "      <td>load</td>\n",
       "      <td>8000.009034</td>\n",
       "      <td>ZA 7</td>\n",
       "      <td>False</td>\n",
       "      <td>1.000</td>\n",
       "      <td>PQ</td>\n",
       "      <td>0.0</td>\n",
       "      <td>0.001</td>\n",
       "      <td></td>\n",
       "      <td>0.0</td>\n",
       "      <td>0.0</td>\n",
       "      <td>1.0</td>\n",
       "      <td>0.0</td>\n",
       "      <td>0.0</td>\n",
       "      <td>0</td>\n",
       "      <td>inf</td>\n",
       "      <td>False</td>\n",
       "      <td>0.0</td>\n",
       "      <td>0.0</td>\n",
       "      <td>0</td>\n",
       "      <td>0</td>\n",
       "      <td>1</td>\n",
       "      <td>0</td>\n",
       "      <td>NaN</td>\n",
       "      <td>NaN</td>\n",
       "      <td>1.0</td>\n",
       "      <td>1.0</td>\n",
       "    </tr>\n",
       "    <tr>\n",
       "      <th>ZA 8 load</th>\n",
       "      <td>inf</td>\n",
       "      <td>NaN</td>\n",
       "      <td>1.000000e+09</td>\n",
       "      <td>0.000000</td>\n",
       "      <td>load</td>\n",
       "      <td>8000.009850</td>\n",
       "      <td>ZA 8</td>\n",
       "      <td>False</td>\n",
       "      <td>1.000</td>\n",
       "      <td>PQ</td>\n",
       "      <td>0.0</td>\n",
       "      <td>0.001</td>\n",
       "      <td></td>\n",
       "      <td>0.0</td>\n",
       "      <td>0.0</td>\n",
       "      <td>1.0</td>\n",
       "      <td>0.0</td>\n",
       "      <td>0.0</td>\n",
       "      <td>0</td>\n",
       "      <td>inf</td>\n",
       "      <td>False</td>\n",
       "      <td>0.0</td>\n",
       "      <td>0.0</td>\n",
       "      <td>0</td>\n",
       "      <td>0</td>\n",
       "      <td>1</td>\n",
       "      <td>0</td>\n",
       "      <td>NaN</td>\n",
       "      <td>NaN</td>\n",
       "      <td>1.0</td>\n",
       "      <td>1.0</td>\n",
       "    </tr>\n",
       "    <tr>\n",
       "      <th>ZA 9 load</th>\n",
       "      <td>inf</td>\n",
       "      <td>NaN</td>\n",
       "      <td>1.000000e+09</td>\n",
       "      <td>0.000000</td>\n",
       "      <td>load</td>\n",
       "      <td>8000.010883</td>\n",
       "      <td>ZA 9</td>\n",
       "      <td>False</td>\n",
       "      <td>1.000</td>\n",
       "      <td>PQ</td>\n",
       "      <td>0.0</td>\n",
       "      <td>0.001</td>\n",
       "      <td></td>\n",
       "      <td>0.0</td>\n",
       "      <td>0.0</td>\n",
       "      <td>1.0</td>\n",
       "      <td>0.0</td>\n",
       "      <td>0.0</td>\n",
       "      <td>0</td>\n",
       "      <td>inf</td>\n",
       "      <td>False</td>\n",
       "      <td>0.0</td>\n",
       "      <td>0.0</td>\n",
       "      <td>0</td>\n",
       "      <td>0</td>\n",
       "      <td>1</td>\n",
       "      <td>0</td>\n",
       "      <td>NaN</td>\n",
       "      <td>NaN</td>\n",
       "      <td>1.0</td>\n",
       "      <td>1.0</td>\n",
       "    </tr>\n",
       "    <tr>\n",
       "      <th>ZM 0 load</th>\n",
       "      <td>inf</td>\n",
       "      <td>NaN</td>\n",
       "      <td>1.000000e+09</td>\n",
       "      <td>0.000000</td>\n",
       "      <td>load</td>\n",
       "      <td>8000.009423</td>\n",
       "      <td>ZM 0</td>\n",
       "      <td>False</td>\n",
       "      <td>1.000</td>\n",
       "      <td>PQ</td>\n",
       "      <td>0.0</td>\n",
       "      <td>0.001</td>\n",
       "      <td></td>\n",
       "      <td>0.0</td>\n",
       "      <td>0.0</td>\n",
       "      <td>1.0</td>\n",
       "      <td>0.0</td>\n",
       "      <td>0.0</td>\n",
       "      <td>0</td>\n",
       "      <td>inf</td>\n",
       "      <td>False</td>\n",
       "      <td>0.0</td>\n",
       "      <td>0.0</td>\n",
       "      <td>0</td>\n",
       "      <td>0</td>\n",
       "      <td>1</td>\n",
       "      <td>0</td>\n",
       "      <td>NaN</td>\n",
       "      <td>NaN</td>\n",
       "      <td>1.0</td>\n",
       "      <td>1.0</td>\n",
       "    </tr>\n",
       "    <tr>\n",
       "      <th>ZW 0 load</th>\n",
       "      <td>inf</td>\n",
       "      <td>NaN</td>\n",
       "      <td>1.000000e+09</td>\n",
       "      <td>0.000000</td>\n",
       "      <td>load</td>\n",
       "      <td>8000.010343</td>\n",
       "      <td>ZW 0</td>\n",
       "      <td>False</td>\n",
       "      <td>1.000</td>\n",
       "      <td>PQ</td>\n",
       "      <td>0.0</td>\n",
       "      <td>0.001</td>\n",
       "      <td></td>\n",
       "      <td>0.0</td>\n",
       "      <td>0.0</td>\n",
       "      <td>1.0</td>\n",
       "      <td>0.0</td>\n",
       "      <td>0.0</td>\n",
       "      <td>0</td>\n",
       "      <td>inf</td>\n",
       "      <td>False</td>\n",
       "      <td>0.0</td>\n",
       "      <td>0.0</td>\n",
       "      <td>0</td>\n",
       "      <td>0</td>\n",
       "      <td>1</td>\n",
       "      <td>0</td>\n",
       "      <td>NaN</td>\n",
       "      <td>NaN</td>\n",
       "      <td>1.0</td>\n",
       "      <td>1.0</td>\n",
       "    </tr>\n",
       "  </tbody>\n",
       "</table>\n",
       "<p>438 rows × 31 columns</p>\n",
       "</div>"
      ],
      "text/plain": [
       "                p_nom_max         weight         p_nom   capital_cost carrier  \\\n",
       "Generator                                                                       \n",
       "AO 0 CCGT             NaN       0.000000  1.636800e+02       0.000000    CCGT   \n",
       "AO 0 oil              NaN       0.000000  3.212408e+02       0.000000     oil   \n",
       "AO 0 onwind  2.444418e+06  147268.336082  0.000000e+00  109295.569252  onwind   \n",
       "AO 0 ror              NaN     362.038729  3.620387e+02  270940.715283     ror   \n",
       "AO 0 solar   6.400803e+05   77387.019006  0.000000e+00   55064.071419   solar   \n",
       "...                   ...            ...           ...            ...     ...   \n",
       "ZA 7 load             inf            NaN  1.000000e+09       0.000000    load   \n",
       "ZA 8 load             inf            NaN  1.000000e+09       0.000000    load   \n",
       "ZA 9 load             inf            NaN  1.000000e+09       0.000000    load   \n",
       "ZM 0 load             inf            NaN  1.000000e+09       0.000000    load   \n",
       "ZW 0 load             inf            NaN  1.000000e+09       0.000000    load   \n",
       "\n",
       "             marginal_cost   bus  p_nom_extendable  efficiency control  \\\n",
       "Generator                                                                \n",
       "AO 0 CCGT        47.209399  AO 0             False       0.500   Slack   \n",
       "AO 0 oil        130.236478  AO 0             False       0.393           \n",
       "AO 0 onwind       0.024083  AO 0              True       1.000           \n",
       "AO 0 ror          0.009533  AO 0             False       0.900           \n",
       "AO 0 solar        0.020896  AO 0              True       1.000           \n",
       "...                    ...   ...               ...         ...     ...   \n",
       "ZA 7 load      8000.009034  ZA 7             False       1.000      PQ   \n",
       "ZA 8 load      8000.009850  ZA 8             False       1.000      PQ   \n",
       "ZA 9 load      8000.010883  ZA 9             False       1.000      PQ   \n",
       "ZM 0 load      8000.009423  ZM 0             False       1.000      PQ   \n",
       "ZW 0 load      8000.010343  ZW 0             False       1.000      PQ   \n",
       "\n",
       "             p_nom_opt   sign type  p_nom_min  p_min_pu  p_max_pu  p_set  \\\n",
       "Generator                                                                  \n",
       "AO 0 CCGT          NaN  1.000             0.0       0.0       1.0    0.0   \n",
       "AO 0 oil           NaN  1.000             0.0       0.0       1.0    0.0   \n",
       "AO 0 onwind        NaN  1.000             0.0       0.0       1.0    0.0   \n",
       "AO 0 ror           NaN  1.000             0.0       0.0       1.0    0.0   \n",
       "AO 0 solar         NaN  1.000             0.0       0.0       1.0    0.0   \n",
       "...                ...    ...  ...        ...       ...       ...    ...   \n",
       "ZA 7 load          0.0  0.001             0.0       0.0       1.0    0.0   \n",
       "ZA 8 load          0.0  0.001             0.0       0.0       1.0    0.0   \n",
       "ZA 9 load          0.0  0.001             0.0       0.0       1.0    0.0   \n",
       "ZM 0 load          0.0  0.001             0.0       0.0       1.0    0.0   \n",
       "ZW 0 load          0.0  0.001             0.0       0.0       1.0    0.0   \n",
       "\n",
       "             q_set  build_year  lifetime  committable  start_up_cost  \\\n",
       "Generator                                                              \n",
       "AO 0 CCGT      0.0           0       inf        False            0.0   \n",
       "AO 0 oil       0.0           0       inf        False            0.0   \n",
       "AO 0 onwind    0.0           0       inf        False            0.0   \n",
       "AO 0 ror       0.0           0       inf        False            0.0   \n",
       "AO 0 solar     0.0           0       inf        False            0.0   \n",
       "...            ...         ...       ...          ...            ...   \n",
       "ZA 7 load      0.0           0       inf        False            0.0   \n",
       "ZA 8 load      0.0           0       inf        False            0.0   \n",
       "ZA 9 load      0.0           0       inf        False            0.0   \n",
       "ZM 0 load      0.0           0       inf        False            0.0   \n",
       "ZW 0 load      0.0           0       inf        False            0.0   \n",
       "\n",
       "             shut_down_cost  min_up_time  min_down_time  up_time_before  \\\n",
       "Generator                                                                 \n",
       "AO 0 CCGT               0.0            0              0               1   \n",
       "AO 0 oil                0.0            0              0               1   \n",
       "AO 0 onwind             0.0            0              0               1   \n",
       "AO 0 ror                0.0            0              0               1   \n",
       "AO 0 solar              0.0            0              0               1   \n",
       "...                     ...          ...            ...             ...   \n",
       "ZA 7 load               0.0            0              0               1   \n",
       "ZA 8 load               0.0            0              0               1   \n",
       "ZA 9 load               0.0            0              0               1   \n",
       "ZM 0 load               0.0            0              0               1   \n",
       "ZW 0 load               0.0            0              0               1   \n",
       "\n",
       "             down_time_before  ramp_limit_up  ramp_limit_down  \\\n",
       "Generator                                                       \n",
       "AO 0 CCGT                   0            NaN              NaN   \n",
       "AO 0 oil                    0            NaN              NaN   \n",
       "AO 0 onwind                 0            NaN              NaN   \n",
       "AO 0 ror                    0            NaN              NaN   \n",
       "AO 0 solar                  0            NaN              NaN   \n",
       "...                       ...            ...              ...   \n",
       "ZA 7 load                   0            NaN              NaN   \n",
       "ZA 8 load                   0            NaN              NaN   \n",
       "ZA 9 load                   0            NaN              NaN   \n",
       "ZM 0 load                   0            NaN              NaN   \n",
       "ZW 0 load                   0            NaN              NaN   \n",
       "\n",
       "             ramp_limit_start_up  ramp_limit_shut_down  \n",
       "Generator                                               \n",
       "AO 0 CCGT                    1.0                   1.0  \n",
       "AO 0 oil                     1.0                   1.0  \n",
       "AO 0 onwind                  1.0                   1.0  \n",
       "AO 0 ror                     1.0                   1.0  \n",
       "AO 0 solar                   1.0                   1.0  \n",
       "...                          ...                   ...  \n",
       "ZA 7 load                    1.0                   1.0  \n",
       "ZA 8 load                    1.0                   1.0  \n",
       "ZA 9 load                    1.0                   1.0  \n",
       "ZM 0 load                    1.0                   1.0  \n",
       "ZW 0 load                    1.0                   1.0  \n",
       "\n",
       "[438 rows x 31 columns]"
      ]
     },
     "execution_count": 30,
     "metadata": {},
     "output_type": "execute_result"
    }
   ],
   "source": [
    "n_solve.generators"
   ]
  },
  {
   "cell_type": "code",
   "execution_count": 33,
   "metadata": {},
   "outputs": [
    {
     "data": {
      "text/plain": [
       "carrier\n",
       "CCGT      5.452027e+04\n",
       "OCGT      1.376421e+04\n",
       "coal      4.104036e+04\n",
       "load      1.000000e+11\n",
       "oil       4.986082e+04\n",
       "onwind    0.000000e+00\n",
       "ror       6.264847e+03\n",
       "solar     0.000000e+00\n",
       "Name: p_nom, dtype: float64"
      ]
     },
     "execution_count": 33,
     "metadata": {},
     "output_type": "execute_result"
    }
   ],
   "source": [
    "# filter only generators in Nigeria\n",
    "nigeria_generators = n_solve.generators  # .filter(regex=\"NG *\", axis=0)\n",
    "\n",
    "# obtain installed generation by carrier\n",
    "nigeria_generators.groupby(by=\"carrier\")[\"p_nom\"].sum()"
   ]
  },
  {
   "cell_type": "markdown",
   "metadata": {},
   "source": [
    "The current data are of the same order of magnitude of those declared by public authorities, yet up-to-date data shall be used."
   ]
  },
  {
   "cell_type": "markdown",
   "metadata": {},
   "source": [
    "## 4. Energy production shares\n",
    "\n",
    "In the following, the total energy production shares as output of the total energy dispatch as available by IEA are compared to those calculated by the pypsa-africa procedure.\n",
    "\n",
    "The following image depicts the energy demand by source as computed in the Stated Policy Scenarios by [IEA](https://www.iea.org/articles/nigeria-energy-outlook), which is used as a reference for comparison purposes\n",
    "\n",
    "![Nigerian demand - IEA](../../images/Nigeria_data/Nigeria_demand.png)\n",
    "[Source link](https://www.iea.org/articles/nigeria-energy-outlook)"
   ]
  },
  {
   "cell_type": "code",
   "execution_count": 32,
   "metadata": {},
   "outputs": [
    {
     "data": {
      "text/plain": [
       "Series([], dtype: float64)"
      ]
     },
     "execution_count": 32,
     "metadata": {},
     "output_type": "execute_result"
    }
   ],
   "source": [
    "# filter only generators in Nigeria\n",
    "nigeria_generators_dispatch = n_solve.generators_t.p.filter(regex=\"NG *\", axis=1).copy()\n",
    "\n",
    "# rename column to keep only the carrier\n",
    "nigeria_generators_dispatch.rename(\n",
    "    columns=dict(\n",
    "        zip(\n",
    "            nigeria_generators_dispatch.columns,\n",
    "            map(\n",
    "                lambda x: re.sub(r\"NG \\d+ \", \"\", x), nigeria_generators_dispatch.columns\n",
    "            ),\n",
    "        )\n",
    "    ),\n",
    "    inplace=True,\n",
    ")\n",
    "\n",
    "# obtain generation by carrier\n",
    "nigeria_generators_dispatch.groupby(\n",
    "    level=0, axis=1\n",
    ").sum().sum() * 8760 / nigeria_generators_dispatch.shape[0] / 1000000"
   ]
  },
  {
   "cell_type": "markdown",
   "metadata": {},
   "source": [
    "#### Comments\n",
    "- Currently Oil (back-up generators) is not dispatched and numbers do not match\n",
    "- hydro is basically missing"
   ]
  }
 ],
 "metadata": {
  "kernelspec": {
   "display_name": "Python 3.9.12 ('pypsa-africa')",
   "language": "python",
   "name": "python3"
  },
  "language_info": {
   "codemirror_mode": {
    "name": "ipython",
    "version": 3
   },
   "file_extension": ".py",
   "mimetype": "text/x-python",
   "name": "python",
   "nbconvert_exporter": "python",
   "pygments_lexer": "ipython3",
   "version": "3.9.12"
  },
  "vscode": {
   "interpreter": {
    "hash": "9cf24c4161cf9b5fb33ef9be908bda1439c8658e530339b1167da5d2ed581719"
   }
  }
 },
 "nbformat": 4,
 "nbformat_minor": 4
}

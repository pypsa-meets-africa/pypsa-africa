{
 "cells": [
  {
   "cell_type": "markdown",
   "metadata": {},
   "source": [
    "OLD: Attempt with pyrosm"
   ]
  },
  {
   "cell_type": "code",
   "execution_count": 1,
   "metadata": {},
   "outputs": [],
   "source": [
    "#Requires to have geopandas installed\n",
    "#Installation https://geopandas.org/getting_started/install.html\n",
    "\n",
    "import matplotlib.pyplot as plt \n",
    "import geopandas as gpd\n",
    "import geoplot\n",
    "import pandas as pd\n",
    "import fiona #;help(fiona.open)\n",
    "import requests\n",
    "from pandas import json_normalize\n",
    "import requests # convert json into dataframe\n",
    "#For OSM \n",
    "import pyrosm\n",
    "import numpy as np\n",
    "from pyrosm import OSM, get_data"
   ]
  },
  {
   "cell_type": "code",
   "execution_count": 3,
   "metadata": {},
   "outputs": [],
   "source": [
    "pd.set_option('display.max_rows', 100)\n",
    "pd.set_option('display.max_columns', 100)"
   ]
  },
  {
   "cell_type": "markdown",
   "metadata": {},
   "source": [
    "#  Adding MENA to Africa"
   ]
  },
  {
   "cell_type": "code",
   "execution_count": 4,
   "metadata": {},
   "outputs": [],
   "source": [
    "world = gpd.read_file(gpd.datasets.get_path('naturalearth_lowres'))\n",
    "#world"
   ]
  },
  {
   "cell_type": "code",
   "execution_count": 5,
   "metadata": {},
   "outputs": [],
   "source": [
    "saudi = world.query('name == \"Saudi Arabia\"')\n",
    "yemen = world.query('name == \"Yemen\"')\n",
    "iraq = world.query('name == \"Iraq\"')\n",
    "oman = world.query('name == \"Oman\"')\n",
    "uae = world.query('name == \"United Arab Emirates\"')\n",
    "jordan = world.query('name == \"Jordan\"')\n",
    "palestine = world.query('name == \"Palestine\"')\n",
    "israel = world.query('name == \"Israel\"')\n",
    "qatar = world.query('name == \"Qatar\"')\n",
    "kuwait = world.query('name == \"Kuwait\"')\n",
    "\n",
    "mena = saudi.append(yemen).append(iraq).append(oman).append(uae).append(jordan).append(palestine).append(israel).append(qatar).append(kuwait)"
   ]
  },
  {
   "cell_type": "code",
   "execution_count": 6,
   "metadata": {},
   "outputs": [],
   "source": [
    "africa = world.query('continent == \"Africa\"').append(mena)\n",
    "#africa.head()"
   ]
  },
  {
   "cell_type": "code",
   "execution_count": 7,
   "metadata": {},
   "outputs": [],
   "source": [
    "### Example plot https://geopandas.org/gallery/plotting_with_geoplot.html?highlight=africa\n",
    "\n",
    "# #gdp_per_cap = world.gdp_md_est / world.pop_est\n",
    "# ax = geoplot.cartogram(\n",
    "#     africa, scale='pop_est', limits=(0.2, 1),\n",
    "#     edgecolor='None', figsize=(7, 8)\n",
    "# )\n",
    "# geoplot.polyplot(africa, edgecolor='gray', ax=ax)"
   ]
  },
  {
   "cell_type": "code",
   "execution_count": 7,
   "metadata": {},
   "outputs": [],
   "source": [
    "#ax = africa.plot(color=\"white\", edgecolors=\"red\",figsize=(10, 10))"
   ]
  },
  {
   "cell_type": "markdown",
   "metadata": {},
   "source": [
    "# 3) Substations - Onsset - OSM"
   ]
  },
  {
   "cell_type": "markdown",
   "metadata": {},
   "source": [
    "Install PYROSM to handle OSM data: https://pyrosm.readthedocs.io/en/latest/installation.html\n",
    "\n",
    "data source http://download.geofabrik.de/  \n",
    "\n",
    "data description: https://gep-onsset.readthedocs.io/en/latest/GIS%20data%20collection.html"
   ]
  },
  {
   "cell_type": "markdown",
   "metadata": {},
   "source": [
    "### OSM content check"
   ]
  },
  {
   "cell_type": "code",
   "execution_count": 8,
   "metadata": {},
   "outputs": [
    {
     "name": "stdout",
     "output_type": "stream",
     "text": [
      "['network_filters', 'tags', 'oneway_values']\n"
     ]
    }
   ],
   "source": [
    "from pyrosm import OSM, get_data\n",
    "\n",
    "# Initialize the OSM reader with test data\n",
    "fp = get_data(\"Helsinki\")\n",
    "osm = OSM(fp)\n",
    "\n",
    "# The instance has a configuration attribute containing:\n",
    "print([item for item in osm.conf.__dict__.keys() if not item.startswith(\"_\")])\n"
   ]
  },
  {
   "cell_type": "code",
   "execution_count": 9,
   "metadata": {},
   "outputs": [],
   "source": [
    "# Show all available tag attributes\n",
    "#osm.conf.tags.available\n"
   ]
  },
  {
   "cell_type": "code",
   "execution_count": 10,
   "metadata": {},
   "outputs": [
    {
     "data": {
      "text/plain": [
       "['cable',\n",
       " 'catenary_mast',\n",
       " 'compensator',\n",
       " 'converter',\n",
       " 'generator',\n",
       " 'heliostat',\n",
       " 'insulator',\n",
       " 'line',\n",
       " 'busbar',\n",
       " 'bay',\n",
       " 'minor_line',\n",
       " 'plant',\n",
       " 'pole',\n",
       " 'portal',\n",
       " 'power',\n",
       " 'substation',\n",
       " 'switch',\n",
       " 'switchgear',\n",
       " 'terminal',\n",
       " 'tower',\n",
       " 'transformer']"
      ]
     },
     "execution_count": 10,
     "metadata": {},
     "output_type": "execute_result"
    }
   ],
   "source": [
    "# Show all tags that are converted into columns from building features\n",
    "osm.conf.tags.power"
   ]
  },
  {
   "cell_type": "markdown",
   "metadata": {},
   "source": [
    "## Create OSM substation dataframe"
   ]
  },
  {
   "cell_type": "markdown",
   "metadata": {},
   "source": [
    "Pyrosm has an existing issue handling geofabric data. Thats why \"get_data(\"africa\")\" is not working. \n",
    "\n",
    "A way around this problem is to download the data from http://download.geofabrik.de/africa-latest.osm.bz2 locally & set the path right\n",
    "\n",
    "://github.com/HTenkanen/pyrosm/issues/109"
   ]
  },
  {
   "cell_type": "code",
   "execution_count": 11,
   "metadata": {},
   "outputs": [
    {
     "data": {
      "text/plain": [
       "'/home/matin/pypsa-africa/data_exploration'"
      ]
     },
     "execution_count": 11,
     "metadata": {},
     "output_type": "execute_result"
    }
   ],
   "source": [
    "pwd"
   ]
  },
  {
   "cell_type": "code",
   "execution_count": 12,
   "metadata": {},
   "outputs": [
    {
     "name": "stdout",
     "output_type": "stream",
     "text": [
      "/home/matin\n"
     ]
    }
   ],
   "source": [
    "cd"
   ]
  },
  {
   "cell_type": "code",
   "execution_count": 13,
   "metadata": {},
   "outputs": [
    {
     "name": "stdout",
     "output_type": "stream",
     "text": [
      "[Errno 2] No such file or directory: 'OneDrive/PHD-Flexibility/07_pypsa-africa/Data'\n",
      "/home/matin\n"
     ]
    }
   ],
   "source": [
    "cd \"OneDrive/PHD-Flexibility/07_pypsa-africa/Data\""
   ]
  },
  {
   "cell_type": "code",
   "execution_count": 14,
   "metadata": {},
   "outputs": [],
   "source": [
    "africa_data = \"africa-latest.osm.pbf\""
   ]
  },
  {
   "cell_type": "code",
   "execution_count": 15,
   "metadata": {},
   "outputs": [],
   "source": [
    "#Possible input to extract data from PYROSM. I.e. get_data(\"angola\") gets the \"angola-latest.osm.pbf\" filled with all OSM data\n",
    "regions =     [\"algeria\",\n",
    "               \"angola\",\n",
    "               \"benin\",\n",
    "               \"botswana\",\n",
    "               \"burkina_faso\",\n",
    "               \"burundi\",\n",
    "               \"cameroon\",\n",
    "               #\"canary_islands\",\n",
    "               \"cape_verde\",\n",
    "               \"central_african_republic\",\n",
    "               \"chad\",\n",
    "               #\"comores\",\n",
    "               \"congo_brazzaville\",\n",
    "               \"congo_democratic_republic\",\n",
    "               \"djibouti\",\n",
    "               \"egypt\",\n",
    "               \"equatorial_guinea\",\n",
    "               \"eritrea\",\n",
    "               \"ethiopia\",\n",
    "               \"gabon\",\n",
    "               \"ghana\",\n",
    "               \"guinea_bissau\",\n",
    "               \"guinea\",\n",
    "               \"ivory_coast\",\n",
    "               \"kenya\",\n",
    "               \"lesotho\",\n",
    "               \"liberia\",\n",
    "               \"libya\",\n",
    "               \"madagascar\",\n",
    "               \"malawi\",\n",
    "               \"mali\",\n",
    "               \"mauritania\",\n",
    "               \"mauritius\",\n",
    "               \"morocco\",\n",
    "               \"mozambique\",\n",
    "               \"namibia\",\n",
    "               \"niger\",\n",
    "               \"nigeria\",\n",
    "               \"rwanda\",\n",
    "               #\"saint_helena_ascension_and_tristan_da_cunha\",\n",
    "               #\"sao_tome_and_principe\",\n",
    "               \"senegal_and_gambia\",\n",
    "               #\"seychelles\",\n",
    "               \"sierra_leone\",\n",
    "               \"somalia\",\n",
    "               \"south_africa_and_lesotho\",\n",
    "               \"south_africa\",\n",
    "               \"south_sudan\",\n",
    "               \"sudan\",\n",
    "               \"swaziland\",\n",
    "               \"tanzania\",\n",
    "               \"togo\",\n",
    "               \"tunisia\",\n",
    "               \"uganda\",\n",
    "               \"zambia\",\n",
    "               \"zimbabwe\"]"
   ]
  },
  {
   "cell_type": "code",
   "execution_count": 16,
   "metadata": {},
   "outputs": [],
   "source": [
    "fp = get_data(\"lesotho\")"
   ]
  },
  {
   "cell_type": "code",
   "execution_count": 17,
   "metadata": {},
   "outputs": [],
   "source": [
    "fp = '/home/matin/pypsa-africa/Africa-node.osm.pbf'"
   ]
  },
  {
   "cell_type": "code",
   "execution_count": 18,
   "metadata": {},
   "outputs": [],
   "source": [
    "osm = pyrosm.OSM(fp)"
   ]
  },
  {
   "cell_type": "code",
   "execution_count": 19,
   "metadata": {},
   "outputs": [],
   "source": [
    "my_filter = {'power': [\"substation\"]}"
   ]
  },
  {
   "cell_type": "code",
   "execution_count": 20,
   "metadata": {},
   "outputs": [],
   "source": [
    "lesotho = osm.get_pois(custom_filter=my_filter)"
   ]
  },
  {
   "cell_type": "code",
   "execution_count": 76,
   "metadata": {},
   "outputs": [
    {
     "data": {
      "text/html": [
       "<div>\n",
       "<style scoped>\n",
       "    .dataframe tbody tr th:only-of-type {\n",
       "        vertical-align: middle;\n",
       "    }\n",
       "\n",
       "    .dataframe tbody tr th {\n",
       "        vertical-align: top;\n",
       "    }\n",
       "\n",
       "    .dataframe thead th {\n",
       "        text-align: right;\n",
       "    }\n",
       "</style>\n",
       "<table border=\"1\" class=\"dataframe\">\n",
       "  <thead>\n",
       "    <tr style=\"text-align: right;\">\n",
       "      <th></th>\n",
       "      <th>power</th>\n",
       "      <th>substation</th>\n",
       "      <th>id</th>\n",
       "      <th>timestamp</th>\n",
       "      <th>version</th>\n",
       "      <th>tags</th>\n",
       "      <th>osm_type</th>\n",
       "      <th>geometry</th>\n",
       "    </tr>\n",
       "  </thead>\n",
       "  <tbody>\n",
       "    <tr>\n",
       "      <th>0</th>\n",
       "      <td>substation</td>\n",
       "      <td>distribution</td>\n",
       "      <td>102856011</td>\n",
       "      <td>1577870864</td>\n",
       "      <td>6</td>\n",
       "      <td>{\"name\":\"Maseru Substation\",\"barrier\":\"fence\",...</td>\n",
       "      <td>way</td>\n",
       "      <td>POLYGON ((27.46457 -29.29569, 27.46469 -29.296...</td>\n",
       "    </tr>\n",
       "    <tr>\n",
       "      <th>1</th>\n",
       "      <td>substation</td>\n",
       "      <td>distribution</td>\n",
       "      <td>170577677</td>\n",
       "      <td>1577861572</td>\n",
       "      <td>4</td>\n",
       "      <td>{\"name\":\"Ramotobolo Substation\",\"fixme\":\"Check...</td>\n",
       "      <td>way</td>\n",
       "      <td>POLYGON ((28.40970 -29.32655, 28.40989 -29.326...</td>\n",
       "    </tr>\n",
       "    <tr>\n",
       "      <th>2</th>\n",
       "      <td>substation</td>\n",
       "      <td>minor_distribution</td>\n",
       "      <td>170577678</td>\n",
       "      <td>1577875635</td>\n",
       "      <td>6</td>\n",
       "      <td>{\"name\":\"Katse Dam Substation\",\"fixme\":\"Check ...</td>\n",
       "      <td>way</td>\n",
       "      <td>POLYGON ((28.49659 -29.34149, 28.49660 -29.341...</td>\n",
       "    </tr>\n",
       "    <tr>\n",
       "      <th>3</th>\n",
       "      <td>substation</td>\n",
       "      <td>transmission</td>\n",
       "      <td>170584567</td>\n",
       "      <td>1577875635</td>\n",
       "      <td>5</td>\n",
       "      <td>{\"name\":\"Thibeli Substation\",\"fixme\":\"Check de...</td>\n",
       "      <td>way</td>\n",
       "      <td>POLYGON ((28.48037 -29.16502, 28.48037 -29.164...</td>\n",
       "    </tr>\n",
       "    <tr>\n",
       "      <th>4</th>\n",
       "      <td>substation</td>\n",
       "      <td>transmission</td>\n",
       "      <td>170611627</td>\n",
       "      <td>1577871666</td>\n",
       "      <td>6</td>\n",
       "      <td>{\"barrier\":\"fence\",\"voltage\":\"132000\",\"operato...</td>\n",
       "      <td>way</td>\n",
       "      <td>POLYGON ((28.11432 -29.42590, 28.11446 -29.426...</td>\n",
       "    </tr>\n",
       "  </tbody>\n",
       "</table>\n",
       "</div>"
      ],
      "text/plain": [
       "        power          substation         id   timestamp  version  \\\n",
       "0  substation        distribution  102856011  1577870864        6   \n",
       "1  substation        distribution  170577677  1577861572        4   \n",
       "2  substation  minor_distribution  170577678  1577875635        6   \n",
       "3  substation        transmission  170584567  1577875635        5   \n",
       "4  substation        transmission  170611627  1577871666        6   \n",
       "\n",
       "                                                tags osm_type  \\\n",
       "0  {\"name\":\"Maseru Substation\",\"barrier\":\"fence\",...      way   \n",
       "1  {\"name\":\"Ramotobolo Substation\",\"fixme\":\"Check...      way   \n",
       "2  {\"name\":\"Katse Dam Substation\",\"fixme\":\"Check ...      way   \n",
       "3  {\"name\":\"Thibeli Substation\",\"fixme\":\"Check de...      way   \n",
       "4  {\"barrier\":\"fence\",\"voltage\":\"132000\",\"operato...      way   \n",
       "\n",
       "                                            geometry  \n",
       "0  POLYGON ((27.46457 -29.29569, 27.46469 -29.296...  \n",
       "1  POLYGON ((28.40970 -29.32655, 28.40989 -29.326...  \n",
       "2  POLYGON ((28.49659 -29.34149, 28.49660 -29.341...  \n",
       "3  POLYGON ((28.48037 -29.16502, 28.48037 -29.164...  \n",
       "4  POLYGON ((28.11432 -29.42590, 28.11446 -29.426...  "
      ]
     },
     "execution_count": 76,
     "metadata": {},
     "output_type": "execute_result"
    }
   ],
   "source": [
    "lesotho.head(5)"
   ]
  },
  {
   "cell_type": "code",
   "execution_count": 78,
   "metadata": {},
   "outputs": [
    {
     "data": {
      "text/plain": [
       "<Geographic 2D CRS: EPSG:4326>\n",
       "Name: WGS 84\n",
       "Axis Info [ellipsoidal]:\n",
       "- Lat[north]: Geodetic latitude (degree)\n",
       "- Lon[east]: Geodetic longitude (degree)\n",
       "Area of Use:\n",
       "- name: World.\n",
       "- bounds: (-180.0, -90.0, 180.0, 90.0)\n",
       "Datum: World Geodetic System 1984\n",
       "- Ellipsoid: WGS 84\n",
       "- Prime Meridian: Greenwich"
      ]
     },
     "execution_count": 78,
     "metadata": {},
     "output_type": "execute_result"
    }
   ],
   "source": [
    "#Shows geometry reference\n",
    "lesotho['geometry'].crs"
   ]
  },
  {
   "cell_type": "code",
   "execution_count": 80,
   "metadata": {},
   "outputs": [],
   "source": [
    "#Converting Polygons to \"centroids\" = Points. \n",
    "\n",
    "#We used \"epsg=3035\" to make the long/lat numbers larger.\n",
    "#This was necessary to make the centroid operations more accurate. Only required for small polygons.\n",
    "#Afterward we reconvert it to the standard epsg=4326\n",
    "\n",
    "lesotho['geometry'] = lesotho['geometry'].to_crs(epsg=3035)\n",
    "lesotho['geometry'] = lesotho['geometry'].centroid\n",
    "lesotho['geometry'] = lesotho['geometry'].to_crs(epsg=4326)"
   ]
  },
  {
   "cell_type": "code",
   "execution_count": 81,
   "metadata": {},
   "outputs": [
    {
     "data": {
      "image/png": "[encoded data removed]",
      "text/plain": [
       "<Figure size 432x432 with 1 Axes>"
      ]
     },
     "metadata": {
      "needs_background": "light"
     },
     "output_type": "display_data"
    }
   ],
   "source": [
    "# Plot\n",
    "ax = lesotho.plot(column='power', marker='o', markersize=10, figsize=(6,6), legend=True, legend_kwds=dict(loc='upper left', ncol=5, bbox_to_anchor=(1, 1)))"
   ]
  },
  {
   "cell_type": "code",
   "execution_count": 82,
   "metadata": {},
   "outputs": [
    {
     "data": {
      "text/plain": [
       "<AxesSubplot:>"
      ]
     },
     "execution_count": 82,
     "metadata": {},
     "output_type": "execute_result"
    },
    {
     "data": {
      "image/png": "[encoded data removed]",
      "text/plain": [
       "<Figure size 720x720 with 1 Axes>"
      ]
     },
     "metadata": {
      "needs_background": "light"
     },
     "output_type": "display_data"
    }
   ],
   "source": [
    "#Worked! Lesotho is downn i\n",
    "ax = lesotho.plot(column='power',figsize=(10, 10),alpha = 0.7, markersize = 1)\n",
    "geoplot.polyplot(africa, edgecolor='gray', ax=ax)"
   ]
  },
  {
   "cell_type": "markdown",
   "metadata": {},
   "source": [
    "# Overpass API\n"
   ]
  },
  {
   "cell_type": "code",
   "execution_count": 29,
   "metadata": {},
   "outputs": [],
   "source": [
    "# some_file.py\n",
    "import sys\n",
    "# insert at 1, 0 is the script path (or '' in REPL)\n",
    "sys.path.insert(1, '/home/max/OneDrive/PHD-Flexibility/07_pypsa-africa/0github/pypsa-africa/scripts')"
   ]
  },
  {
   "cell_type": "code",
   "execution_count": 30,
   "metadata": {},
   "outputs": [],
   "source": [
    "from osm_data_config import CC"
   ]
  },
  {
   "cell_type": "code",
   "execution_count": 32,
   "metadata": {},
   "outputs": [
    {
     "name": "stdout",
     "output_type": "stream",
     "text": [
      "249\n"
     ]
    },
    {
     "data": {
      "text/plain": [
       "'GREECE'"
      ]
     },
     "execution_count": 32,
     "metadata": {},
     "output_type": "execute_result"
    }
   ],
   "source": [
    "##Example for CC\n",
    "print(len(CC))\n",
    "CC[\"GR\"]\n"
   ]
  },
  {
   "cell_type": "code",
   "execution_count": 2,
   "metadata": {},
   "outputs": [],
   "source": [
    "url = 'https://lz4.overpass-api.de/api/interpreter'  # Overpass API URL\n"
   ]
  },
  {
   "cell_type": "code",
   "execution_count": 3,
   "metadata": {},
   "outputs": [],
   "source": [
    "#Africa list\n",
    "#c_list = [\"DZ\",\"AO\",\"SH\",\"BJ\",\"BW\",\"BF\",\"BI\",\"CM\",\"CV\",\"CF\",\"TD\",\"KM\",\"CG\",\"CD\",\"DJ\",\"EG\",\"GQ\",\"ER\",\"SZ\",\"ET\",\"GA\",\"GM\",\"GH\",\"GN\",\"GW\",\"CI\",\"KE\",\"LS\",\"LR\",\"LY\",\"MG\",\"MW\",\"ML\",\"MR\",\"MU\",\"YT\",\"MA\",\"MZ\",\"NA\",\"NE\",\"NG\",\"RE\",\"RW\",\"ST\",\"SN\",\"SL\",\"SO\",\"ZA\",\"SS\",\"SD\",\"SZ\",\"TZ\",\"TG\",\"TN\",\"UG\",\"CD\",\"ZM\",\"TZ\",\"ZW\"]\n",
    "\n",
    "#Test list\n",
    "c_list = [\"NG\", \"ZA\", \"EG\"]\n",
    "#len(c_list)"
   ]
  },
  {
   "cell_type": "code",
   "execution_count": 5,
   "metadata": {
    "tags": []
   },
   "outputs": [
    {
     "name": "stdout",
     "output_type": "stream",
     "text": [
      "problems with {country_code}\n",
      "problems with {country_code}\n",
      "problems with {country_code}\n"
     ]
    },
    {
     "ename": "TypeError",
     "evalue": "cannot concatenate object of type '<class 'list'>'; only Series and DataFrame objs are valid",
     "output_type": "error",
     "traceback": [
      "\u001b[0;31m---------------------------------------------------------------------------\u001b[0m",
      "\u001b[0;31mTypeError\u001b[0m                                 Traceback (most recent call last)",
      "\u001b[0;32m<ipython-input-5-a1f4a5e86791>\u001b[0m in \u001b[0;36m<module>\u001b[0;34m\u001b[0m\n\u001b[1;32m     32\u001b[0m \u001b[0;34m\u001b[0m\u001b[0m\n\u001b[1;32m     33\u001b[0m \u001b[0;31m#Create pandas dataframe from lists after iteration\u001b[0m\u001b[0;34m\u001b[0m\u001b[0;34m\u001b[0m\u001b[0;34m\u001b[0m\u001b[0m\n\u001b[0;32m---> 34\u001b[0;31m \u001b[0mdf_substation\u001b[0m \u001b[0;34m=\u001b[0m \u001b[0mpd\u001b[0m\u001b[0;34m.\u001b[0m\u001b[0mconcat\u001b[0m\u001b[0;34m(\u001b[0m\u001b[0msubstations\u001b[0m\u001b[0;34m,\u001b[0m \u001b[0maxis\u001b[0m\u001b[0;34m=\u001b[0m\u001b[0;36m1\u001b[0m\u001b[0;34m)\u001b[0m\u001b[0;34m\u001b[0m\u001b[0;34m\u001b[0m\u001b[0m\n\u001b[0m\u001b[1;32m     35\u001b[0m \u001b[0mdisplay\u001b[0m\u001b[0;34m(\u001b[0m\u001b[0mdf_substation\u001b[0m\u001b[0;34m)\u001b[0m\u001b[0;34m\u001b[0m\u001b[0;34m\u001b[0m\u001b[0m\n",
      "\u001b[0;32m~/anaconda3/envs/pypsa-africa/lib/python3.7/site-packages/pandas/core/reshape/concat.py\u001b[0m in \u001b[0;36mconcat\u001b[0;34m(objs, axis, join, ignore_index, keys, levels, names, verify_integrity, sort, copy)\u001b[0m\n\u001b[1;32m    293\u001b[0m         \u001b[0mverify_integrity\u001b[0m\u001b[0;34m=\u001b[0m\u001b[0mverify_integrity\u001b[0m\u001b[0;34m,\u001b[0m\u001b[0;34m\u001b[0m\u001b[0;34m\u001b[0m\u001b[0m\n\u001b[1;32m    294\u001b[0m         \u001b[0mcopy\u001b[0m\u001b[0;34m=\u001b[0m\u001b[0mcopy\u001b[0m\u001b[0;34m,\u001b[0m\u001b[0;34m\u001b[0m\u001b[0;34m\u001b[0m\u001b[0m\n\u001b[0;32m--> 295\u001b[0;31m         \u001b[0msort\u001b[0m\u001b[0;34m=\u001b[0m\u001b[0msort\u001b[0m\u001b[0;34m,\u001b[0m\u001b[0;34m\u001b[0m\u001b[0;34m\u001b[0m\u001b[0m\n\u001b[0m\u001b[1;32m    296\u001b[0m     )\n\u001b[1;32m    297\u001b[0m \u001b[0;34m\u001b[0m\u001b[0m\n",
      "\u001b[0;32m~/anaconda3/envs/pypsa-africa/lib/python3.7/site-packages/pandas/core/reshape/concat.py\u001b[0m in \u001b[0;36m__init__\u001b[0;34m(self, objs, axis, join, keys, levels, names, ignore_index, verify_integrity, copy, sort)\u001b[0m\n\u001b[1;32m    368\u001b[0m                     \u001b[0;34m\"only Series and DataFrame objs are valid\"\u001b[0m\u001b[0;34m\u001b[0m\u001b[0;34m\u001b[0m\u001b[0m\n\u001b[1;32m    369\u001b[0m                 )\n\u001b[0;32m--> 370\u001b[0;31m                 \u001b[0;32mraise\u001b[0m \u001b[0mTypeError\u001b[0m\u001b[0;34m(\u001b[0m\u001b[0mmsg\u001b[0m\u001b[0;34m)\u001b[0m\u001b[0;34m\u001b[0m\u001b[0;34m\u001b[0m\u001b[0m\n\u001b[0m\u001b[1;32m    371\u001b[0m \u001b[0;34m\u001b[0m\u001b[0m\n\u001b[1;32m    372\u001b[0m             \u001b[0;31m# consolidate\u001b[0m\u001b[0;34m\u001b[0m\u001b[0;34m\u001b[0m\u001b[0;34m\u001b[0m\u001b[0m\n",
      "\u001b[0;31mTypeError\u001b[0m: cannot concatenate object of type '<class 'list'>'; only Series and DataFrame objs are valid"
     ]
    }
   ],
   "source": [
    "substations = []\n",
    "df = []\n",
    "\n",
    "for country_code in c_list:\n",
    "  \n",
    "  # Bounding Boxes\n",
    "  query = f\"\"\"\n",
    "  [out:json];\n",
    "  // gather results\n",
    "  (\n",
    "    // query part for: “power=substation”\n",
    "    ( area[\"ISO3166-1\"={country_code}];) ->.a;\n",
    "    node[\"power\"=\"substation\"](area.a);\n",
    "    way[\"power\"=\"substation\"](area.a);\n",
    "    relation[\"power\"=\"substation\"](area.a);\n",
    "  );\n",
    "  // print results\n",
    "  out body;\n",
    "  \"\"\"\n",
    "  try:\n",
    "    r = requests.get(url, params={'data': query})\n",
    "    data = r.json()['elements'] # read response as JSON and get the data\n",
    "    df = pd.json_normalize(data)  # create a DataFrame from the data\n",
    "    #display(df)\n",
    "  except:\n",
    "    print(\"problems with {country_code}\")\n",
    "  ## Create column with country name\n",
    "  #df['country'] = country_code\n",
    "\n",
    "  #create lists\n",
    "  substations.append(df)\n",
    "\n",
    "#Create pandas dataframe from lists after iteration \n",
    "df_substation = pd.concat(substations, axis=0) \n",
    "display(df_substation)"
   ]
  },
  {
   "cell_type": "code",
   "execution_count": 6,
   "metadata": {},
   "outputs": [],
   "source": [
    "df1=df.dropna(subset=['tags.voltage'])\n"
   ]
  },
  {
   "cell_type": "code",
   "execution_count": 16,
   "metadata": {},
   "outputs": [
    {
     "ename": "NameError",
     "evalue": "name 'df1' is not defined",
     "output_type": "error",
     "traceback": [
      "\u001b[0;31m---------------------------------------------------------------------------\u001b[0m",
      "\u001b[0;31mNameError\u001b[0m                                 Traceback (most recent call last)",
      "\u001b[0;32m<ipython-input-16-ba1842de51e0>\u001b[0m in \u001b[0;36m<module>\u001b[0;34m\u001b[0m\n\u001b[0;32m----> 1\u001b[0;31m \u001b[0mdf1\u001b[0m\u001b[0;34m.\u001b[0m\u001b[0mshape\u001b[0m\u001b[0;34m(\u001b[0m\u001b[0;34m)\u001b[0m\u001b[0;34m\u001b[0m\u001b[0;34m\u001b[0m\u001b[0m\n\u001b[0m",
      "\u001b[0;31mNameError\u001b[0m: name 'df1' is not defined"
     ]
    }
   ],
   "source": [
    "df1.shape()"
   ]
  },
  {
   "cell_type": "code",
   "execution_count": 7,
   "metadata": {},
   "outputs": [
    {
     "data": {
      "text/html": [
       "<div>\n",
       "<style scoped>\n",
       "    .dataframe tbody tr th:only-of-type {\n",
       "        vertical-align: middle;\n",
       "    }\n",
       "\n",
       "    .dataframe tbody tr th {\n",
       "        vertical-align: top;\n",
       "    }\n",
       "\n",
       "    .dataframe thead th {\n",
       "        text-align: right;\n",
       "    }\n",
       "</style>\n",
       "<table border=\"1\" class=\"dataframe\">\n",
       "  <thead>\n",
       "    <tr style=\"text-align: right;\">\n",
       "      <th></th>\n",
       "      <th>type</th>\n",
       "      <th>id</th>\n",
       "      <th>lat</th>\n",
       "      <th>lon</th>\n",
       "      <th>tags.operator</th>\n",
       "      <th>tags.power</th>\n",
       "      <th>tags.ref</th>\n",
       "      <th>tags.name</th>\n",
       "      <th>tags.location</th>\n",
       "      <th>tags.source</th>\n",
       "      <th>...</th>\n",
       "      <th>tags.roof:shape</th>\n",
       "      <th>tags.addr:street</th>\n",
       "      <th>tags.website</th>\n",
       "      <th>tags.name:en</th>\n",
       "      <th>tags.start_date</th>\n",
       "      <th>tags.branch</th>\n",
       "      <th>tags.area</th>\n",
       "      <th>tags.source:date</th>\n",
       "      <th>members</th>\n",
       "      <th>tags.type</th>\n",
       "    </tr>\n",
       "  </thead>\n",
       "  <tbody>\n",
       "    <tr>\n",
       "      <th>33</th>\n",
       "      <td>node</td>\n",
       "      <td>4799026031</td>\n",
       "      <td>5.312848</td>\n",
       "      <td>-4.104172</td>\n",
       "      <td>CIE</td>\n",
       "      <td>substation</td>\n",
       "      <td>NaN</td>\n",
       "      <td>NaN</td>\n",
       "      <td>indoor</td>\n",
       "      <td>local knowledge + GPS</td>\n",
       "      <td>...</td>\n",
       "      <td>NaN</td>\n",
       "      <td>NaN</td>\n",
       "      <td>NaN</td>\n",
       "      <td>NaN</td>\n",
       "      <td>NaN</td>\n",
       "      <td>NaN</td>\n",
       "      <td>NaN</td>\n",
       "      <td>NaN</td>\n",
       "      <td>NaN</td>\n",
       "      <td>NaN</td>\n",
       "    </tr>\n",
       "    <tr>\n",
       "      <th>42</th>\n",
       "      <td>way</td>\n",
       "      <td>40851543</td>\n",
       "      <td>NaN</td>\n",
       "      <td>NaN</td>\n",
       "      <td>NaN</td>\n",
       "      <td>substation</td>\n",
       "      <td>NaN</td>\n",
       "      <td>NaN</td>\n",
       "      <td>outdoor</td>\n",
       "      <td>NaN</td>\n",
       "      <td>...</td>\n",
       "      <td>NaN</td>\n",
       "      <td>NaN</td>\n",
       "      <td>NaN</td>\n",
       "      <td>NaN</td>\n",
       "      <td>NaN</td>\n",
       "      <td>NaN</td>\n",
       "      <td>NaN</td>\n",
       "      <td>NaN</td>\n",
       "      <td>NaN</td>\n",
       "      <td>NaN</td>\n",
       "    </tr>\n",
       "    <tr>\n",
       "      <th>44</th>\n",
       "      <td>way</td>\n",
       "      <td>106049962</td>\n",
       "      <td>NaN</td>\n",
       "      <td>NaN</td>\n",
       "      <td>CIE</td>\n",
       "      <td>substation</td>\n",
       "      <td>NaN</td>\n",
       "      <td>CIE Poste de Transformation e Yopougon 2</td>\n",
       "      <td>NaN</td>\n",
       "      <td>NaN</td>\n",
       "      <td>...</td>\n",
       "      <td>NaN</td>\n",
       "      <td>NaN</td>\n",
       "      <td>NaN</td>\n",
       "      <td>NaN</td>\n",
       "      <td>NaN</td>\n",
       "      <td>NaN</td>\n",
       "      <td>NaN</td>\n",
       "      <td>NaN</td>\n",
       "      <td>NaN</td>\n",
       "      <td>NaN</td>\n",
       "    </tr>\n",
       "    <tr>\n",
       "      <th>45</th>\n",
       "      <td>way</td>\n",
       "      <td>106520980</td>\n",
       "      <td>NaN</td>\n",
       "      <td>NaN</td>\n",
       "      <td>NaN</td>\n",
       "      <td>substation</td>\n",
       "      <td>NaN</td>\n",
       "      <td>Poste 225 kV Abobo</td>\n",
       "      <td>outdoor</td>\n",
       "      <td>2005 Cnes / Spot Image &amp; Mairie Adjame</td>\n",
       "      <td>...</td>\n",
       "      <td>NaN</td>\n",
       "      <td>NaN</td>\n",
       "      <td>NaN</td>\n",
       "      <td>NaN</td>\n",
       "      <td>NaN</td>\n",
       "      <td>NaN</td>\n",
       "      <td>NaN</td>\n",
       "      <td>NaN</td>\n",
       "      <td>NaN</td>\n",
       "      <td>NaN</td>\n",
       "    </tr>\n",
       "    <tr>\n",
       "      <th>46</th>\n",
       "      <td>way</td>\n",
       "      <td>107311276</td>\n",
       "      <td>NaN</td>\n",
       "      <td>NaN</td>\n",
       "      <td>NaN</td>\n",
       "      <td>substation</td>\n",
       "      <td>NaN</td>\n",
       "      <td>NaN</td>\n",
       "      <td>outdoor</td>\n",
       "      <td>NaN</td>\n",
       "      <td>...</td>\n",
       "      <td>NaN</td>\n",
       "      <td>NaN</td>\n",
       "      <td>NaN</td>\n",
       "      <td>NaN</td>\n",
       "      <td>NaN</td>\n",
       "      <td>NaN</td>\n",
       "      <td>NaN</td>\n",
       "      <td>NaN</td>\n",
       "      <td>NaN</td>\n",
       "      <td>NaN</td>\n",
       "    </tr>\n",
       "    <tr>\n",
       "      <th>...</th>\n",
       "      <td>...</td>\n",
       "      <td>...</td>\n",
       "      <td>...</td>\n",
       "      <td>...</td>\n",
       "      <td>...</td>\n",
       "      <td>...</td>\n",
       "      <td>...</td>\n",
       "      <td>...</td>\n",
       "      <td>...</td>\n",
       "      <td>...</td>\n",
       "      <td>...</td>\n",
       "      <td>...</td>\n",
       "      <td>...</td>\n",
       "      <td>...</td>\n",
       "      <td>...</td>\n",
       "      <td>...</td>\n",
       "      <td>...</td>\n",
       "      <td>...</td>\n",
       "      <td>...</td>\n",
       "      <td>...</td>\n",
       "      <td>...</td>\n",
       "    </tr>\n",
       "    <tr>\n",
       "      <th>391</th>\n",
       "      <td>way</td>\n",
       "      <td>838404003</td>\n",
       "      <td>NaN</td>\n",
       "      <td>NaN</td>\n",
       "      <td>NaN</td>\n",
       "      <td>substation</td>\n",
       "      <td>NaN</td>\n",
       "      <td>Wona</td>\n",
       "      <td>NaN</td>\n",
       "      <td>Maxar</td>\n",
       "      <td>...</td>\n",
       "      <td>NaN</td>\n",
       "      <td>NaN</td>\n",
       "      <td>NaN</td>\n",
       "      <td>NaN</td>\n",
       "      <td>NaN</td>\n",
       "      <td>NaN</td>\n",
       "      <td>NaN</td>\n",
       "      <td>NaN</td>\n",
       "      <td>NaN</td>\n",
       "      <td>NaN</td>\n",
       "    </tr>\n",
       "    <tr>\n",
       "      <th>392</th>\n",
       "      <td>way</td>\n",
       "      <td>838404004</td>\n",
       "      <td>NaN</td>\n",
       "      <td>NaN</td>\n",
       "      <td>NaN</td>\n",
       "      <td>substation</td>\n",
       "      <td>NaN</td>\n",
       "      <td>Ouahigouya</td>\n",
       "      <td>NaN</td>\n",
       "      <td>NaN</td>\n",
       "      <td>...</td>\n",
       "      <td>NaN</td>\n",
       "      <td>NaN</td>\n",
       "      <td>NaN</td>\n",
       "      <td>NaN</td>\n",
       "      <td>NaN</td>\n",
       "      <td>NaN</td>\n",
       "      <td>NaN</td>\n",
       "      <td>NaN</td>\n",
       "      <td>NaN</td>\n",
       "      <td>NaN</td>\n",
       "    </tr>\n",
       "    <tr>\n",
       "      <th>393</th>\n",
       "      <td>way</td>\n",
       "      <td>839088731</td>\n",
       "      <td>NaN</td>\n",
       "      <td>NaN</td>\n",
       "      <td>NaN</td>\n",
       "      <td>substation</td>\n",
       "      <td>NaN</td>\n",
       "      <td>NaN</td>\n",
       "      <td>NaN</td>\n",
       "      <td>NaN</td>\n",
       "      <td>...</td>\n",
       "      <td>NaN</td>\n",
       "      <td>NaN</td>\n",
       "      <td>NaN</td>\n",
       "      <td>NaN</td>\n",
       "      <td>NaN</td>\n",
       "      <td>NaN</td>\n",
       "      <td>NaN</td>\n",
       "      <td>NaN</td>\n",
       "      <td>NaN</td>\n",
       "      <td>NaN</td>\n",
       "    </tr>\n",
       "    <tr>\n",
       "      <th>404</th>\n",
       "      <td>way</td>\n",
       "      <td>878180079</td>\n",
       "      <td>NaN</td>\n",
       "      <td>NaN</td>\n",
       "      <td>NaN</td>\n",
       "      <td>substation</td>\n",
       "      <td>NaN</td>\n",
       "      <td>Site de Tranformation éléctrique de la CEB</td>\n",
       "      <td>outdoor</td>\n",
       "      <td>Maxar Standard</td>\n",
       "      <td>...</td>\n",
       "      <td>NaN</td>\n",
       "      <td>NaN</td>\n",
       "      <td>NaN</td>\n",
       "      <td>NaN</td>\n",
       "      <td>NaN</td>\n",
       "      <td>NaN</td>\n",
       "      <td>NaN</td>\n",
       "      <td>2020</td>\n",
       "      <td>NaN</td>\n",
       "      <td>NaN</td>\n",
       "    </tr>\n",
       "    <tr>\n",
       "      <th>405</th>\n",
       "      <td>way</td>\n",
       "      <td>878216152</td>\n",
       "      <td>NaN</td>\n",
       "      <td>NaN</td>\n",
       "      <td>NaN</td>\n",
       "      <td>substation</td>\n",
       "      <td>NaN</td>\n",
       "      <td>Site de Tranformation éléctrique de la CEB</td>\n",
       "      <td>outdoor</td>\n",
       "      <td>NaN</td>\n",
       "      <td>...</td>\n",
       "      <td>NaN</td>\n",
       "      <td>NaN</td>\n",
       "      <td>NaN</td>\n",
       "      <td>NaN</td>\n",
       "      <td>NaN</td>\n",
       "      <td>NaN</td>\n",
       "      <td>NaN</td>\n",
       "      <td>NaN</td>\n",
       "      <td>NaN</td>\n",
       "      <td>NaN</td>\n",
       "    </tr>\n",
       "  </tbody>\n",
       "</table>\n",
       "<p>176 rows × 39 columns</p>\n",
       "</div>"
      ],
      "text/plain": [
       "     type          id       lat       lon tags.operator  tags.power tags.ref  \\\n",
       "33   node  4799026031  5.312848 -4.104172           CIE  substation      NaN   \n",
       "42    way    40851543       NaN       NaN           NaN  substation      NaN   \n",
       "44    way   106049962       NaN       NaN           CIE  substation      NaN   \n",
       "45    way   106520980       NaN       NaN           NaN  substation      NaN   \n",
       "46    way   107311276       NaN       NaN           NaN  substation      NaN   \n",
       "..    ...         ...       ...       ...           ...         ...      ...   \n",
       "391   way   838404003       NaN       NaN           NaN  substation      NaN   \n",
       "392   way   838404004       NaN       NaN           NaN  substation      NaN   \n",
       "393   way   839088731       NaN       NaN           NaN  substation      NaN   \n",
       "404   way   878180079       NaN       NaN           NaN  substation      NaN   \n",
       "405   way   878216152       NaN       NaN           NaN  substation      NaN   \n",
       "\n",
       "                                      tags.name tags.location  \\\n",
       "33                                          NaN        indoor   \n",
       "42                                          NaN       outdoor   \n",
       "44     CIE Poste de Transformation e Yopougon 2           NaN   \n",
       "45                           Poste 225 kV Abobo       outdoor   \n",
       "46                                          NaN       outdoor   \n",
       "..                                          ...           ...   \n",
       "391                                        Wona           NaN   \n",
       "392                                  Ouahigouya           NaN   \n",
       "393                                         NaN           NaN   \n",
       "404  Site de Tranformation éléctrique de la CEB       outdoor   \n",
       "405  Site de Tranformation éléctrique de la CEB       outdoor   \n",
       "\n",
       "                                tags.source  ... tags.roof:shape  \\\n",
       "33                    local knowledge + GPS  ...             NaN   \n",
       "42                                      NaN  ...             NaN   \n",
       "44                                      NaN  ...             NaN   \n",
       "45   2005 Cnes / Spot Image & Mairie Adjame  ...             NaN   \n",
       "46                                      NaN  ...             NaN   \n",
       "..                                      ...  ...             ...   \n",
       "391                                   Maxar  ...             NaN   \n",
       "392                                     NaN  ...             NaN   \n",
       "393                                     NaN  ...             NaN   \n",
       "404                          Maxar Standard  ...             NaN   \n",
       "405                                     NaN  ...             NaN   \n",
       "\n",
       "    tags.addr:street tags.website tags.name:en tags.start_date tags.branch  \\\n",
       "33               NaN          NaN          NaN             NaN         NaN   \n",
       "42               NaN          NaN          NaN             NaN         NaN   \n",
       "44               NaN          NaN          NaN             NaN         NaN   \n",
       "45               NaN          NaN          NaN             NaN         NaN   \n",
       "46               NaN          NaN          NaN             NaN         NaN   \n",
       "..               ...          ...          ...             ...         ...   \n",
       "391              NaN          NaN          NaN             NaN         NaN   \n",
       "392              NaN          NaN          NaN             NaN         NaN   \n",
       "393              NaN          NaN          NaN             NaN         NaN   \n",
       "404              NaN          NaN          NaN             NaN         NaN   \n",
       "405              NaN          NaN          NaN             NaN         NaN   \n",
       "\n",
       "    tags.area tags.source:date members tags.type  \n",
       "33        NaN              NaN     NaN       NaN  \n",
       "42        NaN              NaN     NaN       NaN  \n",
       "44        NaN              NaN     NaN       NaN  \n",
       "45        NaN              NaN     NaN       NaN  \n",
       "46        NaN              NaN     NaN       NaN  \n",
       "..        ...              ...     ...       ...  \n",
       "391       NaN              NaN     NaN       NaN  \n",
       "392       NaN              NaN     NaN       NaN  \n",
       "393       NaN              NaN     NaN       NaN  \n",
       "404       NaN             2020     NaN       NaN  \n",
       "405       NaN              NaN     NaN       NaN  \n",
       "\n",
       "[176 rows x 39 columns]"
      ]
     },
     "metadata": {},
     "output_type": "display_data"
    }
   ],
   "source": [
    "display(df1)"
   ]
  },
  {
   "cell_type": "code",
   "execution_count": 8,
   "metadata": {},
   "outputs": [
    {
     "data": {
      "text/plain": [
       "type                      0\n",
       "id                        0\n",
       "lat                     373\n",
       "lon                     373\n",
       "tags.operator           375\n",
       "tags.power                0\n",
       "tags.ref                410\n",
       "tags.name               301\n",
       "tags.location           262\n",
       "tags.source             393\n",
       "tags.substation         229\n",
       "tags.operator:type      413\n",
       "tags.amenity            412\n",
       "tags.name:fr            411\n",
       "tags.addr:city          411\n",
       "tags.name:ar            413\n",
       "tags.building           402\n",
       "tags.frequency          411\n",
       "tags.voltage            238\n",
       "nodes                    42\n",
       "tags.barrier            369\n",
       "tags.fixme              397\n",
       "tags.access             413\n",
       "tags.landuse            408\n",
       "tags.opening_hours      413\n",
       "tags.short_name         413\n",
       "tags.man_made           413\n",
       "tags.street_cabinet     413\n",
       "tags.building:levels    411\n",
       "tags.roof:shape         412\n",
       "tags.addr:street        412\n",
       "tags.website            412\n",
       "tags.name:en            413\n",
       "tags.start_date         413\n",
       "tags.branch             413\n",
       "tags.area               412\n",
       "tags.source:date        413\n",
       "members                 413\n",
       "tags.type               413\n",
       "dtype: int64"
      ]
     },
     "execution_count": 8,
     "metadata": {},
     "output_type": "execute_result"
    }
   ],
   "source": [
    "df.isna().sum()"
   ]
  },
  {
   "cell_type": "code",
   "execution_count": null,
   "metadata": {},
   "outputs": [],
   "source": [
    "# type, id, lat, lon, tags.voltage, node\n",
    "[\"voltage\"]\n",
    "df.isna().sum()\n",
    "df1=df.dropna(subset=['tags.voltage'])"
   ]
  }
 ],
 "metadata": {
  "kernelspec": {
   "display_name": "Python [conda env:geo_env]",
   "language": "python",
   "name": "conda-env-geo_env-py"
  },
  "language_info": {
   "codemirror_mode": {
    "name": "ipython",
    "version": 3
   },
   "file_extension": ".py",
   "mimetype": "text/x-python",
   "name": "python",
   "nbconvert_exporter": "python",
   "pygments_lexer": "ipython3",
   "version": "3.9.2"
  }
 },
 "nbformat": 4,
 "nbformat_minor": 4
}
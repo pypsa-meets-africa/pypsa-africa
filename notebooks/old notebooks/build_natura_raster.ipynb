{
 "cells": [
  {
   "cell_type": "markdown",
   "metadata": {},
   "source": [
    "# Notebook to investigate elements of build_natura_raster"
   ]
  },
  {
   "cell_type": "code",
   "execution_count": null,
   "metadata": {},
   "outputs": [],
   "source": [
    "import fiona\n",
    "import geopandas as gpd\n",
    "import os"
   ]
  },
  {
   "cell_type": "code",
   "execution_count": null,
   "metadata": {},
   "outputs": [],
   "source": [
    "dir_temp = \"C:/Users/Davide/Downloads/WDPA_WDOECM_Oct2021_Public_NGA/WDPA_WDOECM_Oct2021_Public_NGA.gdb\"\n",
    "# dir_data = (dir_temp.replace(\"/\",\"\\\\\"))\n",
    "\n",
    "# use fiona to read the GDB and its layers and return a list\n",
    "\n",
    "g_temp = gpd.GeoDataFrame()\n",
    "layer_list = []\n",
    "lst_gpd = []\n",
    "with fiona.drivers():\n",
    "    for i, layername in enumerate(fiona.listlayers(dir_temp)):\n",
    "        with fiona.open(dir_temp, layer=i) as src:\n",
    "            gt = gpd.read_file(dir_temp, layer=layername, crs=3035)\n",
    "            lst_gpd.append(gt)\n",
    "            layer_list.append(layername)"
   ]
  },
  {
   "cell_type": "code",
   "execution_count": null,
   "metadata": {},
   "outputs": [],
   "source": [
    "os.path.split(dir_temp)"
   ]
  },
  {
   "cell_type": "code",
   "execution_count": null,
   "metadata": {},
   "outputs": [],
   "source": [
    "g_temp"
   ]
  },
  {
   "cell_type": "code",
   "execution_count": null,
   "metadata": {},
   "outputs": [],
   "source": [
    "layer_list"
   ]
  }
 ],
 "metadata": {
  "interpreter": {
   "hash": "64a9945f8f137ed15f7097a1dbedf9f1ce29494f0e33cb4fc5724026c999b930"
  },
  "kernelspec": {
   "display_name": "pypsa-africa",
   "language": "python",
   "name": "pypsa-africa"
  },
  "language_info": {
   "codemirror_mode": {
    "name": "ipython",
    "version": 3
   },
   "file_extension": ".py",
   "mimetype": "text/x-python",
   "name": "python",
   "nbconvert_exporter": "python",
   "pygments_lexer": "ipython3",
   "version": "3.9.7"
  }
 },
 "nbformat": 4,
 "nbformat_minor": 4
}

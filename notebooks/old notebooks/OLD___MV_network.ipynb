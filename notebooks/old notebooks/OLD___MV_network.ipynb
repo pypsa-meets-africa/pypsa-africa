{
 "cells": [
  {
   "cell_type": "markdown",
   "source": [
    "OLD NOTEBOOK: Attempt by Max"
   ],
   "metadata": {}
  },
  {
   "cell_type": "code",
   "execution_count": null,
   "source": [
    "# Requires to have geopandas installed\n",
    "# Installation https://geopandas.org/getting_started/install.html\n",
    "\n",
    "import geopandas as gpd\n",
    "import geoplot\n",
    "import pandas as pd\n",
    "import fiona  # ;help(fiona.open)\n",
    "import requests\n",
    "from pandas.io.json import json_normalize  # convert json into dataframe"
   ],
   "outputs": [],
   "metadata": {}
  },
  {
   "cell_type": "code",
   "execution_count": null,
   "source": [
    "import sys\n",
    "\n",
    "sys.path.append(\"./../../\")\n",
    "# from _helpers import configure_logging\n",
    "\n",
    "import pypsa\n",
    "import yaml\n",
    "import pandas as pd\n",
    "import geopandas as gpd\n",
    "\n",
    "# import geoviews as gv\n",
    "import hvplot.pandas\n",
    "import numpy as np\n",
    "import scipy as sp\n",
    "import networkx as nx\n",
    "import matplotlib as plt\n",
    "from scripts._helpers import sets_path_to_root"
   ],
   "outputs": [],
   "metadata": {}
  },
  {
   "cell_type": "code",
   "execution_count": null,
   "source": [
    "pd.set_option(\"display.max_rows\", 100)\n",
    "pd.set_option(\"display.max_columns\", 100)"
   ],
   "outputs": [],
   "metadata": {}
  },
  {
   "cell_type": "markdown",
   "source": [
    "#  Adding MENA to Africa"
   ],
   "metadata": {}
  },
  {
   "cell_type": "code",
   "execution_count": null,
   "source": [
    "world = gpd.read_file(gpd.datasets.get_path(\"naturalearth_lowres\"))\n",
    "# world"
   ],
   "outputs": [],
   "metadata": {}
  },
  {
   "cell_type": "code",
   "execution_count": null,
   "source": [
    "saudi = world.query('name == \"Saudi Arabia\"')\n",
    "yemen = world.query('name == \"Yemen\"')\n",
    "iraq = world.query('name == \"Iraq\"')\n",
    "oman = world.query('name == \"Oman\"')\n",
    "uae = world.query('name == \"United Arab Emirates\"')\n",
    "jordan = world.query('name == \"Jordan\"')\n",
    "palestine = world.query('name == \"Palestine\"')\n",
    "israel = world.query('name == \"Israel\"')\n",
    "qatar = world.query('name == \"Qatar\"')\n",
    "kuwait = world.query('name == \"Kuwait\"')\n",
    "\n",
    "mena = (\n",
    "    saudi.append(yemen)\n",
    "    .append(iraq)\n",
    "    .append(oman)\n",
    "    .append(uae)\n",
    "    .append(jordan)\n",
    "    .append(palestine)\n",
    "    .append(israel)\n",
    "    .append(qatar)\n",
    "    .append(kuwait)\n",
    ")"
   ],
   "outputs": [],
   "metadata": {}
  },
  {
   "cell_type": "code",
   "execution_count": null,
   "source": [
    "africa = world.query('continent == \"Africa\"').append(mena)\n",
    "# africa.head()"
   ],
   "outputs": [],
   "metadata": {}
  },
  {
   "cell_type": "code",
   "execution_count": null,
   "source": [
    "### Example plot https://geopandas.org/gallery/plotting_with_geoplot.html?highlight=africa\n",
    "\n",
    "# #gdp_per_cap = world.gdp_md_est / world.pop_est\n",
    "# ax = geoplot.cartogram(\n",
    "#     africa, scale='pop_est', limits=(0.2, 1),\n",
    "#     edgecolor='None', figsize=(7, 8)\n",
    "# )\n",
    "# geoplot.polyplot(africa, edgecolor='gray', ax=ax)"
   ],
   "outputs": [],
   "metadata": {}
  },
  {
   "cell_type": "code",
   "execution_count": null,
   "source": [
    "# ax = africa.plot(color=\"white\", edgecolors=\"red\",figsize=(10, 10))"
   ],
   "outputs": [],
   "metadata": {}
  },
  {
   "cell_type": "markdown",
   "source": [
    "# 2) MV lines (current & planned) - Onsset"
   ],
   "metadata": {}
  },
  {
   "cell_type": "markdown",
   "source": [
    "Heavily based on pathfinder https://zenodo.org/record/3628142#.YFH1mf7LeEB \n",
    "Which applies facebook research to predict network structure from network lights https://github.com/facebookresearch/many-to-many-dijkstra/blob/master/Model%20Tutorial%20-%20PDF.pdf\n",
    "\n",
    "TO DO:\n",
    "- Check accuracy of network prediction! (from pdf the prediction is often good but not always. We can check the accruacy of the prediction by comparing results to real MV/HV grid )\n",
    "- Elevation gradient could be added into cost function to improve prediction accuracy.\n",
    "- Additional, predicted lines must be assigned a voltage level\n",
    "\n",
    "Benefit of this method:\n",
    "- Can be applied globally!"
   ],
   "metadata": {}
  },
  {
   "cell_type": "code",
   "execution_count": null,
   "source": [
    "url = \"https://zenodo.org/record/3628142/files/grid.gpkg?download=1\"\n",
    "africa_network = gpd.read_file(url)"
   ],
   "outputs": [],
   "metadata": {}
  },
  {
   "cell_type": "code",
   "execution_count": null,
   "source": [
    "africa_network.head()"
   ],
   "outputs": [],
   "metadata": {}
  },
  {
   "cell_type": "code",
   "execution_count": null,
   "source": [
    "africa_network"
   ],
   "outputs": [],
   "metadata": {}
  },
  {
   "cell_type": "code",
   "execution_count": null,
   "source": [
    "ax = africa_network.plot(figsize=(20, 20), alpha=0.7)\n",
    "geoplot.polyplot(africa, edgecolor=\"gray\", ax=ax)"
   ],
   "outputs": [],
   "metadata": {}
  },
  {
   "cell_type": "code",
   "execution_count": null,
   "source": [],
   "outputs": [],
   "metadata": {}
  },
  {
   "cell_type": "code",
   "execution_count": null,
   "source": [],
   "outputs": [],
   "metadata": {}
  }
 ],
 "metadata": {
  "kernelspec": {
   "name": "python3",
   "display_name": "Python 3.7.10 64-bit ('pypsa-africa': conda)"
  },
  "language_info": {
   "codemirror_mode": {
    "name": "ipython",
    "version": 3
   },
   "file_extension": ".py",
   "mimetype": "text/x-python",
   "name": "python",
   "nbconvert_exporter": "python",
   "pygments_lexer": "ipython3",
   "version": "3.7.10"
  },
  "interpreter": {
   "hash": "d9c13fc6442bf1b8f9598850facaf8fef6fb0663206d3863adab308b8c559389"
  }
 },
 "nbformat": 4,
 "nbformat_minor": 4
}

{
 "cells": [
  {
   "cell_type": "markdown",
   "metadata": {},
   "source": [
    "# Exploring `base_network.py` outputs\n",
    "\n",
    "This jupyter notebook analyse the `base_network.py` **outputs**.\n",
    "\n",
    "The `pypsa-africa/Snakefile` explicitly list in the **rule** what goes into the function `base_network.py` and what goes out (`networks/base.nc`). When inputs are commented out (#) than they are currently not considered. Maybe you want to delete them, make them run or develop new features? What can be observed from the inputs is that the script creates a connected network topology with the network data and shapes of the region.\n",
    "\n",
    "```\n",
    "rule base_network:\n",
    "    input:\n",
    "        osm_buses=\"data/base_network/africa_all_buses_build_network.csv\",\n",
    "        osm_lines=\"data/base_network/africa_all_lines_build_network.csv\",\n",
    "        country_shapes='resources/country_shapes.geojson',\n",
    "        offshore_shapes='resources/offshore_shapes.geojson',\n",
    "        # eg = ENTSO-E Gridkit\n",
    "        # eg_buses='data/entsoegridkit/buses.csv',\n",
    "        # eg_lines='data/entsoegridkit/lines.csv',\n",
    "        # eg_links='data/entsoegridkit/links.csv',\n",
    "        # eg_converters='data/entsoegridkit/converters.csv',\n",
    "        # eg_transformers='data/entsoegridkit/transformers.csv',\n",
    "        # parameter_corrections='data/parameter_corrections.yaml',\n",
    "        # links_p_nom='data/links_p_nom.csv',\n",
    "        # links_tyndp='data/links_tyndp.csv',\n",
    "        # africa_shape='resources/africa_shape.geojson'\n",
    "    output:\n",
    "        \"networks/base.nc\",\n",
    "    log:\n",
    "        \"logs/base_network.log\",\n",
    "    benchmark:\n",
    "        \"benchmarks/base_network\"\n",
    "    threads: 1\n",
    "    resources:\n",
    "        mem=500,\n",
    "    script:\n",
    "        \"scripts/base_network.py\"\n",
    "```\n",
    "\n",
    "Before analysing the outputs of add_electricity.py check that:\n",
    "- `pypsa-africa` environment (/kernel) in jupyter notebook  is active and updated\n",
    "- root folder where pypsa-africa is installed is named \"pypsa-africa\"\n",
    "- or rename the below `sets_path_to_root(\"<folder_name>\")` accordingly"
   ]
  },
  {
   "cell_type": "code",
   "execution_count": 1,
   "metadata": {},
   "outputs": [
    {
     "name": "stdout",
     "output_type": "stream",
     "text": [
      "This is the repository path:  /home/max/OneDrive/PHD-Flexibility/07_pypsa-africa/0github/pypsa-africa/pypsa-africa\n",
      "Had to go 1 folder(s) up.\n"
     ]
    }
   ],
   "source": [
    "import sys\n",
    "\n",
    "sys.path.append(\"../\")  # to import helpers\n",
    "from scripts._helpers import sets_path_to_root\n",
    "\n",
    "sets_path_to_root(\"pypsa-africa\")"
   ]
  },
  {
   "cell_type": "markdown",
   "metadata": {},
   "source": [
    "A jupyter notebook requires the user to import all they need. So we need to import all the required dependencies from the `pypsa-africa` environment:"
   ]
  },
  {
   "cell_type": "code",
   "execution_count": null,
   "metadata": {},
   "outputs": [],
   "source": [
    "import logging\n",
    "import os\n",
    "\n",
    "import pypsa\n",
    "import yaml\n",
    "import pandas as pd\n",
    "import geopandas as gpd\n",
    "import geoviews as gv\n",
    "import hvplot.pandas\n",
    "import numpy as np\n",
    "import scipy as sp\n",
    "import networkx as nx\n",
    "import matplotlib as plt\n",
    "\n",
    "from scipy.sparse import csgraph\n",
    "from itertools import product\n",
    "\n",
    "from shapely.geometry import Point, LineString\n",
    "import shapely, shapely.prepared, shapely.wkt\n",
    "\n",
    "logger = logging.getLogger(__name__)\n",
    "pd.set_option(\"display.max_columns\", None)\n",
    "pd.set_option(\"display.max_colwidth\", 70)"
   ]
  },
  {
   "cell_type": "code",
   "execution_count": null,
   "metadata": {},
   "outputs": [],
   "source": [
    "import pypsa\n",
    "import geopandas as gpd\n",
    "import sys\n",
    "\n",
    "sys.path.append(\"../\")  # to import helpers\n",
    "from scripts._helpers import sets_path_to_root\n",
    "\n",
    "sets_path_to_root(\"pypsa-africa\")"
   ]
  },
  {
   "cell_type": "markdown",
   "metadata": {},
   "source": [
    "## Network analysis\n",
    "\n",
    "Now let's import the output file which should be in i.e. `~/pypsa-africa/networks/base.nc`. \n",
    "\n",
    "Note: If you don't have the /elec.nc file yet in your folder structure, you could try to generate it from the terminal. In this case set the path so that you are located at `~/pypsa-africa`. Once you are there, use the command:\n",
    "```\n",
    "snakemake -j 1 networks/base.nc\n",
    "```\n",
    "Note that this is something you can to for any other rule to generate it's outputs `snakemake -j 1 <output of rule>`"
   ]
  },
  {
   "cell_type": "code",
   "execution_count": null,
   "metadata": {},
   "outputs": [],
   "source": [
    "network_path = os.getcwd() + \"/networks/base.nc\"\n",
    "n = pypsa.Network(network_path)\n",
    "n"
   ]
  },
  {
   "cell_type": "markdown",
   "metadata": {},
   "source": [
    "You might be interested to see what's in the Network Common Data Form or NetCDF (.nc) file. To assess that we use **xarray**"
   ]
  },
  {
   "cell_type": "code",
   "execution_count": null,
   "metadata": {},
   "outputs": [],
   "source": [
    "import xarray as xr\n",
    "\n",
    "path = os.getcwd() + \"/networks/base.nc\"\n",
    "network_data = xr.open_dataset(path)\n",
    "network_data"
   ]
  },
  {
   "cell_type": "code",
   "execution_count": null,
   "metadata": {},
   "outputs": [],
   "source": [
    "n.buses"
   ]
  },
  {
   "cell_type": "markdown",
   "metadata": {},
   "source": [
    "Example to check the input:"
   ]
  },
  {
   "cell_type": "code",
   "execution_count": null,
   "metadata": {},
   "outputs": [],
   "source": [
    "regions = (\n",
    "    os.getcwd() + \"/resources/country_shapes.geojson\"\n",
    ")  # path of the input as shown in the Snakefile\n",
    "gpd.read_file(regions).plot()"
   ]
  },
  {
   "cell_type": "markdown",
   "metadata": {},
   "source": [
    "That's how the raw data looks like:"
   ]
  },
  {
   "cell_type": "code",
   "execution_count": null,
   "metadata": {},
   "outputs": [],
   "source": [
    "regions = os.getcwd() + \"/resources/country_shapes.geojson\"\n",
    "gpd.read_file(regions)"
   ]
  },
  {
   "cell_type": "markdown",
   "metadata": {},
   "source": [
    "Checking which countries are considered:"
   ]
  },
  {
   "cell_type": "code",
   "execution_count": null,
   "metadata": {},
   "outputs": [],
   "source": [
    "n.buses[\"country\"].unique()"
   ]
  },
  {
   "cell_type": "markdown",
   "metadata": {},
   "source": [
    "Looking at the lines you find out that some of the names at the end of the pandadataframe are quite long. These are articifial created lines that create a connected network topology:"
   ]
  },
  {
   "cell_type": "code",
   "execution_count": null,
   "metadata": {},
   "outputs": [],
   "source": [
    "n.lines"
   ]
  },
  {
   "cell_type": "markdown",
   "metadata": {},
   "source": [
    "# Check hv.plot (need to be fixed)"
   ]
  },
  {
   "cell_type": "code",
   "execution_count": null,
   "metadata": {},
   "outputs": [],
   "source": [
    "# Issue probably with [\"geometry\"]\n",
    "n.lines[\"geometry\"]  # .apply(wkt.loads)"
   ]
  },
  {
   "cell_type": "code",
   "execution_count": null,
   "metadata": {},
   "outputs": [],
   "source": [
    "from shapely import wkt\n",
    "\n",
    "lines = n.lines\n",
    "lines[\"geometry\"] = lines[\"geometry\"].apply(wkt.loads)\n",
    "lines = gpd.GeoDataFrame(lines, crs=\"epsg:4326\")\n",
    "\n",
    "buses = n.buses\n",
    "buses[\"geometry\"] = gpd.points_from_xy(buses.lon, buses.lat)\n",
    "buses = gpd.GeoDataFrame(buses, crs=\"epsg:4326\")"
   ]
  },
  {
   "cell_type": "code",
   "execution_count": null,
   "metadata": {},
   "outputs": [],
   "source": [
    "lines = lines[lines[\"country\"] == \"nigeria\"]\n",
    "buses = buses[buses[\"country\"] == \"nigeria\"]\n",
    "\n",
    "buses.hvplot(\n",
    "    geo=True,\n",
    "    size=10,  # buses[\"tag_area\"]**(0.5)/10,\n",
    "    frame_height=750,\n",
    "    alpha=0.4,\n",
    "    tiles=\"CartoLight\",\n",
    "    hover_cols=[\"bus_id\"],\n",
    "    color=\"orange\",\n",
    ") * lines.hvplot(geo=True, alpha=0.4, hover_cols=[\"line_id\"]).opts(\n",
    "    active_tools=[\"pan\", \"wheel_zoom\"]\n",
    ")"
   ]
  }
 ],
 "metadata": {
  "interpreter": {
   "hash": "2be7d078420298083e20df3d184bc52c8395c191e49cd18ebae5d161fa25ddc1"
  },
  "kernelspec": {
   "display_name": "pypsa-africa",
   "language": "python",
   "name": "pypsa-africa"
  },
  "language_info": {
   "codemirror_mode": {
    "name": "ipython",
    "version": 3
   },
   "file_extension": ".py",
   "mimetype": "text/x-python",
   "name": "python",
   "nbconvert_exporter": "python",
   "pygments_lexer": "ipython3",
   "version": "3.9.7"
  }
 },
 "nbformat": 4,
 "nbformat_minor": 4
}

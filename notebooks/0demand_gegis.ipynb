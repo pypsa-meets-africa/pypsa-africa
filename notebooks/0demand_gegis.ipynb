{
 "cells": [
  {
   "cell_type": "markdown",
   "metadata": {},
   "source": [
    "# Exploring `demand_gegis` outputs\n",
    "\n",
    "### Jupyter notebook needs to be improved\n",
    "\n",
    "The code below initialise the to be used packages. Further, `_sets_path_to_root` makes sure that we set the path to your pypsa-africa folder which we need for reading files. Please, also make sure you set up the `pypsa-africa` environment which is shared as `environment.yml` in the envs folder."
   ]
  },
  {
   "cell_type": "code",
   "execution_count": null,
   "metadata": {},
   "outputs": [],
   "source": [
    "import atlite\n",
    "import cartopy.crs as ccrs\n",
    "import xarray as xr\n",
    "import geopandas as gpd\n",
    "import geoviews as gv\n",
    "import holoviews as hv\n",
    "import pandas as pd\n",
    "import matplotlib.pyplot as plt\n",
    "import numpy as np\n",
    "import requests\n",
    "import pypsa\n",
    "import shutil\n",
    "from rasterio.plot import show\n",
    "from atlite.gis import shape_availability, ExclusionContainer\n",
    "\n",
    "import os\n",
    "import sys\n",
    "sys.path.append('../')  # to import helpers\n",
    "from scripts._helpers import _sets_path_to_root\n",
    "_sets_path_to_root(\"pypsa-africa\")\n",
    "\n",
    "\n",
    "plt.rcParams['figure.figsize'] = [7, 7]\n",
    "%matplotlib inline"
   ]
  },
  {
   "cell_type": "markdown",
   "metadata": {},
   "source": [
    "## Let's open the demand timeseries from GEGIS\n",
    "Demand timeseries are calculated in GEGIS based on paramters such as GDP, population and temperature data. Since each of this parameters can be provided in high resolution, we can derive timeseries with GEGIS for arbitrary regions for multi-years.\n",
    "\n",
    "GEGIS is currently written in Julia. A rewrite to Python can help improving GEGIS and including other factors such as humidity, building area, building archetype information. These information will help the AI to train more accurately regional differences for demand timeseries. Alternative approaches to GEGIS such as botton-up statistical ones can also be developed in parallel.\n"
   ]
  },
  {
   "cell_type": "code",
   "execution_count": null,
   "metadata": {},
   "outputs": [],
   "source": [
    "demand_path = os.path.realpath(\"resources\")+\"/ssp2-2.6/2050/era5_2013/Afric.nc\""
   ]
  },
  {
   "cell_type": "code",
   "execution_count": null,
   "metadata": {},
   "outputs": [],
   "source": [
    "demand_path = os.path.realpath(\"resources\")+\"/ssp2-2.6/2050/era5_2013/Africa.nc\"\n",
    "demand = xr.open_dataset(demand_path)"
   ]
  },
  {
   "cell_type": "code",
   "execution_count": null,
   "metadata": {},
   "outputs": [],
   "source": [
    "demand.region_code"
   ]
  },
  {
   "cell_type": "code",
   "execution_count": null,
   "metadata": {},
   "outputs": [],
   "source": [
    "demand"
   ]
  },
  {
   "cell_type": "code",
   "execution_count": null,
   "metadata": {},
   "outputs": [],
   "source": [
    "demand[\"Electricity demand\"].sel(region_code=\"NG\").plot()"
   ]
  },
  {
   "cell_type": "markdown",
   "metadata": {},
   "source": [
    "# Updating demand of countries"
   ]
  },
  {
   "cell_type": "code",
   "execution_count": null,
   "metadata": {},
   "outputs": [],
   "source": [
    "countries = ['MW', 'LS', 'GN', 'SZ', 'GQ', 'MG', 'MR', 'SL', 'CF', 'TD', 'EH', 'GM', 'LR', 'BF', 'DJ', 'RW', 'ML', 'SO', 'GW']\n",
    "gdp = [12, 1.85, 15.6, 3.96, 10, 13.72, 7.7, 3.86, 2.3, 10, 0.9, 1.9, 2.95, 17.37, 3.38, 10.33, 17.39, 4.92, 1.43] # Billion USD (2020)\n",
    "pop = [19.1, 2.1, 13.1, 1.2, 1.4, 27.7, 4.65, 21.9, 4.8, 16.4, 0.6, 2.4, 5.0, 20.9, 1, 13, 20, 15.9, 2]\n",
    "base_country = ['NG']\n",
    "base_gdp = 432 \n",
    "base_pop = 206"
   ]
  },
  {
   "cell_type": "code",
   "execution_count": null,
   "metadata": {},
   "outputs": [],
   "source": [
    "ds = demand"
   ]
  },
  {
   "cell_type": "code",
   "execution_count": null,
   "metadata": {},
   "outputs": [],
   "source": [
    "# Updates each missing load country to Nigeria based on GDP and Nigerias timeseries\n",
    "for i in range(0, len(countries), 1):\n",
    "    ds.loc[dict(region_code=countries[i])] = demand.loc[dict(region_code=\"NG\")]*((gdp[i]/pop[i])/(base_gdp/base_pop))"
   ]
  },
  {
   "cell_type": "code",
   "execution_count": null,
   "metadata": {},
   "outputs": [],
   "source": [
    "# Test if Malawi has now inputs\n",
    "ds.loc[dict(region_code=\"LR\")][\"Electricity demand\"].sum()"
   ]
  },
  {
   "cell_type": "markdown",
   "metadata": {},
   "source": [
    "## Export netcdf\n",
    "uncomment the below function out to save Africa.nc (info: `.` in the path equals `os.getcwd()`)"
   ]
  },
  {
   "cell_type": "code",
   "execution_count": null,
   "metadata": {},
   "outputs": [],
   "source": [
    "ds.to_netcdf(path='./Africa.nc')"
   ]
  },
  {
   "cell_type": "markdown",
   "metadata": {},
   "source": [
    "# TEST NEW FUNCTION\n",
    "Combine all weather years and predictions to one .nc file.\n",
    "Unsolved challenge, how to concat the .nc files\n",
    "Probably best to wait for a GEGIS Python developments"
   ]
  },
  {
   "cell_type": "markdown",
   "metadata": {},
   "source": [
    "## Reading the path of all .nc files"
   ]
  },
  {
   "cell_type": "code",
   "execution_count": null,
   "metadata": {},
   "outputs": [],
   "source": [
    "path = os.path.realpath(\"resources/ssp2-2.6\")\n",
    "#we shall store all the file names in this list\n",
    "filelist = []\n",
    "\n",
    "for root, dirs, files in os.walk(path):\n",
    "\tfor file in files:\n",
    "        #append the file name to the list\n",
    "\t\tfilelist.append(os.path.join(root,file))\n",
    "\n",
    "#print all the file names\n",
    "str_end = \"Africa.nc\"\n",
    "filelist_filtered = [x for x in filelist if x.endswith(str_end)]\n",
    "filelist_filtered"
   ]
  },
  {
   "cell_type": "code",
   "execution_count": null,
   "metadata": {},
   "outputs": [],
   "source": [
    "# How to concat these nc files to one? Does it make sense"
   ]
  }
 ],
 "metadata": {
  "@webio": {
   "lastCommId": null,
   "lastKernelId": null
  },
  "interpreter": {
   "hash": "b34881217c78f48c1cb2cd3434cb375f471e98a15a99a90b485a8349351a20f8"
  },
  "kernelspec": {
   "display_name": "pypsa-africa",
   "language": "python",
   "name": "python3"
  },
  "language_info": {
   "codemirror_mode": {
    "name": "ipython",
    "version": 3
   },
   "file_extension": ".py",
   "mimetype": "text/x-python",
   "name": "python",
   "nbconvert_exporter": "python",
   "pygments_lexer": "ipython3",
   "version": "3.9.7"
  }
 },
 "nbformat": 4,
 "nbformat_minor": 4
}

{
 "cells": [
  {
   "cell_type": "markdown",
   "metadata": {},
   "source": [
    "# Exploring `build_shapes.py` outputs\n",
    "\n",
    "### Jupyter notebook needs to be improves"
   ]
  },
  {
   "cell_type": "code",
   "execution_count": null,
   "metadata": {},
   "outputs": [],
   "source": [
    "import xarray as xr\n",
    "import geopandas as gpd\n",
    "import pandas as pd\n",
    "import matplotlib.pyplot as plt\n",
    "import numpy as np\n",
    "import requests\n",
    "import pypsa\n",
    "import shutil\n",
    "from rasterio.plot import show\n",
    "\n",
    "import os\n",
    "import sys\n",
    "\n",
    "sys.path.append(\"../\")  # to import helpers\n",
    "from scripts._helpers import sets_path_to_root\n",
    "\n",
    "sets_path_to_root(\"pypsa-africa\")"
   ]
  },
  {
   "cell_type": "code",
   "execution_count": null,
   "metadata": {},
   "outputs": [],
   "source": [
    "continent = gpd.read_file(\"resources/shapes/country_shapes.geojson\")\n",
    "off_shore = gpd.read_file(\"resources/shapes/offshore_shapes.geojson\")\n",
    "off_shore_old = gpd.read_file(\"resources/shapes/offshore_shapes.geojson\")\n",
    "gadm = gpd.read_file(\"resources/shapes/gadm_shapes.geojson\")\n",
    "\n",
    "ax = continent.plot(figsize=(10, 10))\n",
    "off_shore.plot(ax=ax)"
   ]
  },
  {
   "cell_type": "code",
   "execution_count": null,
   "metadata": {},
   "outputs": [],
   "source": [
    "off_shore2 = off_shore[off_shore.name == \"NA\"]\n",
    "off_shore2.plot()"
   ]
  },
  {
   "cell_type": "code",
   "execution_count": null,
   "metadata": {},
   "outputs": [],
   "source": [
    "import matplotlib\n",
    "\n",
    "df_substations_osm_clean = gpd.read_file(\n",
    "    os.getcwd() + \"/resources/osm/clean/africa_all_substations.geojson\"\n",
    ")\n",
    "df_lines_osm_clean = gpd.read_file(\n",
    "    os.getcwd() + \"/resources/osm/clean/africa_all_lines.geojson\"\n",
    ")\n",
    "\n",
    "\n",
    "ax2 = gadm.plot(\n",
    "    column=\"pop\",\n",
    "    cmap=\"OrRd\",\n",
    "    figsize=(20, 20),\n",
    "    legend=True,\n",
    "    norm=matplotlib.colors.LogNorm(vmin=gadm[\"pop\"].min(), vmax=gadm[\"pop\"].max()),\n",
    ")  # column=\"pop\",\n",
    "off_shore.plot(ax=ax2, label=\"offshore\")\n",
    "df_lines_osm_clean.plot(ax=ax2, color=\"navy\")\n",
    "df_substations_osm_clean.plot(ax=ax2, color=\"papayawhip\", alpha=0.7, markersize=3)\n",
    "\n",
    "\n",
    "# plt.savefig(\"linkedin_post_small.png\")"
   ]
  },
  {
   "cell_type": "code",
   "execution_count": null,
   "metadata": {},
   "outputs": [],
   "source": [
    "ax3 = gadm.plot(column=\"pop\", cmap=\"OrRd\", figsize=(20, 20), legend=True)\n",
    "off_shore.plot(ax=ax2, label=\"offshore\")\n",
    "# plt.savefig(\"gadm_gdp.pdf\")"
   ]
  },
  {
   "cell_type": "code",
   "execution_count": null,
   "metadata": {},
   "outputs": [],
   "source": [
    "ret_df = off_shore.copy()\n",
    "off_shore.plot()\n",
    "\n",
    "for c_code in [\"SD\", \"KE\"]:\n",
    "    selection = ret_df.name == c_code\n",
    "    n_offshore_shapes = selection.sum()\n",
    "\n",
    "    if n_offshore_shapes > 1:\n",
    "        # when multiple shapes per country, then merge polygons\n",
    "\n",
    "        geom = ret_df[selection].geometry.unary_union\n",
    "        print(\"TO DROP: \", ret_df[selection].index)\n",
    "        ret_df.drop(ret_df[selection].index, inplace=True)\n",
    "        ret_df.iloc[-1] = [c_code, geom]\n",
    "ret_df.plot()"
   ]
  }
 ],
 "metadata": {
  "kernelspec": {
   "display_name": "Python 3.9.13 ('pypsa-africa')",
   "language": "python",
   "name": "python3"
  },
  "language_info": {
   "codemirror_mode": {
    "name": "ipython",
    "version": 3
   },
   "file_extension": ".py",
   "mimetype": "text/x-python",
   "name": "python",
   "nbconvert_exporter": "python",
   "pygments_lexer": "ipython3",
   "version": "3.9.13"
  },
  "vscode": {
   "interpreter": {
    "hash": "9cf24c4161cf9b5fb33ef9be908bda1439c8658e530339b1167da5d2ed581719"
   }
  }
 },
 "nbformat": 4,
 "nbformat_minor": 4
}

{
 "cells": [
  {
   "cell_type": "markdown",
   "metadata": {},
   "source": [
    "# Notebook for drawing nice pictures for posts or presentations\n",
    "\n",
    "In this notebook, we reproduce nice plottings to be used in linkedin posts and presentations.\n",
    "In particular, the following images can be reproduced:\n",
    "- Image of the network and the population obtained in the gadm shapes "
   ]
  },
  {
   "cell_type": "markdown",
   "metadata": {},
   "source": [
    "## Parameters and imports\n",
    "### Paths"
   ]
  },
  {
   "cell_type": "code",
   "execution_count": null,
   "metadata": {},
   "outputs": [],
   "source": [
    "# Paths of build shapes\n",
    "# path of the country shapes\n",
    "path_country_shapes = 'resources/country_shapes.geojson'\n",
    "# path of the off shore shapes\n",
    "path_off_shore_shapes = 'resources/offshore_shapes.geojson'\n",
    "# path of the gadm shapes\n",
    "path_gadm_shapes = 'resources/gadm_shapes.geojson'\n",
    "\n",
    "# Path of the OSM data\n",
    "# raw OSM substation data\n",
    "path_raw_substations = 'data/raw/africa_all_raw_substations.geojson'\n",
    "# raw OSM lines data\n",
    "path_raw_lines = 'data/raw/africa_all_raw_lines.geojson'\n",
    "\n",
    "# network paths\n",
    "path_cluster_network = 'networks/elec_s_100.nc'\n",
    "# solve network output\n",
    "solved_network_path = 'results/networks/elec_s_100_ec_lcopt_Co2L-3H.nc'\n",
    "\n",
    "# Images setups\n",
    "max_width_image = 20\n",
    "max_height_image = 20\n",
    "dpi=300"
   ]
  },
  {
   "cell_type": "markdown",
   "metadata": {},
   "source": [
    "### Python imports"
   ]
  },
  {
   "cell_type": "code",
   "execution_count": null,
   "metadata": {},
   "outputs": [],
   "source": [
    "import xarray as xr\n",
    "import geopandas as gpd\n",
    "import pandas as pd\n",
    "import matplotlib.pyplot as plt\n",
    "import matplotlib\n",
    "import numpy as np\n",
    "import requests\n",
    "import pypsa\n",
    "import shutil\n",
    "from rasterio.plot import show\n",
    "from shapely.wkt import loads\n",
    "from shapely.geometry import Point\n",
    "from shapely.geometry import LineString\n",
    "\n",
    "import os\n",
    "import sys\n",
    "sys.path.append('../')  # to import helpers\n",
    "from scripts._helpers import sets_path_to_root\n",
    "sets_path_to_root(\"pypsa-africa\")\n",
    "sys.path.append('./scripts')  # to import helpers\n",
    "from download_osm_data import create_country_list"
   ]
  },
  {
   "cell_type": "markdown",
   "metadata": {},
   "source": [
    "### Auxiliary functions"
   ]
  },
  {
   "cell_type": "code",
   "execution_count": null,
   "metadata": {},
   "outputs": [],
   "source": [
    "def calculate_width_height_image(width_image,\n",
    "                           height_image,\n",
    "                           max_width=max_width_image,\n",
    "                           max_height=max_height_image):\n",
    "    \"\"\"\n",
    "    Function to identify the width and height of an image to plot\n",
    "    while keeping the proportions of the image\n",
    "    \"\"\"\n",
    "    if width_image/height_image >= max_width/max_height:\n",
    "        # image width is the limiting factor\n",
    "        return (width_image, max_width/width_image*height_image)\n",
    "    else:\n",
    "        # image height is the limiting factor\n",
    "        return (max_height/height_image*width_image, max_height)"
   ]
  },
  {
   "cell_type": "markdown",
   "metadata": {},
   "source": [
    "### File imports"
   ]
  },
  {
   "cell_type": "code",
   "execution_count": null,
   "metadata": {},
   "outputs": [],
   "source": [
    "# gadm file imports\n",
    "countries = gpd.read_file(path_country_shapes)\n",
    "off_shore = gpd.read_file(path_off_shore_shapes)\n",
    "gadm = gpd.read_file(path_gadm_shapes)\n",
    "\n",
    "# OSM data imports\n",
    "df_substations_osm_raw = gpd.read_file(path_raw_substations)\n",
    "df_lines_osm_raw = gpd.read_file(path_raw_lines)\n",
    "\n",
    "# network imports\n",
    "# cluster network\n",
    "n_c = pypsa.Network(path_cluster_network)\n",
    "# solved network\n",
    "n_solve = pypsa.Network(solved_network_path)"
   ]
  },
  {
   "cell_type": "markdown",
   "metadata": {},
   "source": [
    "## Continent and raw OSM data"
   ]
  },
  {
   "cell_type": "markdown",
   "metadata": {},
   "source": [
    "### Plot for the entire area downloaded"
   ]
  },
  {
   "cell_type": "code",
   "execution_count": null,
   "metadata": {},
   "outputs": [],
   "source": [
    "total_bounds_countries = countries.total_bounds\n",
    "delta_bounds_xy = (total_bounds_countries[2] - total_bounds_countries[0],  # maxx - minx\n",
    "                    total_bounds_countries[3] - total_bounds_countries[1])  # maxy - miny\n",
    "\n",
    "size_image = calculate_width_height_image(*delta_bounds_xy)\n",
    "\n",
    "ax2= gadm.plot(\n",
    "    column=\"pop\",\n",
    "    cmap='OrRd',\n",
    "    figsize=size_image,\n",
    "    legend=None,\n",
    "    norm=matplotlib.colors.LogNorm(vmin=gadm[\"pop\"].min()+1,\n",
    "    vmax=gadm[\"pop\"].max(),clip=True)) #column=\"pop\", \n",
    "off_shore.plot(ax=ax2, label=\"offshore\")\n",
    "df_lines_osm_raw.plot(ax=ax2, color=\"navy\")\n",
    "df_substations_osm_raw.plot(ax=ax2, color=\"papayawhip\", alpha=0.7, markersize = 3)\n",
    "\n",
    "plt.axis(\"off\")\n",
    "plt.savefig(\"continent_image.png\", dpi=dpi)"
   ]
  },
  {
   "cell_type": "markdown",
   "metadata": {},
   "source": [
    "### Plot for a subregion specified by a string as in \"countries\" config"
   ]
  },
  {
   "cell_type": "code",
   "execution_count": null,
   "metadata": {},
   "outputs": [],
   "source": [
    "region = [\"africa\"]\n",
    "\n",
    "list_countries = create_country_list(region)\n",
    "\n",
    "ax2= gadm[gadm.country.isin(list_countries)].plot(\n",
    "    column=\"pop\",\n",
    "    cmap='OrRd',\n",
    "    figsize=size_image,\n",
    "    legend=None,\n",
    "    norm=matplotlib.colors.LogNorm(vmin=gadm[\"pop\"].min()+1,\n",
    "    vmax=gadm[\"pop\"].max(),clip=True)) #column=\"pop\", \n",
    "off_shore[off_shore.name.isin(list_countries)].plot(ax=ax2, label=\"offshore\")\n",
    "df_lines_osm_raw[df_lines_osm_raw.Country.isin(list_countries)].plot(ax=ax2, color=\"navy\")\n",
    "df_substations_osm_raw[df_substations_osm_raw.Country.isin(list_countries)].plot(\n",
    "    ax=ax2, color=\"papayawhip\", alpha=0.7, markersize = 3)\n",
    "\n",
    "plt.axis(\"off\")\n",
    "plt.savefig(\"region_image.png\", dpi=dpi)"
   ]
  },
  {
   "cell_type": "markdown",
   "metadata": {},
   "source": [
    "### Plot country shape and OSM data"
   ]
  },
  {
   "cell_type": "code",
   "execution_count": null,
   "metadata": {},
   "outputs": [],
   "source": [
    "ax = countries.boundary.plot(figsize=(10,10))\n",
    "# off_shore.plot(ax=ax)\n",
    "df_substations_osm_raw.plot(ax=ax, color=\"blue\")\n",
    "df_lines_osm_raw.plot(ax=ax, color=\"orange\")\n",
    "plt.axis('off')\n",
    "plt.savefig(\"border_osm_total.png\", dpi=dpi)"
   ]
  },
  {
   "cell_type": "markdown",
   "metadata": {},
   "source": [
    "### Plot country shape and OSM data for the region"
   ]
  },
  {
   "cell_type": "code",
   "execution_count": null,
   "metadata": {},
   "outputs": [],
   "source": [
    "ax = countries[countries.name.isin(list_countries)].boundary.plot(figsize=(10,10))\n",
    "# off_shore.plot(ax=ax)\n",
    "df_substations_osm_raw[df_substations_osm_raw.Country.isin(list_countries)].plot(ax=ax, color=\"blue\")\n",
    "df_lines_osm_raw[df_lines_osm_raw.Country.isin(list_countries)].plot(ax=ax, color=\"orange\")\n",
    "plt.axis('off')\n",
    "plt.savefig(\"border_osm_region.png\", dpi=dpi)"
   ]
  },
  {
   "cell_type": "markdown",
   "metadata": {},
   "source": [
    "### Plot country shape and OSM data for a specific country"
   ]
  },
  {
   "cell_type": "code",
   "execution_count": null,
   "metadata": {},
   "outputs": [],
   "source": [
    "specific_country = [\"NG\"]\n",
    "\n",
    "ax = gadm[gadm.country.isin(specific_country)].boundary.plot(figsize=(4,4))\n",
    "# off_shore.plot(ax=ax)\n",
    "df_substations_osm_raw[df_substations_osm_raw.Country.isin(specific_country)].plot(ax=ax, color=\"blue\")\n",
    "df_lines_osm_raw[df_lines_osm_raw.Country.isin(specific_country)].plot(ax=ax, color=\"orange\")\n",
    "plt.axis('off')\n",
    "plt.savefig(\"border_osm_specificregion.png\", dpi=dpi)"
   ]
  },
  {
   "cell_type": "markdown",
   "metadata": {},
   "source": [
    "## Cluster network features"
   ]
  },
  {
   "cell_type": "markdown",
   "metadata": {},
   "source": [
    "### Plot cluster network"
   ]
  },
  {
   "cell_type": "code",
   "execution_count": null,
   "metadata": {},
   "outputs": [],
   "source": [
    "# buses dataframe\n",
    "buses_c = n_c.buses\n",
    "buses_c[\"geometry\"] = gpd.points_from_xy(buses_c.x, buses_c.y)\n",
    "buses_c = gpd.GeoDataFrame(buses_c, crs='epsg:4326')\n",
    "\n",
    "# lines dataframe\n",
    "lines_c = n_c.lines\n",
    "lines_c['geometry'] = lines_c.apply(lambda x: LineString([buses_c.loc[x[\"bus0\"], \"geometry\"], buses_c.loc[x[\"bus1\"], \"geometry\"]]), axis=1)\n",
    "lines_c = gpd.GeoDataFrame(lines_c, crs='epsg:4326')\n",
    "\n",
    "n_c.plot(bus_colors=\"blue\", line_colors=\"orange\")\n",
    "\n",
    "plt.savefig(\"cluster_network.png\", dpi=dpi)"
   ]
  },
  {
   "cell_type": "markdown",
   "metadata": {},
   "source": [
    "## Data report on installed generation"
   ]
  },
  {
   "cell_type": "code",
   "execution_count": null,
   "metadata": {},
   "outputs": [],
   "source": [
    "# filter only generators\n",
    "generators = n_solve.generators\n",
    "\n",
    "# obtain installed generation by carrier\n",
    "generators.groupby(by='carrier')['p_nom_opt'].sum()"
   ]
  },
  {
   "cell_type": "code",
   "execution_count": null,
   "metadata": {},
   "outputs": [],
   "source": [
    "n_solve.links.groupby(by='carrier')['p_nom_opt'].sum()"
   ]
  },
  {
   "cell_type": "code",
   "execution_count": null,
   "metadata": {},
   "outputs": [],
   "source": [
    "n_solve.storage_units.groupby(by='carrier')['p_nom_opt'].sum()/1000"
   ]
  },
  {
   "cell_type": "code",
   "execution_count": null,
   "metadata": {},
   "outputs": [],
   "source": [
    "n_solve.storage_units"
   ]
  }
 ],
 "metadata": {
  "interpreter": {
   "hash": "93061c673ce33a785d7c590269df2a13242973b51d41b0d96d8b2a166e219992"
  },
  "kernelspec": {
   "display_name": "Python 3.9.7 64-bit ('pypsa-africa': conda)",
   "language": "python",
   "name": "python3"
  },
  "language_info": {
   "codemirror_mode": {
    "name": "ipython",
    "version": 3
   },
   "file_extension": ".py",
   "mimetype": "text/x-python",
   "name": "python",
   "nbconvert_exporter": "python",
   "pygments_lexer": "ipython3",
   "version": "3.9.7"
  },
  "orig_nbformat": 4
 },
 "nbformat": 4,
 "nbformat_minor": 2
}

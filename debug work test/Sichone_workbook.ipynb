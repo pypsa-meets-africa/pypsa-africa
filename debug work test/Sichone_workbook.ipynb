{
 "cells": [
  {
   "cell_type": "code",
   "execution_count": 4,
   "metadata": {},
   "outputs": [],
   "source": [
    "# necessary imports\n",
    "import pypsa\n",
    "import pandas as pd\n",
    "import matplotlib.pyplot as plt\n",
    "import os\n",
    "import sys\n"
   ]
  },
  {
   "cell_type": "code",
   "execution_count": 5,
   "metadata": {},
   "outputs": [],
   "source": [
    "# change path\n",
    "if not os.path.isdir(\"debug work test\"):\n",
    "    os.chdir(\"..\")\n",
    "sys.path.append(os.path.dirname(os.getcwd())+\"/pypsa-earth\")"
   ]
  },
  {
   "cell_type": "markdown",
   "metadata": {},
   "source": [
    "Analysis begins here, reference to Sichone script"
   ]
  },
  {
   "cell_type": "code",
   "execution_count": 6,
   "metadata": {},
   "outputs": [],
   "source": [
    "# show all pandas dataframe columns\n",
    "pd.set_option(\"display.max_columns\", None)\n",
    "\n",
    "# create a pypsa network\n",
    "n =pypsa.Network()\n",
    "\n",
    "# create a monthly snapshot\n",
    "index = pd.range_"
   ]
  }
 ],
 "metadata": {
  "kernelspec": {
   "display_name": "pypsa-earth",
   "language": "python",
   "name": "python3"
  },
  "language_info": {
   "codemirror_mode": {
    "name": "ipython",
    "version": 3
   },
   "file_extension": ".py",
   "mimetype": "text/x-python",
   "name": "python",
   "nbconvert_exporter": "python",
   "pygments_lexer": "ipython3",
   "version": "3.10.13"
  }
 },
 "nbformat": 4,
 "nbformat_minor": 2
}

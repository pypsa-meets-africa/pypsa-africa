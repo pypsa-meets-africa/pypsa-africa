{
 "cells": [
  {
   "cell_type": "code",
   "execution_count": 1,
   "id": "035ae108-49af-4f41-aa5a-f2b05b7ab312",
   "metadata": {},
   "outputs": [
    {
     "name": "stderr",
     "output_type": "stream",
     "text": [
      "c:\\Users\\kmaca\\anaconda3\\envs\\pypsa-earth\\lib\\site-packages\\pypsa\\networkclustering.py:16: UserWarning: The namespace `pypsa.networkclustering` is deprecated and will be removed in PyPSA v0.24. Please use `pypsa.clustering.spatial instead`. \n",
      "  warnings.warn(\n"
     ]
    }
   ],
   "source": [
    "import pypsa\n",
    "import matplotlib.pyplot as plt\n",
    "plt.style.use(\"bmh\")\n",
    "%matplotlib inline"
   ]
  },
  {
   "cell_type": "code",
   "execution_count": 2,
   "id": "b1f07ac7-06f4-48f0-83cc-c85b4061b190",
   "metadata": {},
   "outputs": [
    {
     "ename": "ValueError",
     "evalue": "import_name 'networks\\resources\\renewable_profiles\\profile_hydro' is not a valid .h5 file, .nc file or directory.",
     "output_type": "error",
     "traceback": [
      "\u001b[1;31m---------------------------------------------------------------------------\u001b[0m",
      "\u001b[1;31mValueError\u001b[0m                                Traceback (most recent call last)",
      "Cell \u001b[1;32mIn[2], line 1\u001b[0m\n\u001b[1;32m----> 1\u001b[0m n \u001b[39m=\u001b[39m pypsa\u001b[39m.\u001b[39;49mNetwork(\u001b[39m\"\u001b[39;49m\u001b[39mnetworks/resources/renewable_profiles/profile_hydro\u001b[39;49m\u001b[39m\"\u001b[39;49m)\n",
      "File \u001b[1;32mc:\\Users\\kmaca\\anaconda3\\envs\\pypsa-earth\\lib\\site-packages\\pypsa\\components.py:347\u001b[0m, in \u001b[0;36mNetwork.__init__\u001b[1;34m(self, import_name, name, ignore_standard_types, override_components, override_component_attrs, **kwargs)\u001b[0m\n\u001b[0;32m    345\u001b[0m         \u001b[39mself\u001b[39m\u001b[39m.\u001b[39mimport_from_csv_folder(import_name)\n\u001b[0;32m    346\u001b[0m     \u001b[39melse\u001b[39;00m:\n\u001b[1;32m--> 347\u001b[0m         \u001b[39mraise\u001b[39;00m \u001b[39mValueError\u001b[39;00m(\n\u001b[0;32m    348\u001b[0m             \u001b[39mf\u001b[39m\u001b[39m\"\u001b[39m\u001b[39mimport_name \u001b[39m\u001b[39m'\u001b[39m\u001b[39m{\u001b[39;00mimport_name\u001b[39m}\u001b[39;00m\u001b[39m'\u001b[39m\u001b[39m is not a valid .h5 file, .nc file or directory.\u001b[39m\u001b[39m\"\u001b[39m\n\u001b[0;32m    349\u001b[0m         )\n\u001b[0;32m    351\u001b[0m \u001b[39mfor\u001b[39;00m key, value \u001b[39min\u001b[39;00m kwargs\u001b[39m.\u001b[39mitems():\n\u001b[0;32m    352\u001b[0m     \u001b[39msetattr\u001b[39m(\u001b[39mself\u001b[39m, key, value)\n",
      "\u001b[1;31mValueError\u001b[0m: import_name 'networks\\resources\\renewable_profiles\\profile_hydro' is not a valid .h5 file, .nc file or directory."
     ]
    }
   ],
   "source": [
    "n = pypsa.Network(\"networks/resources/renewable_profiles/profile_hydro\")"
   ]
  },
  {
   "cell_type": "code",
   "execution_count": null,
   "id": "f3e6c015-2b68-4ef9-9133-a4862bf22c0b",
   "metadata": {},
   "outputs": [],
   "source": [
    "n.plot();"
   ]
  },
  {
   "cell_type": "code",
   "execution_count": null,
   "id": "b5d6b0d3-a27d-4dd1-8259-c2bd808d3a50",
   "metadata": {},
   "outputs": [],
   "source": [
    "for c in n.iterate_components(list(n.components.keys())[2:]): print(\"component '{}'has {} entries\".format(c.name,len(c.df)))"
   ]
  },
  {
   "cell_type": "code",
   "execution_count": null,
   "id": "d2e173f6-4022-495d-b29c-96e3a56006f1",
   "metadata": {},
   "outputs": [],
   "source": [
    "#Temporal Resolution"
   ]
  },
  {
   "cell_type": "code",
   "execution_count": null,
   "id": "ea84c2a7-2722-44d7-8d98-8dd90d4eb479",
   "metadata": {},
   "outputs": [],
   "source": [
    "n.snapshots[:10]"
   ]
  },
  {
   "cell_type": "code",
   "execution_count": null,
   "id": "6f97a92d-7732-4b8d-91f3-bce0d5303ebe",
   "metadata": {},
   "outputs": [],
   "source": [
    "len(n.snapshots)"
   ]
  },
  {
   "cell_type": "code",
   "execution_count": null,
   "id": "acdd64cc-bf76-4ed2-926a-44d68dd52df3",
   "metadata": {},
   "outputs": [],
   "source": [
    "#static component data"
   ]
  },
  {
   "cell_type": "code",
   "execution_count": null,
   "id": "a7b859a7-c248-4d6b-9afb-caf79d38d4d1",
   "metadata": {},
   "outputs": [],
   "source": [
    "n.lines.head()"
   ]
  },
  {
   "cell_type": "code",
   "execution_count": null,
   "id": "cd2d88f7-b3bd-46bf-8c48-19bdf54d668d",
   "metadata": {},
   "outputs": [],
   "source": [
    "n.generators.head()"
   ]
  },
  {
   "cell_type": "code",
   "execution_count": null,
   "id": "2af066e0-c7b7-4132-8269-77698322a18f",
   "metadata": {},
   "outputs": [],
   "source": [
    "n.storage.units.head()"
   ]
  },
  {
   "cell_type": "code",
   "execution_count": null,
   "id": "85abd534-21af-4385-b7c9-fcfaf83eb39f",
   "metadata": {},
   "outputs": [],
   "source": [
    "n.loads.head()"
   ]
  },
  {
   "cell_type": "code",
   "execution_count": null,
   "id": "2cb6f357-b5ff-4e66-a7d4-24b1e0c72e02",
   "metadata": {},
   "outputs": [],
   "source": [
    "#Time-varying component data"
   ]
  },
  {
   "cell_type": "code",
   "execution_count": null,
   "id": "40fa6845-bce0-4c29-80c1-456ba6b9da22",
   "metadata": {},
   "outputs": [],
   "source": [
    "n.loads_t.p_set.head()"
   ]
  },
  {
   "cell_type": "code",
   "execution_count": null,
   "id": "f8dd955a-a624-44d1-ad7c-a60af4a6c85b",
   "metadata": {},
   "outputs": [],
   "source": [
    "n.loads_t.p_set.sum(axis=1).plot(figsize)"
   ]
  },
  {
   "cell_type": "code",
   "execution_count": null,
   "id": "ab70d04c-6255-4a5d-a4da-a1e932e501a0",
   "metadata": {},
   "outputs": [],
   "source": [
    "n.loads_t.p_set.sum(axis=1).plot(figsize=(15,3))"
   ]
  },
  {
   "cell_type": "code",
   "execution_count": null,
   "id": "87038a13-fd36-4809-a2f9-1cf91fc21cb4",
   "metadata": {},
   "outputs": [],
   "source": [
    "n.generators_t.p_max_pu.head()"
   ]
  },
  {
   "cell_type": "code",
   "execution_count": null,
   "id": "e9cb8c5e-4ed8-4603-b6c2-11082acb0c9f",
   "metadata": {},
   "outputs": [],
   "source": [
    "n.loads_t.p_max_pu.loc[\"2013-07\", \"NG0 0 solar\"].plot(figsize=(15,1))"
   ]
  },
  {
   "cell_type": "code",
   "execution_count": null,
   "id": "4ec46618-122c-481b-a3f1-fb94f7c005cc",
   "metadata": {},
   "outputs": [],
   "source": [
    "n.loads_t.p_max_pu.loc[\"2013-07\":\"2013-09\", \"NG0 0 onwind\"].plot(figsize=(15,3))"
   ]
  },
  {
   "cell_type": "code",
   "execution_count": null,
   "id": "9079df48-6b61-4fd8-8f9f-2d27cf294dcf",
   "metadata": {},
   "outputs": [],
   "source": [
    "# Total Annual System Costs"
   ]
  },
  {
   "cell_type": "code",
   "execution_count": null,
   "id": "00faf8b3-573c-49e5-8c91-37fa68aad5a6",
   "metadata": {},
   "outputs": [],
   "source": [
    "n.objective / le9 #billion euros p.a."
   ]
  },
  {
   "cell_type": "code",
   "execution_count": null,
   "id": "e0ae3a81-314e-488d-b5b0-cb191f117c79",
   "metadata": {},
   "outputs": [],
   "source": [
    "# Transmission line expansion\n",
    "n.lines.s_nom_opt - n.lines.s_nom).head(5)"
   ]
  },
  {
   "cell_type": "code",
   "execution_count": null,
   "id": "f9e6a24c-b8fd-4537-bbaf-e9a7ffcce550",
   "metadata": {},
   "outputs": [],
   "source": [
    "#Optimal Gnerator/Storage Capacities\n",
    "n.generators.groupby(\"carrier\").p_nom_opt.sum() /le3 #GW"
   ]
  },
  {
   "cell_type": "code",
   "execution_count": null,
   "id": "1bfce616-4efb-4f0a-bf6b-1c29aaa48a27",
   "metadata": {},
   "outputs": [],
   "source": [
    "n.storage.units.groupby(\"carrier\").p_nom_opt.sum() /le3 #GW"
   ]
  },
  {
   "cell_type": "code",
   "execution_count": null,
   "id": "55334205-07e6-4046-9462-ed31be7e2ae1",
   "metadata": {},
   "outputs": [],
   "source": [
    "#Energy Storage\n",
    "(n.storage_units_t.state_of_charge.sum(axis=1).resample('D').mean() / le6).plot(figsize=(15,3))"
   ]
  },
  {
   "cell_type": "code",
   "execution_count": null,
   "id": "e3b765ad-40cc-4179-afb1-04f027819bbb",
   "metadata": {},
   "outputs": [],
   "source": [
    "(n.storage_units_t.state_of_charge[\"2013-07\"].filter(like=\"battery\", axis=1).sum(axis=1) / 1e6).plot(figsize=(15,3))\n",
    "n.storage_units_t.state_of_charge.filter(like=\"H2\", axis=1).sum(axis=1) / 1e6).plot(figsize=(15,3))\n",
    "n.storage_units_t.state_of_charge.filter(like=\"hydro\", axis=1).sum(axis=1) / 1e6).plot(figsize=(15,3))"
   ]
  },
  {
   "cell_type": "code",
   "execution_count": null,
   "id": "49769b14-6a81-4cb1-b347-6a7c12e20ce8",
   "metadata": {},
   "outputs": [],
   "source": [
    "#plotting Networks\n",
    "import cartopy.crs as ccrs\n",
    "loading = (n.lines_t.p0.abs().mean().sort_index()/n.lines.s_nom_opt*n.lines.s_max_pu).sort_index()).fallna(0.)\n",
    "#PlateCarree, Mercator, Orthographic\n",
    "fig.ax = plt.subplots(\n",
    "    figsize = (10,10),\n",
    "    subplot_kw=(\"projection\": ccrs.Mercator()}\n",
    "               )\n",
    "n.plot(ax=ax,\n",
    "       bus_colors=\"gray\",\n",
    "       branch_components=[\"Line\"],\n",
    "       line_widths=n.lines.s_nom_opt/3e3,\n",
    "       line_colors=loading,\n",
    "       line_cmap=plt.cm.viridis,\n",
    "       color_geomap=true,\n",
    "       bus_sizes=0)\n",
    "ax.axis('off');\n",
    "       "
   ]
  }
 ],
 "metadata": {
  "kernelspec": {
   "display_name": "Python 3 (ipykernel)",
   "language": "python",
   "name": "python3"
  },
  "language_info": {
   "codemirror_mode": {
    "name": "ipython",
    "version": 3
   },
   "file_extension": ".py",
   "mimetype": "text/x-python",
   "name": "python",
   "nbconvert_exporter": "python",
   "pygments_lexer": "ipython3",
   "version": "3.10.12"
  }
 },
 "nbformat": 4,
 "nbformat_minor": 5
}
